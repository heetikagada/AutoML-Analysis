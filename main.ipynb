{
 "cells": [
  {
   "cell_type": "code",
   "execution_count": 26,
   "metadata": {},
   "outputs": [],
   "source": [
    "import autosklearn.classification\n",
    "import pandas as pd\n",
    "import numpy as np\n",
    "import sklearn.model_selection\n",
    "import sklearn.metrics\n",
    "from sklearn.model_selection import train_test_split\n",
    "from sklearn.datasets import fetch_openml\n",
    "import h2o\n",
    "from h2o.automl import H2OAutoML\n",
    "from tpot import TPOTClassifier\n",
    "from sklearn.metrics import log_loss\n",
    "from sklearn.metrics import classification_report\n",
    "import time"
   ]
  },
  {
   "cell_type": "code",
   "execution_count": 27,
   "metadata": {},
   "outputs": [],
   "source": [
    "def autosklearn_classification(X_train, y_train, X_test):\n",
    "    \n",
    "    #time_left_for_this_task=3600, per_run_time_limit=360. Use these arguments for a faster less accurate search\n",
    "    automl = autosklearn.classification.AutoSklearnClassifier() \n",
    "    automl.fit(X_train, y_train)\n",
    "    predictions = automl.predict(X_test)\n",
    "    predictions_proba = automl.predict_proba(X_test)[:,1]\n",
    "    text_file = open(\"models_tried.txt\", \"w+\")\n",
    "    n = text_file.write(str(automl.show_models()))\n",
    "    n = text_file.write(str(automl.sprint_statistics()))\n",
    "    text_file.close()\n",
    "    return (predictions,predictions_proba)\n",
    "    "
   ]
  },
  {
   "cell_type": "code",
   "execution_count": 5,
   "metadata": {},
   "outputs": [],
   "source": [
    "def tpot_classification(X_train, y_train, X_test):\n",
    "    \n",
    "    tpot = TPOTClassifier(generations=5, population_size=50, verbosity=2, random_state=1)\n",
    "    tpot.fit(X_train, y_train)\n",
    "    predictions = tpot.predict(X_test)\n",
    "    predictions_proba = tpot.predict_proba(X_test)[:,1]\n",
    "    return (predictions, predictions_proba)\n"
   ]
  },
  {
   "cell_type": "code",
   "execution_count": 28,
   "metadata": {},
   "outputs": [],
   "source": [
    "def h2o_classifications(X_train, y_train, X_test, target):\n",
    "    \n",
    "    h2o.init()\n",
    "    aml = H2OAutoML()\n",
    "    train_hf = pd.concat([X_train, y_train], axis=1)\n",
    "    train_hf = h2o.H2OFrame(train_hf)\n",
    "    train_hf[target] = train_hf[target].asfactor()\n",
    "    aml.train(y = target, training_frame = train_hf)\n",
    "    response = aml.predict(h2o.H2OFrame(X_test))\n",
    "    print(\"various models tested:\")\n",
    "    lb = h2o.automl.get_leaderboard(aml, extra_columns = 'ALL')\n",
    "    print(lb)\n",
    "    return response"
   ]
  },
  {
   "cell_type": "code",
   "execution_count": 41,
   "metadata": {},
   "outputs": [],
   "source": [
    "def metric_calculator(framework, dataset, y_test, predictions):\n",
    "    \n",
    "    if framework ==\"H2O\":   \n",
    "        print(\"Framework: \", framework)\n",
    "        ll = log_loss(y_test, predictions.as_data_frame().iloc[:,1:])\n",
    "        print(\"log loss: \",ll)\n",
    "        accuracy = sklearn.metrics.accuracy_score(predictions.as_data_frame().iloc[:,0], y_test.astype('int64'))\n",
    "        print(\"accuracy: \",accuracy)\n",
    "        print(\"Classification report\")\n",
    "        print(classification_report(y_test.astype('int64'), predictions.as_data_frame().iloc[:,0]))\n",
    "    else:\n",
    "        print(\"Framework: \", framework)\n",
    "        ll = log_loss(y_test, predictions[1])\n",
    "        print(\"log loss: \",ll)\n",
    "        accuracy = sklearn.metrics.accuracy_score(predictions[0], y_test)\n",
    "        print(\"accuracy: \",accuracy)\n",
    "        print(\"Classification report\")\n",
    "        print(classification_report(y_test, predictions[0]))\n",
    "            "
   ]
  },
  {
   "cell_type": "markdown",
   "metadata": {},
   "source": [
    "### Dataset 1 - Wine quality dataset"
   ]
  },
  {
   "cell_type": "code",
   "execution_count": 30,
   "metadata": {},
   "outputs": [],
   "source": [
    "ds1_df = pd.read_csv(\"http://archive.ics.uci.edu/ml/machine-learning-databases/wine-quality/winequality-white.csv\",sep=\";\")\n",
    "\n",
    "X, y = ds1_df.iloc[:,:-1], ds1_df.iloc[:,-1]\n",
    "X_train, X_test, y_train, y_test = train_test_split(X, y, random_state=1)"
   ]
  },
  {
   "cell_type": "markdown",
   "metadata": {},
   "source": [
    "<b> Model Auto-sklearn </b>"
   ]
  },
  {
   "cell_type": "code",
   "execution_count": null,
   "metadata": {},
   "outputs": [
    {
     "name": "stderr",
     "output_type": "stream",
     "text": [
      "/opt/conda/lib/python3.7/site-packages/distributed/node.py:155: UserWarning: Port 8787 is already in use.\n",
      "Perhaps you already have a cluster running?\n",
      "Hosting the HTTP server on port 44905 instead\n",
      "  http_address[\"port\"], self.http_server.port\n"
     ]
    },
    {
     "name": "stdout",
     "output_type": "stream",
     "text": [
      "[WARNING] [2020-12-15 01:24:10,671:AutoML(1):85c68cd19b887b3aa699aa9c7b59a288] Time limit for a single run is higher than total time limit. Capping the limit for a single run to the total time given to SMAC (178.480937)\n",
      "[WARNING] [2020-12-15 01:24:10,673:AutoML(1):85c68cd19b887b3aa699aa9c7b59a288] Capping the per_run_time_limit to 89.0 to have time for a least 2 models in each process.\n"
     ]
    }
   ],
   "source": [
    "start_time = time.time()\n",
    "ds1_autosklearn_predictions = autosklearn_classification(X_train, y_train, X_test)"
   ]
  },
  {
   "cell_type": "code",
   "execution_count": 20,
   "metadata": {},
   "outputs": [
    {
     "name": "stdout",
     "output_type": "stream",
     "text": [
      "Framework:  auto-sklearn\n",
      "log loss: 0.4268143501\n",
      "accuracy:  0.6579591836734694\n",
      "Classification report\n",
      "              precision    recall  f1-score   support\n",
      "\n",
      "           3       0.00      0.00      0.00         2\n",
      "           4       0.56      0.14      0.22        37\n",
      "           5       0.72      0.63      0.67       368\n",
      "           6       0.61      0.84      0.71       544\n",
      "           7       0.78      0.44      0.56       233\n",
      "           8       0.91      0.24      0.38        41\n",
      "\n",
      "    accuracy                           0.66      1225\n",
      "   macro avg       0.60      0.38      0.42      1225\n",
      "weighted avg       0.68      0.66      0.64      1225\n",
      "\n",
      "total time elapsed:  4493.640509843826\n"
     ]
    },
    {
     "name": "stderr",
     "output_type": "stream",
     "text": [
      "/usr/local/lib/python3.9/site-packages/sklearn/metrics/_classification.py:1221: UndefinedMetricWarning: Precision and F-score are ill-defined and being set to 0.0 in labels with no predicted samples. Use `zero_division` parameter to control this behavior.\n",
      "  _warn_prf(average, modifier, msg_start, len(result))\n"
     ]
    }
   ],
   "source": [
    "metric_calculator(\"auto-sklearn\", \"wine quality\", y_test, ds1_autosklearn_predictions)\n",
    "end_time = time.time()\n",
    "print(\"total time elapsed: \",end_time - start_time)"
   ]
  },
  {
   "cell_type": "markdown",
   "metadata": {},
   "source": [
    "<b> Model TPOT </b>"
   ]
  },
  {
   "cell_type": "code",
   "execution_count": 7,
   "metadata": {},
   "outputs": [
    {
     "data": {
      "application/vnd.jupyter.widget-view+json": {
       "model_id": "",
       "version_major": 2,
       "version_minor": 0
      },
      "text/plain": [
       "HBox(children=(HTML(value='Optimization Progress'), FloatProgress(value=0.0, max=300.0), HTML(value='')))"
      ]
     },
     "metadata": {},
     "output_type": "display_data"
    },
    {
     "name": "stdout",
     "output_type": "stream",
     "text": [
      "\n",
      "Generation 1 - Current best internal CV score: 0.6553237316725056\n",
      "\n",
      "Generation 2 - Current best internal CV score: 0.6553237316725056\n",
      "\n",
      "Generation 3 - Current best internal CV score: 0.6555928747520807\n",
      "\n",
      "Generation 4 - Current best internal CV score: 0.6555928747520807\n",
      "\n",
      "Generation 5 - Current best internal CV score: 0.6555928747520807\n",
      "\n",
      "Best pipeline: KNeighborsClassifier(RobustScaler(input_matrix), n_neighbors=70, p=1, weights=distance)\n"
     ]
    }
   ],
   "source": [
    "start_time = time.time()\n",
    "ds1_tpot_predictions = tpot_classification(X_train, y_train, X_test)"
   ]
  },
  {
   "cell_type": "code",
   "execution_count": 18,
   "metadata": {},
   "outputs": [
    {
     "name": "stdout",
     "output_type": "stream",
     "text": [
      "Framework:  tpot\n",
      "accuracy:  0.6644897959183673\n",
      "Classification report\n"
     ]
    },
    {
     "name": "stderr",
     "output_type": "stream",
     "text": [
      "/opt/conda/lib/python3.7/site-packages/sklearn/metrics/_classification.py:1221: UndefinedMetricWarning: Precision and F-score are ill-defined and being set to 0.0 in labels with no predicted samples. Use `zero_division` parameter to control this behavior.\n",
      "  _warn_prf(average, modifier, msg_start, len(result))\n"
     ]
    },
    {
     "name": "stdout",
     "output_type": "stream",
     "text": [
      "              precision    recall  f1-score   support\n",
      "\n",
      "           3       0.00      0.00      0.00         2\n",
      "           4       1.00      0.03      0.05        37\n",
      "           5       0.73      0.60      0.66       368\n",
      "           6       0.61      0.85      0.71       544\n",
      "           7       0.76      0.50      0.60       233\n",
      "           8       1.00      0.32      0.48        41\n",
      "\n",
      "    accuracy                           0.66      1225\n",
      "   macro avg       0.68      0.38      0.42      1225\n",
      "weighted avg       0.70      0.66      0.65      1225\n",
      "\n",
      "total time elapsed:  2303.344337940216\n"
     ]
    }
   ],
   "source": [
    "metric_calculator(\"tpot\", \"wine quality\", y_test, ds1_tpot_predictions)\n",
    "end_time = time.time()\n",
    "print(\"total time elapsed: \",end_time - start_time)"
   ]
  },
  {
   "cell_type": "markdown",
   "metadata": {},
   "source": [
    "<b> Model H2O </b>"
   ]
  },
  {
   "cell_type": "code",
   "execution_count": 31,
   "metadata": {},
   "outputs": [
    {
     "name": "stdout",
     "output_type": "stream",
     "text": [
      "Checking whether there is an H2O instance running at http://localhost:54321 . connected.\n"
     ]
    },
    {
     "data": {
      "text/html": [
       "<div style=\"overflow:auto\"><table style=\"width:50%\"><tr><td>H2O_cluster_uptime:</td>\n",
       "<td>7 hours 20 mins</td></tr>\n",
       "<tr><td>H2O_cluster_timezone:</td>\n",
       "<td>Etc/UTC</td></tr>\n",
       "<tr><td>H2O_data_parsing_timezone:</td>\n",
       "<td>UTC</td></tr>\n",
       "<tr><td>H2O_cluster_version:</td>\n",
       "<td>3.32.0.2</td></tr>\n",
       "<tr><td>H2O_cluster_version_age:</td>\n",
       "<td>28 days, 1 hour and 30 minutes </td></tr>\n",
       "<tr><td>H2O_cluster_name:</td>\n",
       "<td>H2O_from_python_jupyter_htc3nt</td></tr>\n",
       "<tr><td>H2O_cluster_total_nodes:</td>\n",
       "<td>1</td></tr>\n",
       "<tr><td>H2O_cluster_free_memory:</td>\n",
       "<td>6.260 Gb</td></tr>\n",
       "<tr><td>H2O_cluster_total_cores:</td>\n",
       "<td>8</td></tr>\n",
       "<tr><td>H2O_cluster_allowed_cores:</td>\n",
       "<td>8</td></tr>\n",
       "<tr><td>H2O_cluster_status:</td>\n",
       "<td>locked, healthy</td></tr>\n",
       "<tr><td>H2O_connection_url:</td>\n",
       "<td>http://localhost:54321</td></tr>\n",
       "<tr><td>H2O_connection_proxy:</td>\n",
       "<td>{\"http\": null, \"https\": null}</td></tr>\n",
       "<tr><td>H2O_internal_security:</td>\n",
       "<td>False</td></tr>\n",
       "<tr><td>H2O_API_Extensions:</td>\n",
       "<td>Amazon S3, XGBoost, Algos, AutoML, Core V3, TargetEncoder, Core V4</td></tr>\n",
       "<tr><td>Python_version:</td>\n",
       "<td>3.7.8 final</td></tr></table></div>"
      ],
      "text/plain": [
       "--------------------------  ------------------------------------------------------------------\n",
       "H2O_cluster_uptime:         7 hours 20 mins\n",
       "H2O_cluster_timezone:       Etc/UTC\n",
       "H2O_data_parsing_timezone:  UTC\n",
       "H2O_cluster_version:        3.32.0.2\n",
       "H2O_cluster_version_age:    28 days, 1 hour and 30 minutes\n",
       "H2O_cluster_name:           H2O_from_python_jupyter_htc3nt\n",
       "H2O_cluster_total_nodes:    1\n",
       "H2O_cluster_free_memory:    6.260 Gb\n",
       "H2O_cluster_total_cores:    8\n",
       "H2O_cluster_allowed_cores:  8\n",
       "H2O_cluster_status:         locked, healthy\n",
       "H2O_connection_url:         http://localhost:54321\n",
       "H2O_connection_proxy:       {\"http\": null, \"https\": null}\n",
       "H2O_internal_security:      False\n",
       "H2O_API_Extensions:         Amazon S3, XGBoost, Algos, AutoML, Core V3, TargetEncoder, Core V4\n",
       "Python_version:             3.7.8 final\n",
       "--------------------------  ------------------------------------------------------------------"
      ]
     },
     "metadata": {},
     "output_type": "display_data"
    },
    {
     "name": "stdout",
     "output_type": "stream",
     "text": [
      "Parse progress: |█████████████████████████████████████████████████████████| 100%\n",
      "AutoML progress: |████████████████████████████████████████████████████████| 100%\n",
      "Parse progress: |█████████████████████████████████████████████████████████| 100%\n",
      "gbm prediction progress: |████████████████████████████████████████████████| 100%\n",
      "various models tested:\n"
     ]
    },
    {
     "data": {
      "text/html": [
       "<table>\n",
       "<thead>\n",
       "<tr><th>model_id                                           </th><th style=\"text-align: right;\">  mean_per_class_error</th><th style=\"text-align: right;\">  logloss</th><th style=\"text-align: right;\">    rmse</th><th style=\"text-align: right;\">     mse</th><th style=\"text-align: right;\">  training_time_ms</th><th style=\"text-align: right;\">  predict_time_per_row_ms</th></tr>\n",
       "</thead>\n",
       "<tbody>\n",
       "<tr><td>GBM_grid__1_AutoML_20201215_170856_model_11        </td><td style=\"text-align: right;\">              0.621339</td><td style=\"text-align: right;\"> 0.94484 </td><td style=\"text-align: right;\">0.534286</td><td style=\"text-align: right;\">0.285462</td><td style=\"text-align: right;\">               960</td><td style=\"text-align: right;\">                 0.10901 </td></tr>\n",
       "<tr><td>GBM_grid__1_AutoML_20201215_170856_model_2         </td><td style=\"text-align: right;\">              0.633987</td><td style=\"text-align: right;\"> 0.933119</td><td style=\"text-align: right;\">0.529272</td><td style=\"text-align: right;\">0.280129</td><td style=\"text-align: right;\">              1010</td><td style=\"text-align: right;\">                 0.144423</td></tr>\n",
       "<tr><td>DRF_1_AutoML_20201215_170856                       </td><td style=\"text-align: right;\">              0.634961</td><td style=\"text-align: right;\"> 1.32625 </td><td style=\"text-align: right;\">0.542834</td><td style=\"text-align: right;\">0.294669</td><td style=\"text-align: right;\">               802</td><td style=\"text-align: right;\">                 0.087003</td></tr>\n",
       "<tr><td>GBM_grid__1_AutoML_20201215_170856_model_7         </td><td style=\"text-align: right;\">              0.639168</td><td style=\"text-align: right;\"> 1.06498 </td><td style=\"text-align: right;\">0.551942</td><td style=\"text-align: right;\">0.30464 </td><td style=\"text-align: right;\">              1683</td><td style=\"text-align: right;\">                 0.102785</td></tr>\n",
       "<tr><td>StackedEnsemble_BestOfFamily_AutoML_20201215_170856</td><td style=\"text-align: right;\">              0.639593</td><td style=\"text-align: right;\"> 0.861119</td><td style=\"text-align: right;\">0.533881</td><td style=\"text-align: right;\">0.285029</td><td style=\"text-align: right;\">             20783</td><td style=\"text-align: right;\">                 0.116453</td></tr>\n",
       "<tr><td>XRT_1_AutoML_20201215_170856                       </td><td style=\"text-align: right;\">              0.640323</td><td style=\"text-align: right;\"> 1.3555  </td><td style=\"text-align: right;\">0.543687</td><td style=\"text-align: right;\">0.295595</td><td style=\"text-align: right;\">              1076</td><td style=\"text-align: right;\">                 0.087979</td></tr>\n",
       "<tr><td>GBM_grid__1_AutoML_20201215_170856_model_6         </td><td style=\"text-align: right;\">              0.644557</td><td style=\"text-align: right;\"> 0.966353</td><td style=\"text-align: right;\">0.541955</td><td style=\"text-align: right;\">0.293715</td><td style=\"text-align: right;\">              1141</td><td style=\"text-align: right;\">                 0.097296</td></tr>\n",
       "<tr><td>GBM_1_AutoML_20201215_170856                       </td><td style=\"text-align: right;\">              0.644745</td><td style=\"text-align: right;\"> 0.950081</td><td style=\"text-align: right;\">0.544774</td><td style=\"text-align: right;\">0.296778</td><td style=\"text-align: right;\">               702</td><td style=\"text-align: right;\">                 0.100604</td></tr>\n",
       "<tr><td>GBM_grid__1_AutoML_20201215_170856_model_3         </td><td style=\"text-align: right;\">              0.644906</td><td style=\"text-align: right;\"> 0.949204</td><td style=\"text-align: right;\">0.536944</td><td style=\"text-align: right;\">0.288308</td><td style=\"text-align: right;\">               996</td><td style=\"text-align: right;\">                 0.114888</td></tr>\n",
       "<tr><td>GBM_grid__1_AutoML_20201215_170856_model_8         </td><td style=\"text-align: right;\">              0.645515</td><td style=\"text-align: right;\"> 0.933002</td><td style=\"text-align: right;\">0.530349</td><td style=\"text-align: right;\">0.28127 </td><td style=\"text-align: right;\">               873</td><td style=\"text-align: right;\">                 0.148182</td></tr>\n",
       "</tbody>\n",
       "</table>"
      ]
     },
     "metadata": {},
     "output_type": "display_data"
    },
    {
     "name": "stdout",
     "output_type": "stream",
     "text": [
      "\n"
     ]
    }
   ],
   "source": [
    "start_time = time.time()\n",
    "ds1_h2o_predictions = h2o_classifications(X_train, y_train, X_test, ds1_df.columns[-1])\n",
    "end_time = time.time()"
   ]
  },
  {
   "cell_type": "code",
   "execution_count": 34,
   "metadata": {},
   "outputs": [
    {
     "name": "stdout",
     "output_type": "stream",
     "text": [
      "Framework:  H2O\n",
      "accuracy:  0.6538775510204081\n",
      "Classification report\n",
      "              precision    recall  f1-score   support\n",
      "\n",
      "           3       0.00      0.00      0.00         2\n",
      "           4       0.54      0.19      0.28        37\n",
      "           5       0.72      0.61      0.66       368\n",
      "           6       0.62      0.79      0.69       544\n",
      "           7       0.67      0.53      0.59       233\n",
      "           8       0.82      0.34      0.48        41\n",
      "\n",
      "    accuracy                           0.65      1225\n",
      "   macro avg       0.56      0.41      0.45      1225\n",
      "weighted avg       0.66      0.65      0.64      1225\n",
      "\n",
      "total time elapsed:  2548.4360597133636\n"
     ]
    }
   ],
   "source": [
    "metric_calculator(\"H2O\", \"wine quality\",y_test, ds1_h2o_predictions)\n",
    "print(\"total time elapsed: \",end_time - start_time)"
   ]
  },
  {
   "cell_type": "markdown",
   "metadata": {},
   "source": [
    "### Dataset 2 - Spambase\n"
   ]
  },
  {
   "cell_type": "code",
   "execution_count": 43,
   "metadata": {},
   "outputs": [],
   "source": [
    "X, y = fetch_openml('spambase', version=1, return_X_y=True, as_frame=True)\n",
    "X_train, X_test, y_train, y_test = train_test_split(X, y, random_state=1)"
   ]
  },
  {
   "cell_type": "markdown",
   "metadata": {},
   "source": [
    "<b> Model Auto-sklearn </b>"
   ]
  },
  {
   "cell_type": "code",
   "execution_count": 12,
   "metadata": {},
   "outputs": [
    {
     "name": "stderr",
     "output_type": "stream",
     "text": [
      "/opt/conda/lib/python3.7/site-packages/distributed/node.py:155: UserWarning: Port 8787 is already in use.\n",
      "Perhaps you already have a cluster running?\n",
      "Hosting the HTTP server on port 43301 instead\n",
      "  http_address[\"port\"], self.http_server.port\n",
      "/opt/conda/lib/python3.7/site-packages/autosklearn/automl.py:262: RuntimeWarning: coroutine 'Client._shutdown' was never awaited\n",
      "  self._dask_client.shutdown()\n"
     ]
    },
    {
     "name": "stdout",
     "output_type": "stream",
     "text": [
      "[WARNING] [2020-12-15 01:20:37,176:AutoML(1):2b36186d2a8d5021e8a046ef162a9f3e] Time limit for a single run is higher than total time limit. Capping the limit for a single run to the total time given to SMAC (178.639533)\n",
      "[WARNING] [2020-12-15 01:20:37,179:AutoML(1):2b36186d2a8d5021e8a046ef162a9f3e] Capping the per_run_time_limit to 89.0 to have time for a least 2 models in each process.\n"
     ]
    }
   ],
   "source": [
    "start_time = time.time()\n",
    "ds2_autosklearn_predictions = autosklearn_classification(X_train, y_train, X_test)\n",
    "end_time = time.time()"
   ]
  },
  {
   "cell_type": "code",
   "execution_count": 30,
   "metadata": {},
   "outputs": [
    {
     "name": "stdout",
     "output_type": "stream",
     "text": [
      "Framework:  auto-sklearn\n",
      "log loss: 0.3834920926\n",
      "accuracy:  0.9591659426585578\n",
      "Classification report\n",
      "              precision    recall  f1-score   support\n",
      "\n",
      "           0       0.96      0.98      0.97       701\n",
      "           1       0.97      0.93      0.95       450\n",
      "\n",
      "    accuracy                           0.96      1151\n",
      "   macro avg       0.96      0.95      0.96      1151\n",
      "weighted avg       0.96      0.96      0.96      1151\n",
      "\n",
      "total time elapsed:  3627.5266301631927\n"
     ]
    }
   ],
   "source": [
    "metric_calculator(\"auto-sklearn\", \"spambase\", y_test, ds2_autosklearn_predictions)\n",
    "print(\"total time elapsed: \",end_time - start_time)"
   ]
  },
  {
   "cell_type": "markdown",
   "metadata": {},
   "source": [
    "<b> Model TPOT </b>"
   ]
  },
  {
   "cell_type": "code",
   "execution_count": 20,
   "metadata": {},
   "outputs": [
    {
     "data": {
      "application/vnd.jupyter.widget-view+json": {
       "model_id": "",
       "version_major": 2,
       "version_minor": 0
      },
      "text/plain": [
       "HBox(children=(HTML(value='Optimization Progress'), FloatProgress(value=0.0, max=300.0), HTML(value='')))"
      ]
     },
     "metadata": {},
     "output_type": "display_data"
    },
    {
     "name": "stdout",
     "output_type": "stream",
     "text": [
      "\n",
      "Generation 1 - Current best internal CV score: 0.946376811594203\n",
      "\n",
      "Generation 2 - Current best internal CV score: 0.9489855072463769\n",
      "\n",
      "Generation 4 - Current best internal CV score: 0.9515942028985507\n",
      "\n",
      "Generation 5 - Current best internal CV score: 0.952463768115942\n",
      "\n",
      "Best pipeline: GradientBoostingClassifier(BernoulliNB(input_matrix, alpha=0.01, fit_prior=True), learning_rate=0.1, max_depth=6, max_features=0.5, min_samples_leaf=15, min_samples_split=5, n_estimators=100, subsample=0.7500000000000001)\n"
     ]
    }
   ],
   "source": [
    "start_time = time.time()\n",
    "ds2_tpot_predictions = tpot_classification(X_train, y_train, X_test)\n",
    "end_time = time.time()"
   ]
  },
  {
   "cell_type": "code",
   "execution_count": 21,
   "metadata": {},
   "outputs": [
    {
     "name": "stdout",
     "output_type": "stream",
     "text": [
      "Framework:  tpot\n",
      "log loss:  0.12303342451402823\n",
      "accuracy:  0.9548218940052129\n",
      "Classification report\n",
      "              precision    recall  f1-score   support\n",
      "\n",
      "           0       0.96      0.97      0.96       701\n",
      "           1       0.95      0.94      0.94       450\n",
      "\n",
      "    accuracy                           0.95      1151\n",
      "   macro avg       0.95      0.95      0.95      1151\n",
      "weighted avg       0.95      0.95      0.95      1151\n",
      "\n",
      "total time elapsed:  1716.766785621643\n"
     ]
    }
   ],
   "source": [
    "metric_calculator(\"tpot\", \"spambase\", y_test,ds2_tpot_predictions)\n",
    "print(\"total time elapsed: \",end_time - start_time)"
   ]
  },
  {
   "cell_type": "markdown",
   "metadata": {},
   "source": [
    "<b> Model H2O </b>"
   ]
  },
  {
   "cell_type": "code",
   "execution_count": 24,
   "metadata": {},
   "outputs": [
    {
     "name": "stdout",
     "output_type": "stream",
     "text": [
      "Checking whether there is an H2O instance running at http://localhost:54321 . connected.\n"
     ]
    },
    {
     "data": {
      "text/html": [
       "<div style=\"overflow:auto\"><table style=\"width:50%\"><tr><td>H2O_cluster_uptime:</td>\n",
       "<td>5 hours 47 mins</td></tr>\n",
       "<tr><td>H2O_cluster_timezone:</td>\n",
       "<td>Etc/UTC</td></tr>\n",
       "<tr><td>H2O_data_parsing_timezone:</td>\n",
       "<td>UTC</td></tr>\n",
       "<tr><td>H2O_cluster_version:</td>\n",
       "<td>3.32.0.2</td></tr>\n",
       "<tr><td>H2O_cluster_version_age:</td>\n",
       "<td>27 days </td></tr>\n",
       "<tr><td>H2O_cluster_name:</td>\n",
       "<td>H2O_from_python_jupyter_htc3nt</td></tr>\n",
       "<tr><td>H2O_cluster_total_nodes:</td>\n",
       "<td>1</td></tr>\n",
       "<tr><td>H2O_cluster_free_memory:</td>\n",
       "<td>6.481 Gb</td></tr>\n",
       "<tr><td>H2O_cluster_total_cores:</td>\n",
       "<td>8</td></tr>\n",
       "<tr><td>H2O_cluster_allowed_cores:</td>\n",
       "<td>8</td></tr>\n",
       "<tr><td>H2O_cluster_status:</td>\n",
       "<td>locked, healthy</td></tr>\n",
       "<tr><td>H2O_connection_url:</td>\n",
       "<td>http://localhost:54321</td></tr>\n",
       "<tr><td>H2O_connection_proxy:</td>\n",
       "<td>{\"http\": null, \"https\": null}</td></tr>\n",
       "<tr><td>H2O_internal_security:</td>\n",
       "<td>False</td></tr>\n",
       "<tr><td>H2O_API_Extensions:</td>\n",
       "<td>Amazon S3, XGBoost, Algos, AutoML, Core V3, TargetEncoder, Core V4</td></tr>\n",
       "<tr><td>Python_version:</td>\n",
       "<td>3.7.8 final</td></tr></table></div>"
      ],
      "text/plain": [
       "--------------------------  ------------------------------------------------------------------\n",
       "H2O_cluster_uptime:         5 hours 47 mins\n",
       "H2O_cluster_timezone:       Etc/UTC\n",
       "H2O_data_parsing_timezone:  UTC\n",
       "H2O_cluster_version:        3.32.0.2\n",
       "H2O_cluster_version_age:    27 days\n",
       "H2O_cluster_name:           H2O_from_python_jupyter_htc3nt\n",
       "H2O_cluster_total_nodes:    1\n",
       "H2O_cluster_free_memory:    6.481 Gb\n",
       "H2O_cluster_total_cores:    8\n",
       "H2O_cluster_allowed_cores:  8\n",
       "H2O_cluster_status:         locked, healthy\n",
       "H2O_connection_url:         http://localhost:54321\n",
       "H2O_connection_proxy:       {\"http\": null, \"https\": null}\n",
       "H2O_internal_security:      False\n",
       "H2O_API_Extensions:         Amazon S3, XGBoost, Algos, AutoML, Core V3, TargetEncoder, Core V4\n",
       "Python_version:             3.7.8 final\n",
       "--------------------------  ------------------------------------------------------------------"
      ]
     },
     "metadata": {},
     "output_type": "display_data"
    },
    {
     "name": "stdout",
     "output_type": "stream",
     "text": [
      "Parse progress: |█████████████████████████████████████████████████████████| 100%\n",
      "AutoML progress: |█████████████████████████████████████████████████████| 100%\n",
      "Parse progress: |█████████████████████████████████████████████████████████| 100%\n",
      "stackedensemble prediction progress: |████████████████████████████████████| 100%\n",
      "various models tested:\n"
     ]
    },
    {
     "data": {
      "text/html": [
       "<table>\n",
       "<thead>\n",
       "<tr><th>model_id                                           </th><th style=\"text-align: right;\">     auc</th><th style=\"text-align: right;\">  logloss</th><th style=\"text-align: right;\">   aucpr</th><th style=\"text-align: right;\">  mean_per_class_error</th><th style=\"text-align: right;\">    rmse</th><th style=\"text-align: right;\">      mse</th><th style=\"text-align: right;\">  training_time_ms</th><th style=\"text-align: right;\">  predict_time_per_row_ms</th></tr>\n",
       "</thead>\n",
       "<tbody>\n",
       "<tr><td>StackedEnsemble_BestOfFamily_AutoML_20201215_153559</td><td style=\"text-align: right;\">0.987964</td><td style=\"text-align: right;\"> 0.139223</td><td style=\"text-align: right;\">0.97895 </td><td style=\"text-align: right;\">             0.0487678</td><td style=\"text-align: right;\">0.192587</td><td style=\"text-align: right;\">0.0370897</td><td style=\"text-align: right;\">              1482</td><td style=\"text-align: right;\">                 0.293166</td></tr>\n",
       "<tr><td>GBM_grid__1_AutoML_20201215_153559_model_8         </td><td style=\"text-align: right;\">0.98789 </td><td style=\"text-align: right;\"> 0.131962</td><td style=\"text-align: right;\">0.981636</td><td style=\"text-align: right;\">             0.0480269</td><td style=\"text-align: right;\">0.191442</td><td style=\"text-align: right;\">0.0366501</td><td style=\"text-align: right;\">              2075</td><td style=\"text-align: right;\">                 0.040763</td></tr>\n",
       "<tr><td>GBM_grid__1_AutoML_20201215_153559_model_6         </td><td style=\"text-align: right;\">0.987889</td><td style=\"text-align: right;\"> 0.134067</td><td style=\"text-align: right;\">0.98187 </td><td style=\"text-align: right;\">             0.0514181</td><td style=\"text-align: right;\">0.194017</td><td style=\"text-align: right;\">0.0376426</td><td style=\"text-align: right;\">              1371</td><td style=\"text-align: right;\">                 0.041011</td></tr>\n",
       "<tr><td>GBM_grid__1_AutoML_20201215_153559_model_7         </td><td style=\"text-align: right;\">0.987771</td><td style=\"text-align: right;\"> 0.138903</td><td style=\"text-align: right;\">0.982409</td><td style=\"text-align: right;\">             0.0519122</td><td style=\"text-align: right;\">0.197647</td><td style=\"text-align: right;\">0.0390644</td><td style=\"text-align: right;\">              2181</td><td style=\"text-align: right;\">                 0.037368</td></tr>\n",
       "<tr><td>GBM_4_AutoML_20201215_153559                       </td><td style=\"text-align: right;\">0.987762</td><td style=\"text-align: right;\"> 0.133117</td><td style=\"text-align: right;\">0.981817</td><td style=\"text-align: right;\">             0.0509013</td><td style=\"text-align: right;\">0.191474</td><td style=\"text-align: right;\">0.0366624</td><td style=\"text-align: right;\">              2778</td><td style=\"text-align: right;\">                 0.035418</td></tr>\n",
       "<tr><td>GBM_grid__1_AutoML_20201215_153559_model_12        </td><td style=\"text-align: right;\">0.987742</td><td style=\"text-align: right;\"> 0.132913</td><td style=\"text-align: right;\">0.981618</td><td style=\"text-align: right;\">             0.0532595</td><td style=\"text-align: right;\">0.191936</td><td style=\"text-align: right;\">0.0368396</td><td style=\"text-align: right;\">              1599</td><td style=\"text-align: right;\">                 0.040924</td></tr>\n",
       "<tr><td>StackedEnsemble_AllModels_AutoML_20201215_153559   </td><td style=\"text-align: right;\">0.987596</td><td style=\"text-align: right;\"> 0.140303</td><td style=\"text-align: right;\">0.979251</td><td style=\"text-align: right;\">             0.0476822</td><td style=\"text-align: right;\">0.193475</td><td style=\"text-align: right;\">0.0374324</td><td style=\"text-align: right;\">              2013</td><td style=\"text-align: right;\">                 0.346716</td></tr>\n",
       "<tr><td>GBM_grid__1_AutoML_20201215_153559_model_10        </td><td style=\"text-align: right;\">0.987505</td><td style=\"text-align: right;\"> 0.132808</td><td style=\"text-align: right;\">0.978592</td><td style=\"text-align: right;\">             0.0505196</td><td style=\"text-align: right;\">0.191338</td><td style=\"text-align: right;\">0.0366101</td><td style=\"text-align: right;\">              1865</td><td style=\"text-align: right;\">                 0.036145</td></tr>\n",
       "<tr><td>GBM_grid__1_AutoML_20201215_153559_model_2         </td><td style=\"text-align: right;\">0.987416</td><td style=\"text-align: right;\"> 0.134459</td><td style=\"text-align: right;\">0.981273</td><td style=\"text-align: right;\">             0.0494716</td><td style=\"text-align: right;\">0.192618</td><td style=\"text-align: right;\">0.0371015</td><td style=\"text-align: right;\">             11159</td><td style=\"text-align: right;\">                 0.039521</td></tr>\n",
       "<tr><td>GBM_grid__1_AutoML_20201215_153559_model_4         </td><td style=\"text-align: right;\">0.987188</td><td style=\"text-align: right;\"> 0.135127</td><td style=\"text-align: right;\">0.981163</td><td style=\"text-align: right;\">             0.0493145</td><td style=\"text-align: right;\">0.193593</td><td style=\"text-align: right;\">0.0374782</td><td style=\"text-align: right;\">              1210</td><td style=\"text-align: right;\">                 0.040797</td></tr>\n",
       "</tbody>\n",
       "</table>"
      ]
     },
     "metadata": {},
     "output_type": "display_data"
    },
    {
     "name": "stdout",
     "output_type": "stream",
     "text": [
      "\n"
     ]
    }
   ],
   "source": [
    "start_time = time.time()\n",
    "ds2_h2o_predictions = h2o_classifications(X_train, y_train, X_test, y.name)\n",
    "end_time = time.time()"
   ]
  },
  {
   "cell_type": "code",
   "execution_count": 44,
   "metadata": {},
   "outputs": [
    {
     "name": "stdout",
     "output_type": "stream",
     "text": [
      "Framework:  H2O\n",
      "log loss:  0.1360053817\n",
      "accuracy:  0.9635099913119027\n",
      "Classification report\n",
      "              precision    recall  f1-score   support\n",
      "\n",
      "           0       0.97      0.97      0.97       701\n",
      "           1       0.95      0.95      0.95       450\n",
      "\n",
      "    accuracy                           0.96      1151\n",
      "   macro avg       0.96      0.96      0.96      1151\n",
      "weighted avg       0.96      0.96      0.96      1151\n",
      "\n",
      "total time elapsed:  2644.824376106262\n"
     ]
    }
   ],
   "source": [
    "metric_calculator(\"H2O\", \"spambase\",y_test,ds2_h2o_predictions )\n",
    "print(\"total time elapsed: \",end_time - start_time)"
   ]
  },
  {
   "cell_type": "markdown",
   "metadata": {},
   "source": [
    "### Dataset 3 - Bank Marketing"
   ]
  },
  {
   "cell_type": "code",
   "execution_count": null,
   "metadata": {},
   "outputs": [],
   "source": [
    "Marketing = pd.read_csv(\"bank-marketing.csv\",sep=\",\")\n",
    "\n",
    "X, y = Marketing.iloc[:,:-1], Marketing.iloc[:,-1]\n",
    "X_train, X_test, y_train, y_test = train_test_split(X, y, random_state=1)"
   ]
  },
  {
   "cell_type": "markdown",
   "metadata": {},
   "source": [
    "<b> Model Auto-sklearn </b>"
   ]
  },
  {
   "cell_type": "code",
   "execution_count": 25,
   "metadata": {},
   "outputs": [],
   "source": [
    "start_time = time.time()\n",
    "\n",
    "for column in Marketing.columns:\n",
    "    if str(Marketing[column].dtypes) ==\"object\":\n",
    "        Marketing[column] = Marketing[column].astype(\"category\")\n",
    "        \n",
    "X, y = Marketing.iloc[:,:-1], Marketing.iloc[:,-1]\n",
    "X_train, X_test, y_train, y_test = train_test_split(X, y, random_state=1)\n",
    "\n",
    "ds3_autosklearn_predictions = autosklearn_classification(X_train, y_train, X_test)"
   ]
  },
  {
   "cell_type": "code",
   "execution_count": 53,
   "metadata": {},
   "outputs": [
    {
     "name": "stdout",
     "output_type": "stream",
     "text": [
      "Framework:  auto-sklearn\n",
      "log loss: 0.3834920926\n",
      "accuracy:  0.9181314946100806\n",
      "Classification report\n",
      "              precision    recall  f1-score   support\n",
      "\n",
      "          no       0.94      0.97      0.95      9132\n",
      "         yes       0.68      0.52      0.59      1165\n",
      "\n",
      "    accuracy                           0.92     10297\n",
      "   macro avg       0.81      0.75      0.77     10297\n",
      "weighted avg       0.91      0.92      0.91     10297\n",
      "\n",
      "total time elapsed:  3608.513154029846\n"
     ]
    }
   ],
   "source": [
    "metric_calculator(\"auto-sklearn\", \"spambase\", y_test, ds3_autosklearn_predictions)\n",
    "print(\"total time elapsed: \",end_time - start_time)"
   ]
  },
  {
   "cell_type": "markdown",
   "metadata": {},
   "source": [
    "<b> Model TPOT </b>"
   ]
  },
  {
   "cell_type": "code",
   "execution_count": null,
   "metadata": {},
   "outputs": [],
   "source": [
    "start_time = time.time()\n",
    "\n",
    "Marketing.rename(columns={'y': 'class'}, inplace=True)"
   ]
  },
  {
   "cell_type": "markdown",
   "metadata": {},
   "source": [
    "Preprocessing: "
   ]
  },
  {
   "cell_type": "code",
   "execution_count": 8,
   "metadata": {
    "colab": {
     "base_uri": "https://localhost:8080/"
    },
    "id": "Gh2IvdlYDU_R",
    "outputId": "2c63059d-54a5-454f-a079-c94bbb6820a0"
   },
   "outputs": [
    {
     "name": "stdout",
     "output_type": "stream",
     "text": [
      "Number of levels in category 'job': 12.00 \n",
      "Number of levels in category 'marital': 4.00 \n",
      "Number of levels in category 'education': 8.00 \n",
      "Number of levels in category 'default': 3.00 \n",
      "Number of levels in category 'housing': 3.00 \n",
      "Number of levels in category 'loan': 3.00 \n",
      "Number of levels in category 'contact': 2.00 \n",
      "Number of levels in category 'month': 10.00 \n",
      "Number of levels in category 'day_of_week': 5.00 \n",
      "Number of levels in category 'poutcome': 3.00 \n",
      "Number of levels in category 'class': 2.00 \n"
     ]
    }
   ],
   "source": [
    "for cat in ['job', 'marital', 'education', 'default', 'housing', 'loan', 'contact', 'month', 'day_of_week', 'poutcome' ,'class']:\n",
    "    print(\"Number of levels in category '{0}': \\b {1:2.2f} \".format(cat, Marketing[cat].unique().size))"
   ]
  },
  {
   "cell_type": "code",
   "execution_count": 9,
   "metadata": {
    "colab": {
     "base_uri": "https://localhost:8080/"
    },
    "id": "pWuuQf1_DVz0",
    "outputId": "83529349-7165-4776-e529-08c77b53012e"
   },
   "outputs": [
    {
     "name": "stdout",
     "output_type": "stream",
     "text": [
      "Levels for catgeory 'contact': ['telephone' 'cellular']\n",
      "Levels for catgeory 'poutcome': ['nonexistent' 'failure' 'success']\n",
      "Levels for catgeory 'class': ['no' 'yes']\n",
      "Levels for catgeory 'marital': ['married' 'single' 'divorced' 'unknown']\n",
      "Levels for catgeory 'default': ['no' 'unknown' 'yes']\n",
      "Levels for catgeory 'housing': ['no' 'yes' 'unknown']\n",
      "Levels for catgeory 'loan': ['no' 'yes' 'unknown']\n"
     ]
    }
   ],
   "source": [
    "for cat in ['contact', 'poutcome','class', 'marital', 'default', 'housing', 'loan']:\n",
    "    print(\"Levels for catgeory '{0}': {1}\".format(cat, Marketing[cat].unique()))"
   ]
  },
  {
   "cell_type": "code",
   "execution_count": 10,
   "metadata": {
    "id": "JgtRLNNuDiKt"
   },
   "outputs": [],
   "source": [
    "Marketing['marital'] = Marketing['marital'].map({'married':0,'single':1,'divorced':2,'unknown':3})\n",
    "Marketing['default'] = Marketing['default'].map({'no':0,'yes':1,'unknown':2})\n",
    "Marketing['housing'] = Marketing['housing'].map({'no':0,'yes':1,'unknown':2})\n",
    "Marketing['loan'] = Marketing['loan'].map({'no':0,'yes':1,'unknown':2})\n",
    "Marketing['contact'] = Marketing['contact'].map({'telephone':0,'cellular':1})\n",
    "Marketing['poutcome'] = Marketing['poutcome'].map({'nonexistent':0,'failure':1,'success':2})\n",
    "Marketing['class'] = Marketing['class'].map({'no':0,'yes':1})"
   ]
  },
  {
   "cell_type": "code",
   "execution_count": 11,
   "metadata": {
    "id": "aNhoy7M9E0vA"
   },
   "outputs": [],
   "source": [
    "from sklearn.preprocessing import MultiLabelBinarizer\n",
    "mlb = MultiLabelBinarizer()\n",
    "\n",
    "job_Trans = mlb.fit_transform([{str(val)} for val in Marketing['job'].values])\n",
    "education_Trans = mlb.fit_transform([{str(val)} for val in Marketing['education'].values])\n",
    "month_Trans = mlb.fit_transform([{str(val)} for val in Marketing['month'].values])\n",
    "day_of_week_Trans = mlb.fit_transform([{str(val)} for val in Marketing['day_of_week'].values])"
   ]
  },
  {
   "cell_type": "code",
   "execution_count": 18,
   "metadata": {
    "id": "vmg1gMwvE7TM"
   },
   "outputs": [],
   "source": [
    "marketing_new = Marketing.drop(['marital','default','housing','loan','contact','poutcome','class','job','education','month','day_of_week'], axis=1)\n",
    "marketing_new = np.hstack((marketing_new.values, job_Trans, education_Trans, month_Trans, day_of_week_Trans))"
   ]
  },
  {
   "cell_type": "code",
   "execution_count": 26,
   "metadata": {
    "id": "faIHJoAEGsXW"
   },
   "outputs": [],
   "source": [
    "X, y = marketing_new[:,:-1], marketing_new[:,-1]\n",
    "\n",
    "X_train, X_test, y_train, y_test = train_test_split(X, y, random_state=1)"
   ]
  },
  {
   "cell_type": "code",
   "execution_count": 32,
   "metadata": {
    "colab": {
     "base_uri": "https://localhost:8080/",
     "height": 241,
     "referenced_widgets": [
      "eca508e61e504c59a4f502035c92be09",
      "f490c57bce5045aa8c417b3b25912ede",
      "2f2ee090558a4c439faa47aef0122b3f",
      "5ab8407111d14e98b0ed47d0557f69d1",
      "5319c1b7430b4010aa92b9ae748c7edd",
      "1a06a2fa234b4a958d3aad57428b3087",
      "5ff4b156fd994f3f95e04a99ec12ec18",
      "106efd061e124ffbbffcdd2dad0f82f5"
     ]
    },
    "id": "3PSmAPPBMFuV",
    "outputId": "f0a0e81c-9ffb-4da9-d3a5-314f48af1628"
   },
   "outputs": [
    {
     "data": {
      "application/vnd.jupyter.widget-view+json": {
       "model_id": "eca508e61e504c59a4f502035c92be09",
       "version_major": 2,
       "version_minor": 0
      },
      "text/plain": [
       "HBox(children=(FloatProgress(value=0.0, description='Optimization Progress', max=300.0, style=ProgressStyle(de…"
      ]
     },
     "metadata": {
      "tags": []
     },
     "output_type": "display_data"
    },
    {
     "name": "stdout",
     "output_type": "stream",
     "text": [
      "\n",
      "Generation 1 - Current best internal CV score: 1.0\n",
      "\n",
      "Generation 2 - Current best internal CV score: 1.0\n",
      "\n",
      "Generation 3 - Current best internal CV score: 1.0\n",
      "\n",
      "Generation 4 - Current best internal CV score: 1.0\n",
      "\n",
      "Generation 5 - Current best internal CV score: 1.0\n",
      "\n",
      "Best pipeline: DecisionTreeClassifier(input_matrix, criterion=gini, max_depth=6, min_samples_leaf=20, min_samples_split=14)\n"
     ]
    }
   ],
   "source": [
    "ds3_tpot_predictions = tpot_classification(X_train, y_train, X_test)\n",
    "end_time = time.time()"
   ]
  },
  {
   "cell_type": "code",
   "execution_count": 35,
   "metadata": {
    "colab": {
     "base_uri": "https://localhost:8080/"
    },
    "id": "plal2SPYMFYv",
    "outputId": "ea331fdd-444b-4caf-bb0e-cc51534752fa"
   },
   "outputs": [
    {
     "name": "stdout",
     "output_type": "stream",
     "text": [
      "Framework:  auto-sklearn\n",
      "log loss:  9.992007221626413e-16\n",
      "accuracy:  1.0\n",
      "Classification report\n",
      "              precision    recall  f1-score   support\n",
      "\n",
      "         0.0       1.00      1.00      1.00      8233\n",
      "         1.0       1.00      1.00      1.00      2064\n",
      "\n",
      "    accuracy                           1.00     10297\n",
      "   macro avg       1.00      1.00      1.00     10297\n",
      "weighted avg       1.00      1.00      1.00     10297\n",
      "\n",
      "total time elapsed:  6585.911735057831\n"
     ]
    }
   ],
   "source": [
    "metric_calculator(\"auto-sklearn\", \"spambase\", y_test, ds3_tpot_predictions)\n",
    "print(\"total time elapsed: \",end_time - start_time)"
   ]
  },
  {
   "cell_type": "markdown",
   "metadata": {},
   "source": [
    "<b> Model H2O </b>"
   ]
  },
  {
   "cell_type": "code",
   "execution_count": 36,
   "metadata": {},
   "outputs": [
    {
     "name": "stdout",
     "output_type": "stream",
     "text": [
      "Checking whether there is an H2O instance running at http://localhost:54321 . connected.\n"
     ]
    },
    {
     "data": {
      "text/html": [
       "<div style=\"overflow:auto\"><table style=\"width:50%\"><tr><td>H2O_cluster_uptime:</td>\n",
       "<td>8 hours 29 mins</td></tr>\n",
       "<tr><td>H2O_cluster_timezone:</td>\n",
       "<td>Etc/UTC</td></tr>\n",
       "<tr><td>H2O_data_parsing_timezone:</td>\n",
       "<td>UTC</td></tr>\n",
       "<tr><td>H2O_cluster_version:</td>\n",
       "<td>3.32.0.2</td></tr>\n",
       "<tr><td>H2O_cluster_version_age:</td>\n",
       "<td>28 days, 2 hours and 39 minutes </td></tr>\n",
       "<tr><td>H2O_cluster_name:</td>\n",
       "<td>H2O_from_python_jupyter_htc3nt</td></tr>\n",
       "<tr><td>H2O_cluster_total_nodes:</td>\n",
       "<td>1</td></tr>\n",
       "<tr><td>H2O_cluster_free_memory:</td>\n",
       "<td>6.068 Gb</td></tr>\n",
       "<tr><td>H2O_cluster_total_cores:</td>\n",
       "<td>8</td></tr>\n",
       "<tr><td>H2O_cluster_allowed_cores:</td>\n",
       "<td>8</td></tr>\n",
       "<tr><td>H2O_cluster_status:</td>\n",
       "<td>locked, healthy</td></tr>\n",
       "<tr><td>H2O_connection_url:</td>\n",
       "<td>http://localhost:54321</td></tr>\n",
       "<tr><td>H2O_connection_proxy:</td>\n",
       "<td>{\"http\": null, \"https\": null}</td></tr>\n",
       "<tr><td>H2O_internal_security:</td>\n",
       "<td>False</td></tr>\n",
       "<tr><td>H2O_API_Extensions:</td>\n",
       "<td>Amazon S3, XGBoost, Algos, AutoML, Core V3, TargetEncoder, Core V4</td></tr>\n",
       "<tr><td>Python_version:</td>\n",
       "<td>3.7.8 final</td></tr></table></div>"
      ],
      "text/plain": [
       "--------------------------  ------------------------------------------------------------------\n",
       "H2O_cluster_uptime:         8 hours 29 mins\n",
       "H2O_cluster_timezone:       Etc/UTC\n",
       "H2O_data_parsing_timezone:  UTC\n",
       "H2O_cluster_version:        3.32.0.2\n",
       "H2O_cluster_version_age:    28 days, 2 hours and 39 minutes\n",
       "H2O_cluster_name:           H2O_from_python_jupyter_htc3nt\n",
       "H2O_cluster_total_nodes:    1\n",
       "H2O_cluster_free_memory:    6.068 Gb\n",
       "H2O_cluster_total_cores:    8\n",
       "H2O_cluster_allowed_cores:  8\n",
       "H2O_cluster_status:         locked, healthy\n",
       "H2O_connection_url:         http://localhost:54321\n",
       "H2O_connection_proxy:       {\"http\": null, \"https\": null}\n",
       "H2O_internal_security:      False\n",
       "H2O_API_Extensions:         Amazon S3, XGBoost, Algos, AutoML, Core V3, TargetEncoder, Core V4\n",
       "Python_version:             3.7.8 final\n",
       "--------------------------  ------------------------------------------------------------------"
      ]
     },
     "metadata": {},
     "output_type": "display_data"
    },
    {
     "name": "stdout",
     "output_type": "stream",
     "text": [
      "Parse progress: |█████████████████████████████████████████████████████████| 100%\n",
      "AutoML progress: |████████████████████████████████████████████████████████| 100%\n",
      "Parse progress: |█████████████████████████████████████████████████████████| 100%\n",
      "xgboost prediction progress: |████████████████████████████████████████████| 100%\n",
      "various models tested:\n"
     ]
    },
    {
     "data": {
      "text/html": [
       "<table>\n",
       "<thead>\n",
       "<tr><th>model_id                                           </th><th style=\"text-align: right;\">  mean_per_class_error</th><th style=\"text-align: right;\">  logloss</th><th style=\"text-align: right;\">    rmse</th><th style=\"text-align: right;\">     mse</th><th style=\"text-align: right;\">  training_time_ms</th><th style=\"text-align: right;\">  predict_time_per_row_ms</th></tr>\n",
       "</thead>\n",
       "<tbody>\n",
       "<tr><td>XGBoost_grid__1_AutoML_20201215_181738_model_14    </td><td style=\"text-align: right;\">              0.627128</td><td style=\"text-align: right;\"> 1.01138 </td><td style=\"text-align: right;\">0.535489</td><td style=\"text-align: right;\">0.286748</td><td style=\"text-align: right;\">               903</td><td style=\"text-align: right;\">                 0.027723</td></tr>\n",
       "<tr><td>XGBoost_grid__1_AutoML_20201215_181738_model_10    </td><td style=\"text-align: right;\">              0.629865</td><td style=\"text-align: right;\"> 1.00557 </td><td style=\"text-align: right;\">0.53418 </td><td style=\"text-align: right;\">0.285348</td><td style=\"text-align: right;\">               898</td><td style=\"text-align: right;\">                 0.030828</td></tr>\n",
       "<tr><td>XGBoost_grid__1_AutoML_20201215_181738_model_12    </td><td style=\"text-align: right;\">              0.631833</td><td style=\"text-align: right;\"> 0.962851</td><td style=\"text-align: right;\">0.535378</td><td style=\"text-align: right;\">0.28663 </td><td style=\"text-align: right;\">              1037</td><td style=\"text-align: right;\">                 0.029354</td></tr>\n",
       "<tr><td>XGBoost_grid__1_AutoML_20201215_181738_model_3     </td><td style=\"text-align: right;\">              0.634195</td><td style=\"text-align: right;\"> 1.00199 </td><td style=\"text-align: right;\">0.540761</td><td style=\"text-align: right;\">0.292423</td><td style=\"text-align: right;\">              1314</td><td style=\"text-align: right;\">                 0.041379</td></tr>\n",
       "<tr><td>GBM_grid__1_AutoML_20201215_181738_model_9         </td><td style=\"text-align: right;\">              0.634416</td><td style=\"text-align: right;\"> 0.951743</td><td style=\"text-align: right;\">0.528679</td><td style=\"text-align: right;\">0.279501</td><td style=\"text-align: right;\">               919</td><td style=\"text-align: right;\">                 0.12812 </td></tr>\n",
       "<tr><td>GBM_grid__1_AutoML_20201215_181738_model_6         </td><td style=\"text-align: right;\">              0.635169</td><td style=\"text-align: right;\"> 1.0008  </td><td style=\"text-align: right;\">0.541092</td><td style=\"text-align: right;\">0.29278 </td><td style=\"text-align: right;\">              1411</td><td style=\"text-align: right;\">                 0.123829</td></tr>\n",
       "<tr><td>GBM_2_AutoML_20201215_181738                       </td><td style=\"text-align: right;\">              0.636868</td><td style=\"text-align: right;\"> 0.934192</td><td style=\"text-align: right;\">0.541759</td><td style=\"text-align: right;\">0.293503</td><td style=\"text-align: right;\">               815</td><td style=\"text-align: right;\">                 0.120627</td></tr>\n",
       "<tr><td>DRF_1_AutoML_20201215_181738                       </td><td style=\"text-align: right;\">              0.63918 </td><td style=\"text-align: right;\"> 1.37008 </td><td style=\"text-align: right;\">0.54246 </td><td style=\"text-align: right;\">0.294262</td><td style=\"text-align: right;\">               812</td><td style=\"text-align: right;\">                 0.092236</td></tr>\n",
       "<tr><td>XGBoost_grid__1_AutoML_20201215_181738_model_16    </td><td style=\"text-align: right;\">              0.639245</td><td style=\"text-align: right;\"> 0.970909</td><td style=\"text-align: right;\">0.5375  </td><td style=\"text-align: right;\">0.288906</td><td style=\"text-align: right;\">              1129</td><td style=\"text-align: right;\">                 0.032678</td></tr>\n",
       "<tr><td>StackedEnsemble_BestOfFamily_AutoML_20201215_181738</td><td style=\"text-align: right;\">              0.641548</td><td style=\"text-align: right;\"> 0.863639</td><td style=\"text-align: right;\">0.5342  </td><td style=\"text-align: right;\">0.285369</td><td style=\"text-align: right;\">             20652</td><td style=\"text-align: right;\">                 0.132155</td></tr>\n",
       "</tbody>\n",
       "</table>"
      ]
     },
     "metadata": {},
     "output_type": "display_data"
    },
    {
     "name": "stdout",
     "output_type": "stream",
     "text": [
      "\n"
     ]
    }
   ],
   "source": [
    "start_time = time.time()\n",
    "ds3_h2o_predictions = h2o_classifications(X_train, y_train, X_test, y.name)\n",
    "end_time = time.time()"
   ]
  },
  {
   "cell_type": "code",
   "execution_count": 40,
   "metadata": {},
   "outputs": [
    {
     "name": "stdout",
     "output_type": "stream",
     "text": [
      "Framework:  H2O\n",
      "log loss:  0.3944518914\n",
      "accuracy:  0.6473469387755102\n",
      "Classification report\n",
      "              precision    recall  f1-score   support\n",
      "\n",
      "           3       0.00      0.00      0.00         2\n",
      "           4       0.42      0.22      0.29        37\n",
      "           5       0.66      0.64      0.65       368\n",
      "           6       0.63      0.76      0.69       544\n",
      "           7       0.69      0.55      0.61       233\n",
      "           8       0.68      0.32      0.43        41\n",
      "\n",
      "    accuracy                           0.65      1225\n",
      "   macro avg       0.52      0.41      0.44      1225\n",
      "weighted avg       0.65      0.65      0.64      1225\n",
      "\n",
      "total time elapsed:  2644.824376106262\n"
     ]
    }
   ],
   "source": [
    "metric_calculator(\"H2O\", \"bank-marketing\",y_test,ds3_h2o_predictions )\n",
    "\n",
    "print(\"total time elapsed: \",end_time - start_time)"
   ]
  }
 ],
 "metadata": {
  "environment": {
   "name": "common-cpu.m59",
   "type": "gcloud",
   "uri": "gcr.io/deeplearning-platform-release/base-cpu:m59"
  },
  "kernelspec": {
   "display_name": "Python 3",
   "language": "python",
   "name": "python3"
  },
  "language_info": {
   "codemirror_mode": {
    "name": "ipython",
    "version": 3
   },
   "file_extension": ".py",
   "mimetype": "text/x-python",
   "name": "python",
   "nbconvert_exporter": "python",
   "pygments_lexer": "ipython3",
   "version": "3.7.8"
  }
 },
 "nbformat": 4,
 "nbformat_minor": 4
}
