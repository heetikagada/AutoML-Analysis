{
 "cells": [
  {
   "cell_type": "code",
   "execution_count": 2,
   "metadata": {},
   "outputs": [
    {
     "name": "stderr",
     "output_type": "stream",
     "text": [
      "/opt/conda/lib/python3.7/site-packages/pyparsing.py:3190: FutureWarning: Possible set intersection at position 3\n",
      "  self.re = re.compile(self.reString)\n",
      "/opt/conda/lib/python3.7/site-packages/tpot/builtins/__init__.py:36: UserWarning: Warning: optional dependency `torch` is not available. - skipping import of NN models.\n",
      "  warnings.warn(\"Warning: optional dependency `torch` is not available. - skipping import of NN models.\")\n"
     ]
    }
   ],
   "source": [
    "import autosklearn.classification\n",
    "import pandas as pd\n",
    "import numpy as np\n",
    "import sklearn.model_selection\n",
    "import sklearn.metrics\n",
    "from sklearn.model_selection import train_test_split\n",
    "from sklearn.datasets import fetch_openml\n",
    "import h2o\n",
    "from h2o.automl import H2OAutoML\n",
    "from tpot import TPOTClassifier\n",
    "from sklearn.metrics import log_loss\n",
    "from sklearn.metrics import classification_report\n",
    "import time"
   ]
  },
  {
   "cell_type": "code",
   "execution_count": 10,
   "metadata": {},
   "outputs": [],
   "source": [
    "def autosklearn_classification(X_train, y_train, X_test):\n",
    "    automl = autosklearn.classification.AutoSklearnClassifier()\n",
    "   \n",
    "    automl.fit(X_train, y_train)\n",
    "    \n",
    "    predictions = automl.predict(X_test)\n",
    "    \n",
    "    predictions_proba = automl.predict_proba(X_test)[:,1]\n",
    "    return (predictions,predictions_proba)\n",
    "    "
   ]
  },
  {
   "cell_type": "code",
   "execution_count": 4,
   "metadata": {},
   "outputs": [],
   "source": [
    "def tpot_classification(X_train, y_train, X_test):\n",
    "    tpot = TPOTClassifier(generations=5, population_size=50, verbosity=2, random_state=1)\n",
    "    tpot.fit(X_train, y_train)\n",
    "    predictions = tpot.predict(X_test)\n",
    "    predictions_proba = tpot.predict_proba(X_test)[:,1]\n",
    "    return (predictions, predictions_proba)\n"
   ]
  },
  {
   "cell_type": "code",
   "execution_count": 3,
   "metadata": {},
   "outputs": [],
   "source": [
    "def h2o_classifications(X_train, y_train, X_test, target):\n",
    "    h2o.init()\n",
    "    aml = H2OAutoML()\n",
    "    train_hf = pd.concat([X_train, y_train], axis=1)\n",
    "    train_hf = h2o.H2OFrame(train_hf)\n",
    "    train_hf[target] = train_hf[target].asfactor()\n",
    "    aml.train(y = target, training_frame = train_hf)\n",
    "    response = aml.predict(h2o.H2OFrame(X_test))\n",
    "    print(\"various models tested:\")\n",
    "    lb = h2o.automl.get_leaderboard(aml, extra_columns = 'ALL')\n",
    "    print(lb)\n",
    "    return response"
   ]
  },
  {
   "cell_type": "code",
   "execution_count": 5,
   "metadata": {},
   "outputs": [],
   "source": [
    "def metric_calculator(framework, dataset, y_test, predictions):\n",
    "    \n",
    "    if framework ==\"H2O\":   \n",
    "        print(\"Framework: \", framework)\n",
    "        ll = log_loss(y_test, predictions.as_data_frame().iloc[:,1:])\n",
    "        print(\"log loss: \",ll)\n",
    "        accuracy = sklearn.metrics.accuracy_score(predictions.as_data_frame().iloc[:,0], y_test.astype('int64'))\n",
    "        print(\"accuracy: \",accuracy)\n",
    "        print(\"Classification report\")\n",
    "        print(classification_report(y_test.astype('int64'), predictions.as_data_frame().iloc[:,0]))\n",
    "    else:\n",
    "        print(\"Framework: \", framework)\n",
    "        ll = log_loss(y_test, predictions[1])\n",
    "        print(\"log loss: \",ll)\n",
    "        accuracy = sklearn.metrics.accuracy_score(predictions[0], y_test)\n",
    "        print(\"accuracy: \",accuracy)\n",
    "        print(\"Classification report\")\n",
    "        print(classification_report(y_test, predictions[0]))\n",
    "            "
   ]
  },
  {
   "cell_type": "code",
   "execution_count": null,
   "metadata": {},
   "outputs": [],
   "source": []
  },
  {
   "cell_type": "markdown",
   "metadata": {},
   "source": [
    "### Dataset 1"
   ]
  },
  {
   "cell_type": "code",
   "execution_count": 6,
   "metadata": {},
   "outputs": [],
   "source": [
    "ds1_df = pd.read_csv(\"http://archive.ics.uci.edu/ml/machine-learning-databases/wine-quality/winequality-white.csv\",sep=\";\")\n",
    "\n",
    "X, y = ds1_df.iloc[:,:-1], ds1_df.iloc[:,-1]\n",
    "X_train, X_test, y_train, y_test = train_test_split(X, y, random_state=1)"
   ]
  },
  {
   "cell_type": "code",
   "execution_count": null,
   "metadata": {},
   "outputs": [
    {
     "name": "stderr",
     "output_type": "stream",
     "text": [
      "/opt/conda/lib/python3.7/site-packages/distributed/node.py:155: UserWarning: Port 8787 is already in use.\n",
      "Perhaps you already have a cluster running?\n",
      "Hosting the HTTP server on port 44905 instead\n",
      "  http_address[\"port\"], self.http_server.port\n"
     ]
    },
    {
     "name": "stdout",
     "output_type": "stream",
     "text": [
      "[WARNING] [2020-12-15 01:24:10,671:AutoML(1):85c68cd19b887b3aa699aa9c7b59a288] Time limit for a single run is higher than total time limit. Capping the limit for a single run to the total time given to SMAC (178.480937)\n",
      "[WARNING] [2020-12-15 01:24:10,673:AutoML(1):85c68cd19b887b3aa699aa9c7b59a288] Capping the per_run_time_limit to 89.0 to have time for a least 2 models in each process.\n"
     ]
    }
   ],
   "source": [
    "start_time = time.time()\n",
    "ds1_autosklearn_predictions = autosklearn_classification(X_train, y_train, X_test)"
   ]
  },
  {
   "cell_type": "code",
   "execution_count": 20,
   "metadata": {},
   "outputs": [
    {
     "name": "stdout",
     "output_type": "stream",
     "text": [
      "Framework:  auto-sklearn\n",
      "log loss: 0.4268143501\n",
      "accuracy:  0.6579591836734694\n",
      "Classification report\n",
      "              precision    recall  f1-score   support\n",
      "\n",
      "           3       0.00      0.00      0.00         2\n",
      "           4       0.56      0.14      0.22        37\n",
      "           5       0.72      0.63      0.67       368\n",
      "           6       0.61      0.84      0.71       544\n",
      "           7       0.78      0.44      0.56       233\n",
      "           8       0.91      0.24      0.38        41\n",
      "\n",
      "    accuracy                           0.66      1225\n",
      "   macro avg       0.60      0.38      0.42      1225\n",
      "weighted avg       0.68      0.66      0.64      1225\n",
      "\n",
      "total time elapsed:  4493.640509843826\n"
     ]
    },
    {
     "name": "stderr",
     "output_type": "stream",
     "text": [
      "/usr/local/lib/python3.9/site-packages/sklearn/metrics/_classification.py:1221: UndefinedMetricWarning: Precision and F-score are ill-defined and being set to 0.0 in labels with no predicted samples. Use `zero_division` parameter to control this behavior.\n",
      "  _warn_prf(average, modifier, msg_start, len(result))\n"
     ]
    }
   ],
   "source": [
    "metric_calculator(\"auto-sklearn\", \"wine quality\", y_test, ds1_autosklearn_predictions)\n",
    "end_time = time.time()\n",
    "print(\"total time elapsed: \",end_time - start_time)"
   ]
  },
  {
   "cell_type": "code",
   "execution_count": 7,
   "metadata": {},
   "outputs": [
    {
     "data": {
      "application/vnd.jupyter.widget-view+json": {
       "model_id": "",
       "version_major": 2,
       "version_minor": 0
      },
      "text/plain": [
       "HBox(children=(HTML(value='Optimization Progress'), FloatProgress(value=0.0, max=300.0), HTML(value='')))"
      ]
     },
     "metadata": {},
     "output_type": "display_data"
    },
    {
     "name": "stdout",
     "output_type": "stream",
     "text": [
      "\n",
      "Generation 1 - Current best internal CV score: 0.6553237316725056\n",
      "\n",
      "Generation 2 - Current best internal CV score: 0.6553237316725056\n",
      "\n",
      "Generation 3 - Current best internal CV score: 0.6555928747520807\n",
      "\n",
      "Generation 4 - Current best internal CV score: 0.6555928747520807\n",
      "\n",
      "Generation 5 - Current best internal CV score: 0.6555928747520807\n",
      "\n",
      "Best pipeline: KNeighborsClassifier(RobustScaler(input_matrix), n_neighbors=70, p=1, weights=distance)\n"
     ]
    }
   ],
   "source": [
    "start_time = time.time()\n",
    "ds1_tpot_predictions = tpot_classification(X_train, y_train, X_test)"
   ]
  },
  {
   "cell_type": "code",
   "execution_count": 18,
   "metadata": {},
   "outputs": [
    {
     "name": "stdout",
     "output_type": "stream",
     "text": [
      "Framework:  tpot\n",
      "accuracy:  0.6644897959183673\n",
      "Classification report\n"
     ]
    },
    {
     "name": "stderr",
     "output_type": "stream",
     "text": [
      "/opt/conda/lib/python3.7/site-packages/sklearn/metrics/_classification.py:1221: UndefinedMetricWarning: Precision and F-score are ill-defined and being set to 0.0 in labels with no predicted samples. Use `zero_division` parameter to control this behavior.\n",
      "  _warn_prf(average, modifier, msg_start, len(result))\n"
     ]
    },
    {
     "name": "stdout",
     "output_type": "stream",
     "text": [
      "              precision    recall  f1-score   support\n",
      "\n",
      "           3       0.00      0.00      0.00         2\n",
      "           4       1.00      0.03      0.05        37\n",
      "           5       0.73      0.60      0.66       368\n",
      "           6       0.61      0.85      0.71       544\n",
      "           7       0.76      0.50      0.60       233\n",
      "           8       1.00      0.32      0.48        41\n",
      "\n",
      "    accuracy                           0.66      1225\n",
      "   macro avg       0.68      0.38      0.42      1225\n",
      "weighted avg       0.70      0.66      0.65      1225\n",
      "\n",
      "total time elapsed:  2303.344337940216\n"
     ]
    }
   ],
   "source": [
    "metric_calculator(\"tpot\", \"wine quality\", y_test, ds1_tpot_predictions)\n",
    "end_time = time.time()\n",
    "print(\"total time elapsed: \",end_time - start_time)"
   ]
  },
  {
   "cell_type": "code",
   "execution_count": 7,
   "metadata": {},
   "outputs": [
    {
     "name": "stdout",
     "output_type": "stream",
     "text": [
      "Checking whether there is an H2O instance running at http://localhost:54321 ..... not found.\n",
      "Attempting to start a local H2O server...\n",
      "  Java Version: openjdk version \"11.0.9\" 2020-10-20; OpenJDK Runtime Environment (build 11.0.9+11-post-Debian-1deb10u1); OpenJDK 64-Bit Server VM (build 11.0.9+11-post-Debian-1deb10u1, mixed mode, sharing)\n",
      "  Starting server from /opt/conda/lib/python3.7/site-packages/h2o/backend/bin/h2o.jar\n",
      "  Ice root: /tmp/tmpc14odxof\n",
      "  JVM stdout: /tmp/tmpc14odxof/h2o_jupyter_started_from_python.out\n",
      "  JVM stderr: /tmp/tmpc14odxof/h2o_jupyter_started_from_python.err\n",
      "  Server is running at http://127.0.0.1:54321\n",
      "Connecting to H2O server at http://127.0.0.1:54321 ... successful.\n"
     ]
    },
    {
     "data": {
      "text/html": [
       "<div style=\"overflow:auto\"><table style=\"width:50%\"><tr><td>H2O_cluster_uptime:</td>\n",
       "<td>01 secs</td></tr>\n",
       "<tr><td>H2O_cluster_timezone:</td>\n",
       "<td>Etc/UTC</td></tr>\n",
       "<tr><td>H2O_data_parsing_timezone:</td>\n",
       "<td>UTC</td></tr>\n",
       "<tr><td>H2O_cluster_version:</td>\n",
       "<td>3.32.0.2</td></tr>\n",
       "<tr><td>H2O_cluster_version_age:</td>\n",
       "<td>27 days </td></tr>\n",
       "<tr><td>H2O_cluster_name:</td>\n",
       "<td>H2O_from_python_jupyter_155207</td></tr>\n",
       "<tr><td>H2O_cluster_total_nodes:</td>\n",
       "<td>1</td></tr>\n",
       "<tr><td>H2O_cluster_free_memory:</td>\n",
       "<td>7.287 Gb</td></tr>\n",
       "<tr><td>H2O_cluster_total_cores:</td>\n",
       "<td>8</td></tr>\n",
       "<tr><td>H2O_cluster_allowed_cores:</td>\n",
       "<td>8</td></tr>\n",
       "<tr><td>H2O_cluster_status:</td>\n",
       "<td>accepting new members, healthy</td></tr>\n",
       "<tr><td>H2O_connection_url:</td>\n",
       "<td>http://127.0.0.1:54321</td></tr>\n",
       "<tr><td>H2O_connection_proxy:</td>\n",
       "<td>{\"http\": null, \"https\": null}</td></tr>\n",
       "<tr><td>H2O_internal_security:</td>\n",
       "<td>False</td></tr>\n",
       "<tr><td>H2O_API_Extensions:</td>\n",
       "<td>Amazon S3, XGBoost, Algos, AutoML, Core V3, TargetEncoder, Core V4</td></tr>\n",
       "<tr><td>Python_version:</td>\n",
       "<td>3.7.8 final</td></tr></table></div>"
      ],
      "text/plain": [
       "--------------------------  ------------------------------------------------------------------\n",
       "H2O_cluster_uptime:         01 secs\n",
       "H2O_cluster_timezone:       Etc/UTC\n",
       "H2O_data_parsing_timezone:  UTC\n",
       "H2O_cluster_version:        3.32.0.2\n",
       "H2O_cluster_version_age:    27 days\n",
       "H2O_cluster_name:           H2O_from_python_jupyter_155207\n",
       "H2O_cluster_total_nodes:    1\n",
       "H2O_cluster_free_memory:    7.287 Gb\n",
       "H2O_cluster_total_cores:    8\n",
       "H2O_cluster_allowed_cores:  8\n",
       "H2O_cluster_status:         accepting new members, healthy\n",
       "H2O_connection_url:         http://127.0.0.1:54321\n",
       "H2O_connection_proxy:       {\"http\": null, \"https\": null}\n",
       "H2O_internal_security:      False\n",
       "H2O_API_Extensions:         Amazon S3, XGBoost, Algos, AutoML, Core V3, TargetEncoder, Core V4\n",
       "Python_version:             3.7.8 final\n",
       "--------------------------  ------------------------------------------------------------------"
      ]
     },
     "metadata": {},
     "output_type": "display_data"
    },
    {
     "name": "stdout",
     "output_type": "stream",
     "text": [
      "Parse progress: |█████████████████████████████████████████████████████████| 100%\n",
      "AutoML progress: |█████████████████████████████████████████████████████ (cancelled)  99%\n"
     ]
    },
    {
     "ename": "H2OJobCancelled",
     "evalue": "Job<$03017f00000132d4ffffffff$_87b9f4236fa7b6614526e6ac157e49ea> was cancelled by the user.",
     "output_type": "error",
     "traceback": [
      "\u001b[0;31m---------------------------------------------------------------------------\u001b[0m",
      "\u001b[0;31mH2OJobCancelled\u001b[0m                           Traceback (most recent call last)",
      "\u001b[0;32m<ipython-input-7-18cf764bd207>\u001b[0m in \u001b[0;36m<module>\u001b[0;34m\u001b[0m\n\u001b[1;32m      1\u001b[0m \u001b[0mstart_time\u001b[0m \u001b[0;34m=\u001b[0m \u001b[0mtime\u001b[0m\u001b[0;34m.\u001b[0m\u001b[0mtime\u001b[0m\u001b[0;34m(\u001b[0m\u001b[0;34m)\u001b[0m\u001b[0;34m\u001b[0m\u001b[0;34m\u001b[0m\u001b[0m\n\u001b[0;32m----> 2\u001b[0;31m \u001b[0mds1_h2o_predictions\u001b[0m \u001b[0;34m=\u001b[0m \u001b[0mh2o_classifications\u001b[0m\u001b[0;34m(\u001b[0m\u001b[0mX_train\u001b[0m\u001b[0;34m,\u001b[0m \u001b[0my_train\u001b[0m\u001b[0;34m,\u001b[0m \u001b[0mX_test\u001b[0m\u001b[0;34m,\u001b[0m \u001b[0mds1_df\u001b[0m\u001b[0;34m.\u001b[0m\u001b[0mcolumns\u001b[0m\u001b[0;34m[\u001b[0m\u001b[0;34m-\u001b[0m\u001b[0;36m1\u001b[0m\u001b[0;34m]\u001b[0m\u001b[0;34m)\u001b[0m\u001b[0;34m\u001b[0m\u001b[0;34m\u001b[0m\u001b[0m\n\u001b[0m\u001b[1;32m      3\u001b[0m \u001b[0mend_time\u001b[0m \u001b[0;34m=\u001b[0m \u001b[0mtime\u001b[0m\u001b[0;34m.\u001b[0m\u001b[0mtime\u001b[0m\u001b[0;34m(\u001b[0m\u001b[0;34m)\u001b[0m\u001b[0;34m\u001b[0m\u001b[0;34m\u001b[0m\u001b[0m\n",
      "\u001b[0;32m<ipython-input-3-4aa5e156258b>\u001b[0m in \u001b[0;36mh2o_classifications\u001b[0;34m(X_train, y_train, X_test, target)\u001b[0m\n\u001b[1;32m      5\u001b[0m     \u001b[0mtrain_hf\u001b[0m \u001b[0;34m=\u001b[0m \u001b[0mh2o\u001b[0m\u001b[0;34m.\u001b[0m\u001b[0mH2OFrame\u001b[0m\u001b[0;34m(\u001b[0m\u001b[0mtrain_hf\u001b[0m\u001b[0;34m)\u001b[0m\u001b[0;34m\u001b[0m\u001b[0;34m\u001b[0m\u001b[0m\n\u001b[1;32m      6\u001b[0m     \u001b[0mtrain_hf\u001b[0m\u001b[0;34m[\u001b[0m\u001b[0mtarget\u001b[0m\u001b[0;34m]\u001b[0m \u001b[0;34m=\u001b[0m \u001b[0mtrain_hf\u001b[0m\u001b[0;34m[\u001b[0m\u001b[0mtarget\u001b[0m\u001b[0;34m]\u001b[0m\u001b[0;34m.\u001b[0m\u001b[0masfactor\u001b[0m\u001b[0;34m(\u001b[0m\u001b[0;34m)\u001b[0m\u001b[0;34m\u001b[0m\u001b[0;34m\u001b[0m\u001b[0m\n\u001b[0;32m----> 7\u001b[0;31m     \u001b[0maml\u001b[0m\u001b[0;34m.\u001b[0m\u001b[0mtrain\u001b[0m\u001b[0;34m(\u001b[0m\u001b[0my\u001b[0m \u001b[0;34m=\u001b[0m \u001b[0mtarget\u001b[0m\u001b[0;34m,\u001b[0m \u001b[0mtraining_frame\u001b[0m \u001b[0;34m=\u001b[0m \u001b[0mtrain_hf\u001b[0m\u001b[0;34m)\u001b[0m\u001b[0;34m\u001b[0m\u001b[0;34m\u001b[0m\u001b[0m\n\u001b[0m\u001b[1;32m      8\u001b[0m     \u001b[0mresponse\u001b[0m \u001b[0;34m=\u001b[0m \u001b[0maml\u001b[0m\u001b[0;34m.\u001b[0m\u001b[0mpredict\u001b[0m\u001b[0;34m(\u001b[0m\u001b[0mh2o\u001b[0m\u001b[0;34m.\u001b[0m\u001b[0mH2OFrame\u001b[0m\u001b[0;34m(\u001b[0m\u001b[0mX_test\u001b[0m\u001b[0;34m)\u001b[0m\u001b[0;34m)\u001b[0m\u001b[0;34m\u001b[0m\u001b[0;34m\u001b[0m\u001b[0m\n\u001b[1;32m      9\u001b[0m     \u001b[0mprint\u001b[0m\u001b[0;34m(\u001b[0m\u001b[0;34m\"various models tested:\"\u001b[0m\u001b[0;34m)\u001b[0m\u001b[0;34m\u001b[0m\u001b[0;34m\u001b[0m\u001b[0m\n",
      "\u001b[0;32m/opt/conda/lib/python3.7/site-packages/h2o/automl/autoh2o.py\u001b[0m in \u001b[0;36mtrain\u001b[0;34m(self, x, y, training_frame, fold_column, weights_column, validation_frame, leaderboard_frame, blending_frame)\u001b[0m\n\u001b[1;32m    479\u001b[0m         \u001b[0mpoll_updates\u001b[0m \u001b[0;34m=\u001b[0m \u001b[0mft\u001b[0m\u001b[0;34m.\u001b[0m\u001b[0mpartial\u001b[0m\u001b[0;34m(\u001b[0m\u001b[0mself\u001b[0m\u001b[0;34m.\u001b[0m\u001b[0m_poll_training_updates\u001b[0m\u001b[0;34m,\u001b[0m \u001b[0mverbosity\u001b[0m\u001b[0;34m=\u001b[0m\u001b[0mself\u001b[0m\u001b[0;34m.\u001b[0m\u001b[0m_verbosity\u001b[0m\u001b[0;34m,\u001b[0m \u001b[0mstate\u001b[0m\u001b[0;34m=\u001b[0m\u001b[0;34m{\u001b[0m\u001b[0;34m}\u001b[0m\u001b[0;34m)\u001b[0m\u001b[0;34m\u001b[0m\u001b[0;34m\u001b[0m\u001b[0m\n\u001b[1;32m    480\u001b[0m         \u001b[0;32mtry\u001b[0m\u001b[0;34m:\u001b[0m\u001b[0;34m\u001b[0m\u001b[0;34m\u001b[0m\u001b[0m\n\u001b[0;32m--> 481\u001b[0;31m             \u001b[0mself\u001b[0m\u001b[0;34m.\u001b[0m\u001b[0m_job\u001b[0m\u001b[0;34m.\u001b[0m\u001b[0mpoll\u001b[0m\u001b[0;34m(\u001b[0m\u001b[0mpoll_updates\u001b[0m\u001b[0;34m=\u001b[0m\u001b[0mpoll_updates\u001b[0m\u001b[0;34m)\u001b[0m\u001b[0;34m\u001b[0m\u001b[0;34m\u001b[0m\u001b[0m\n\u001b[0m\u001b[1;32m    482\u001b[0m         \u001b[0;32mfinally\u001b[0m\u001b[0;34m:\u001b[0m\u001b[0;34m\u001b[0m\u001b[0;34m\u001b[0m\u001b[0m\n\u001b[1;32m    483\u001b[0m             \u001b[0mpoll_updates\u001b[0m\u001b[0;34m(\u001b[0m\u001b[0mself\u001b[0m\u001b[0;34m.\u001b[0m\u001b[0m_job\u001b[0m\u001b[0;34m,\u001b[0m \u001b[0;36m1\u001b[0m\u001b[0;34m)\u001b[0m\u001b[0;34m\u001b[0m\u001b[0;34m\u001b[0m\u001b[0m\n",
      "\u001b[0;32m/opt/conda/lib/python3.7/site-packages/h2o/job.py\u001b[0m in \u001b[0;36mpoll\u001b[0;34m(self, poll_updates)\u001b[0m\n\u001b[1;32m     72\u001b[0m         \u001b[0;31m# check if failed... and politely print relevant message\u001b[0m\u001b[0;34m\u001b[0m\u001b[0;34m\u001b[0m\u001b[0;34m\u001b[0m\u001b[0m\n\u001b[1;32m     73\u001b[0m         \u001b[0;32mif\u001b[0m \u001b[0mself\u001b[0m\u001b[0;34m.\u001b[0m\u001b[0mstatus\u001b[0m \u001b[0;34m==\u001b[0m \u001b[0;34m\"CANCELLED\"\u001b[0m\u001b[0;34m:\u001b[0m\u001b[0;34m\u001b[0m\u001b[0;34m\u001b[0m\u001b[0m\n\u001b[0;32m---> 74\u001b[0;31m             \u001b[0;32mraise\u001b[0m \u001b[0mH2OJobCancelled\u001b[0m\u001b[0;34m(\u001b[0m\u001b[0;34m\"Job<%s> was cancelled by the user.\"\u001b[0m \u001b[0;34m%\u001b[0m \u001b[0mself\u001b[0m\u001b[0;34m.\u001b[0m\u001b[0mjob_key\u001b[0m\u001b[0;34m)\u001b[0m\u001b[0;34m\u001b[0m\u001b[0;34m\u001b[0m\u001b[0m\n\u001b[0m\u001b[1;32m     75\u001b[0m         \u001b[0;32mif\u001b[0m \u001b[0mself\u001b[0m\u001b[0;34m.\u001b[0m\u001b[0mstatus\u001b[0m \u001b[0;34m==\u001b[0m \u001b[0;34m\"FAILED\"\u001b[0m\u001b[0;34m:\u001b[0m\u001b[0;34m\u001b[0m\u001b[0;34m\u001b[0m\u001b[0m\n\u001b[1;32m     76\u001b[0m             \u001b[0;32mif\u001b[0m \u001b[0;34m(\u001b[0m\u001b[0misinstance\u001b[0m\u001b[0;34m(\u001b[0m\u001b[0mself\u001b[0m\u001b[0;34m.\u001b[0m\u001b[0mjob\u001b[0m\u001b[0;34m,\u001b[0m \u001b[0mdict\u001b[0m\u001b[0;34m)\u001b[0m\u001b[0;34m)\u001b[0m \u001b[0;32mand\u001b[0m \u001b[0;34m(\u001b[0m\u001b[0;34m\"stacktrace\"\u001b[0m \u001b[0;32min\u001b[0m \u001b[0mlist\u001b[0m\u001b[0;34m(\u001b[0m\u001b[0mself\u001b[0m\u001b[0;34m.\u001b[0m\u001b[0mjob\u001b[0m\u001b[0;34m)\u001b[0m\u001b[0;34m)\u001b[0m\u001b[0;34m:\u001b[0m\u001b[0;34m\u001b[0m\u001b[0;34m\u001b[0m\u001b[0m\n",
      "\u001b[0;31mH2OJobCancelled\u001b[0m: Job<$03017f00000132d4ffffffff$_87b9f4236fa7b6614526e6ac157e49ea> was cancelled by the user."
     ]
    }
   ],
   "source": [
    "start_time = time.time()\n",
    "ds1_h2o_predictions = h2o_classifications(X_train, y_train, X_test, ds1_df.columns[-1])\n",
    "end_time = time.time()"
   ]
  },
  {
   "cell_type": "code",
   "execution_count": null,
   "metadata": {},
   "outputs": [],
   "source": [
    "metric_calculator(\"H2O\", \"wine quality\",y_test, ds1_h2o_predictions)\n",
    "print(\"total time elapsed: \",end_time - start_time)"
   ]
  },
  {
   "cell_type": "markdown",
   "metadata": {},
   "source": [
    "## dataset 2\n"
   ]
  },
  {
   "cell_type": "code",
   "execution_count": 6,
   "metadata": {},
   "outputs": [],
   "source": [
    "X, y = fetch_openml('spambase', version=1, return_X_y=True, as_frame=True)\n",
    "\n",
    "X_train, X_test, y_train, y_test = train_test_split(X, y, random_state=1)"
   ]
  },
  {
   "cell_type": "code",
   "execution_count": 12,
   "metadata": {},
   "outputs": [
    {
     "name": "stderr",
     "output_type": "stream",
     "text": [
      "/opt/conda/lib/python3.7/site-packages/distributed/node.py:155: UserWarning: Port 8787 is already in use.\n",
      "Perhaps you already have a cluster running?\n",
      "Hosting the HTTP server on port 43301 instead\n",
      "  http_address[\"port\"], self.http_server.port\n",
      "/opt/conda/lib/python3.7/site-packages/autosklearn/automl.py:262: RuntimeWarning: coroutine 'Client._shutdown' was never awaited\n",
      "  self._dask_client.shutdown()\n"
     ]
    },
    {
     "name": "stdout",
     "output_type": "stream",
     "text": [
      "[WARNING] [2020-12-15 01:20:37,176:AutoML(1):2b36186d2a8d5021e8a046ef162a9f3e] Time limit for a single run is higher than total time limit. Capping the limit for a single run to the total time given to SMAC (178.639533)\n",
      "[WARNING] [2020-12-15 01:20:37,179:AutoML(1):2b36186d2a8d5021e8a046ef162a9f3e] Capping the per_run_time_limit to 89.0 to have time for a least 2 models in each process.\n"
     ]
    }
   ],
   "source": [
    "start_time = time.time()\n",
    "ds2_autosklearn_predictions = autosklearn_classification(X_train, y_train, X_test)\n",
    "end_time = time.time()"
   ]
  },
  {
   "cell_type": "code",
   "execution_count": 30,
   "metadata": {},
   "outputs": [
    {
     "name": "stdout",
     "output_type": "stream",
     "text": [
      "Framework:  auto-sklearn\n",
      "log loss: 0.3834920926\n",
      "accuracy:  0.9591659426585578\n",
      "Classification report\n",
      "              precision    recall  f1-score   support\n",
      "\n",
      "           0       0.96      0.98      0.97       701\n",
      "           1       0.97      0.93      0.95       450\n",
      "\n",
      "    accuracy                           0.96      1151\n",
      "   macro avg       0.96      0.95      0.96      1151\n",
      "weighted avg       0.96      0.96      0.96      1151\n",
      "\n",
      "total time elapsed:  3627.5266301631927\n"
     ]
    }
   ],
   "source": [
    "metric_calculator(\"auto-sklearn\", \"spambase\", y_test, ds2_autosklearn_predictions)\n",
    "print(\"total time elapsed: \",end_time - start_time)"
   ]
  },
  {
   "cell_type": "code",
   "execution_count": 20,
   "metadata": {},
   "outputs": [
    {
     "data": {
      "application/vnd.jupyter.widget-view+json": {
       "model_id": "",
       "version_major": 2,
       "version_minor": 0
      },
      "text/plain": [
       "HBox(children=(HTML(value='Optimization Progress'), FloatProgress(value=0.0, max=300.0), HTML(value='')))"
      ]
     },
     "metadata": {},
     "output_type": "display_data"
    },
    {
     "name": "stdout",
     "output_type": "stream",
     "text": [
      "\n",
      "Generation 1 - Current best internal CV score: 0.946376811594203\n",
      "\n",
      "Generation 2 - Current best internal CV score: 0.9489855072463769\n",
      "\n",
      "Generation 4 - Current best internal CV score: 0.9515942028985507\n",
      "\n",
      "Generation 5 - Current best internal CV score: 0.952463768115942\n",
      "\n",
      "Best pipeline: GradientBoostingClassifier(BernoulliNB(input_matrix, alpha=0.01, fit_prior=True), learning_rate=0.1, max_depth=6, max_features=0.5, min_samples_leaf=15, min_samples_split=5, n_estimators=100, subsample=0.7500000000000001)\n"
     ]
    }
   ],
   "source": [
    "start_time = time.time()\n",
    "ds2_tpot_predictions = tpot_classification(X_train, y_train, X_test)\n",
    "end_time = time.time()"
   ]
  },
  {
   "cell_type": "code",
   "execution_count": 21,
   "metadata": {},
   "outputs": [
    {
     "name": "stdout",
     "output_type": "stream",
     "text": [
      "Framework:  tpot\n",
      "log loss:  0.12303342451402823\n",
      "accuracy:  0.9548218940052129\n",
      "Classification report\n",
      "              precision    recall  f1-score   support\n",
      "\n",
      "           0       0.96      0.97      0.96       701\n",
      "           1       0.95      0.94      0.94       450\n",
      "\n",
      "    accuracy                           0.95      1151\n",
      "   macro avg       0.95      0.95      0.95      1151\n",
      "weighted avg       0.95      0.95      0.95      1151\n",
      "\n",
      "total time elapsed:  1716.766785621643\n"
     ]
    }
   ],
   "source": [
    "metric_calculator(\"tpot\", \"spambase\", y_test,ds2_tpot_predictions)\n",
    "print(\"total time elapsed: \",end_time - start_time)"
   ]
  },
  {
   "cell_type": "code",
   "execution_count": 22,
   "metadata": {},
   "outputs": [
    {
     "name": "stdout",
     "output_type": "stream",
     "text": [
      "Checking whether there is an H2O instance running at http://localhost:54321 . connected.\n"
     ]
    },
    {
     "data": {
      "text/html": [
       "<div style=\"overflow:auto\"><table style=\"width:50%\"><tr><td>H2O_cluster_uptime:</td>\n",
       "<td>1 hour 42 mins</td></tr>\n",
       "<tr><td>H2O_cluster_timezone:</td>\n",
       "<td>Etc/UTC</td></tr>\n",
       "<tr><td>H2O_data_parsing_timezone:</td>\n",
       "<td>UTC</td></tr>\n",
       "<tr><td>H2O_cluster_version:</td>\n",
       "<td>3.32.0.2</td></tr>\n",
       "<tr><td>H2O_cluster_version_age:</td>\n",
       "<td>27 days </td></tr>\n",
       "<tr><td>H2O_cluster_name:</td>\n",
       "<td>H2O_from_python_jupyter_htc3nt</td></tr>\n",
       "<tr><td>H2O_cluster_total_nodes:</td>\n",
       "<td>1</td></tr>\n",
       "<tr><td>H2O_cluster_free_memory:</td>\n",
       "<td>7.163 Gb</td></tr>\n",
       "<tr><td>H2O_cluster_total_cores:</td>\n",
       "<td>8</td></tr>\n",
       "<tr><td>H2O_cluster_allowed_cores:</td>\n",
       "<td>8</td></tr>\n",
       "<tr><td>H2O_cluster_status:</td>\n",
       "<td>locked, healthy</td></tr>\n",
       "<tr><td>H2O_connection_url:</td>\n",
       "<td>http://localhost:54321</td></tr>\n",
       "<tr><td>H2O_connection_proxy:</td>\n",
       "<td>{\"http\": null, \"https\": null}</td></tr>\n",
       "<tr><td>H2O_internal_security:</td>\n",
       "<td>False</td></tr>\n",
       "<tr><td>H2O_API_Extensions:</td>\n",
       "<td>Amazon S3, XGBoost, Algos, AutoML, Core V3, TargetEncoder, Core V4</td></tr>\n",
       "<tr><td>Python_version:</td>\n",
       "<td>3.7.8 final</td></tr></table></div>"
      ],
      "text/plain": [
       "--------------------------  ------------------------------------------------------------------\n",
       "H2O_cluster_uptime:         1 hour 42 mins\n",
       "H2O_cluster_timezone:       Etc/UTC\n",
       "H2O_data_parsing_timezone:  UTC\n",
       "H2O_cluster_version:        3.32.0.2\n",
       "H2O_cluster_version_age:    27 days\n",
       "H2O_cluster_name:           H2O_from_python_jupyter_htc3nt\n",
       "H2O_cluster_total_nodes:    1\n",
       "H2O_cluster_free_memory:    7.163 Gb\n",
       "H2O_cluster_total_cores:    8\n",
       "H2O_cluster_allowed_cores:  8\n",
       "H2O_cluster_status:         locked, healthy\n",
       "H2O_connection_url:         http://localhost:54321\n",
       "H2O_connection_proxy:       {\"http\": null, \"https\": null}\n",
       "H2O_internal_security:      False\n",
       "H2O_API_Extensions:         Amazon S3, XGBoost, Algos, AutoML, Core V3, TargetEncoder, Core V4\n",
       "Python_version:             3.7.8 final\n",
       "--------------------------  ------------------------------------------------------------------"
      ]
     },
     "metadata": {},
     "output_type": "display_data"
    },
    {
     "name": "stdout",
     "output_type": "stream",
     "text": [
      "Parse progress: |█████████████████████████████████████████████████████████| 100%\n",
      "AutoML progress: |████████████████████████████████████████████████████████| 100%\n",
      "Parse progress: |█████████████████████████████████████████████████████████| 100%\n",
      "stackedensemble prediction progress: |████████████████████████████████████| 100%\n",
      "various models tested:\n"
     ]
    },
    {
     "data": {
      "text/html": [
       "<table>\n",
       "<thead>\n",
       "<tr><th>model_id                                           </th><th style=\"text-align: right;\">     auc</th><th style=\"text-align: right;\">  logloss</th><th style=\"text-align: right;\">   aucpr</th><th style=\"text-align: right;\">  mean_per_class_error</th><th style=\"text-align: right;\">    rmse</th><th style=\"text-align: right;\">      mse</th><th style=\"text-align: right;\">  training_time_ms</th><th style=\"text-align: right;\">  predict_time_per_row_ms</th></tr>\n",
       "</thead>\n",
       "<tbody>\n",
       "<tr><td>StackedEnsemble_AllModels_AutoML_20201215_113110   </td><td style=\"text-align: right;\">0.988626</td><td style=\"text-align: right;\"> 0.138365</td><td style=\"text-align: right;\">0.982851</td><td style=\"text-align: right;\">             0.0481614</td><td style=\"text-align: right;\">0.191989</td><td style=\"text-align: right;\">0.0368598</td><td style=\"text-align: right;\">              2039</td><td style=\"text-align: right;\">                 0.341688</td></tr>\n",
       "<tr><td>GBM_grid__1_AutoML_20201215_113110_model_13        </td><td style=\"text-align: right;\">0.988322</td><td style=\"text-align: right;\"> 0.131862</td><td style=\"text-align: right;\">0.983112</td><td style=\"text-align: right;\">             0.0507669</td><td style=\"text-align: right;\">0.192847</td><td style=\"text-align: right;\">0.0371901</td><td style=\"text-align: right;\">              1265</td><td style=\"text-align: right;\">                 0.038047</td></tr>\n",
       "<tr><td>StackedEnsemble_BestOfFamily_AutoML_20201215_113110</td><td style=\"text-align: right;\">0.987788</td><td style=\"text-align: right;\"> 0.141036</td><td style=\"text-align: right;\">0.982787</td><td style=\"text-align: right;\">             0.0493742</td><td style=\"text-align: right;\">0.194917</td><td style=\"text-align: right;\">0.0379924</td><td style=\"text-align: right;\">               449</td><td style=\"text-align: right;\">                 0.044199</td></tr>\n",
       "<tr><td>GBM_grid__1_AutoML_20201215_113110_model_8         </td><td style=\"text-align: right;\">0.987766</td><td style=\"text-align: right;\"> 0.133093</td><td style=\"text-align: right;\">0.982901</td><td style=\"text-align: right;\">             0.0499956</td><td style=\"text-align: right;\">0.192318</td><td style=\"text-align: right;\">0.0369862</td><td style=\"text-align: right;\">              1709</td><td style=\"text-align: right;\">                 0.0319  </td></tr>\n",
       "<tr><td>GBM_grid__1_AutoML_20201215_113110_model_7         </td><td style=\"text-align: right;\">0.987754</td><td style=\"text-align: right;\"> 0.132591</td><td style=\"text-align: right;\">0.981016</td><td style=\"text-align: right;\">             0.0500404</td><td style=\"text-align: right;\">0.191321</td><td style=\"text-align: right;\">0.0366038</td><td style=\"text-align: right;\">              1104</td><td style=\"text-align: right;\">                 0.035434</td></tr>\n",
       "<tr><td>GBM_4_AutoML_20201215_113110                       </td><td style=\"text-align: right;\">0.987694</td><td style=\"text-align: right;\"> 0.133169</td><td style=\"text-align: right;\">0.981948</td><td style=\"text-align: right;\">             0.0485133</td><td style=\"text-align: right;\">0.191923</td><td style=\"text-align: right;\">0.0368345</td><td style=\"text-align: right;\">              1446</td><td style=\"text-align: right;\">                 0.029298</td></tr>\n",
       "<tr><td>GBM_grid__1_AutoML_20201215_113110_model_6         </td><td style=\"text-align: right;\">0.987609</td><td style=\"text-align: right;\"> 0.132999</td><td style=\"text-align: right;\">0.98119 </td><td style=\"text-align: right;\">             0.0491424</td><td style=\"text-align: right;\">0.192117</td><td style=\"text-align: right;\">0.0369089</td><td style=\"text-align: right;\">              1728</td><td style=\"text-align: right;\">                 0.033811</td></tr>\n",
       "<tr><td>GBM_grid__1_AutoML_20201215_113110_model_10        </td><td style=\"text-align: right;\">0.987591</td><td style=\"text-align: right;\"> 0.134586</td><td style=\"text-align: right;\">0.981039</td><td style=\"text-align: right;\">             0.0521966</td><td style=\"text-align: right;\">0.194223</td><td style=\"text-align: right;\">0.0377226</td><td style=\"text-align: right;\">              1166</td><td style=\"text-align: right;\">                 0.029874</td></tr>\n",
       "<tr><td>GBM_2_AutoML_20201215_113110                       </td><td style=\"text-align: right;\">0.987268</td><td style=\"text-align: right;\"> 0.137118</td><td style=\"text-align: right;\">0.981027</td><td style=\"text-align: right;\">             0.0528777</td><td style=\"text-align: right;\">0.195929</td><td style=\"text-align: right;\">0.0383882</td><td style=\"text-align: right;\">              1234</td><td style=\"text-align: right;\">                 0.026696</td></tr>\n",
       "<tr><td>GBM_grid__1_AutoML_20201215_113110_model_1         </td><td style=\"text-align: right;\">0.987193</td><td style=\"text-align: right;\"> 0.140357</td><td style=\"text-align: right;\">0.981762</td><td style=\"text-align: right;\">             0.0518823</td><td style=\"text-align: right;\">0.198237</td><td style=\"text-align: right;\">0.0392977</td><td style=\"text-align: right;\">              1615</td><td style=\"text-align: right;\">                 0.031847</td></tr>\n",
       "</tbody>\n",
       "</table>"
      ]
     },
     "metadata": {},
     "output_type": "display_data"
    },
    {
     "name": "stdout",
     "output_type": "stream",
     "text": [
      "\n"
     ]
    }
   ],
   "source": [
    "start_time = time.time()\n",
    "ds2_h2o_predictions = h2o_classifications(X_train, y_train, X_test, y.name)\n",
    "end_time = time.time()"
   ]
  },
  {
   "cell_type": "code",
   "execution_count": 1,
   "metadata": {},
   "outputs": [
    {
     "ename": "NameError",
     "evalue": "name 'metric_calculator' is not defined",
     "output_type": "error",
     "traceback": [
      "\u001b[0;31m---------------------------------------------------------------------------\u001b[0m",
      "\u001b[0;31mNameError\u001b[0m                                 Traceback (most recent call last)",
      "\u001b[0;32m<ipython-input-1-250dad99875e>\u001b[0m in \u001b[0;36m<module>\u001b[0;34m\u001b[0m\n\u001b[0;32m----> 1\u001b[0;31m \u001b[0mmetric_calculator\u001b[0m\u001b[0;34m(\u001b[0m\u001b[0;34m\"H2O\"\u001b[0m\u001b[0;34m,\u001b[0m \u001b[0;34m\"spambase\"\u001b[0m\u001b[0;34m,\u001b[0m\u001b[0my_test\u001b[0m\u001b[0;34m,\u001b[0m\u001b[0mds2_h2o_predictions\u001b[0m \u001b[0;34m)\u001b[0m\u001b[0;34m\u001b[0m\u001b[0;34m\u001b[0m\u001b[0m\n\u001b[0m\u001b[1;32m      2\u001b[0m \u001b[0mprint\u001b[0m\u001b[0;34m(\u001b[0m\u001b[0;34m\"total time elapsed: \"\u001b[0m\u001b[0;34m,\u001b[0m\u001b[0mend_time\u001b[0m \u001b[0;34m-\u001b[0m \u001b[0mstart_time\u001b[0m\u001b[0;34m)\u001b[0m\u001b[0;34m\u001b[0m\u001b[0;34m\u001b[0m\u001b[0m\n",
      "\u001b[0;31mNameError\u001b[0m: name 'metric_calculator' is not defined"
     ]
    }
   ],
   "source": [
    "metric_calculator(\"H2O\", \"spambase\",y_test,ds2_h2o_predictions )\n",
    "print(\"total time elapsed: \",end_time - start_time)"
   ]
  },
  {
   "cell_type": "markdown",
   "metadata": {},
   "source": [
    "## Dataset 3"
   ]
  },
  {
   "cell_type": "code",
   "execution_count": null,
   "metadata": {},
   "outputs": [],
   "source": [
    "Marketing. = pd.read_csv(\"bank-marketing\",sep=\";\")\n",
    "\n",
    "X, y = Marketing.iloc[:,:-1], Marketing.iloc[:,-1]\n",
    "X_train, X_test, y_train, y_test = train_test_split(X, y, random_state=1)"
   ]
  },
  {
   "cell_type": "code",
   "execution_count": null,
   "metadata": {},
   "outputs": [
    {
     "name": "stdout",
     "output_type": "stream",
     "text": [
      "1\n"
     ]
    },
    {
     "name": "stderr",
     "output_type": "stream",
     "text": [
      "/opt/conda/lib/python3.7/site-packages/distributed/node.py:155: UserWarning: Port 8787 is already in use.\n",
      "Perhaps you already have a cluster running?\n",
      "Hosting the HTTP server on port 38319 instead\n",
      "  http_address[\"port\"], self.http_server.port\n"
     ]
    }
   ],
   "source": [
    "start_time = time.time()\n",
    "ds3_autosklearn_predictions = autosklearn_classification(X_train, y_train, X_test)"
   ]
  },
  {
   "cell_type": "code",
   "execution_count": null,
   "metadata": {},
   "outputs": [],
   "source": [
    "metric_calculator(\"auto-sklearn\", \"bank-marketing\",y_test, ds3_autosklearn_predictions)\n",
    "end_time = time.time()\n",
    "print(\"total time elapsed: \",end_time - start_time)"
   ]
  },
  {
   "cell_type": "code",
   "execution_count": null,
   "metadata": {},
   "outputs": [],
   "source": [
    "start_time = time.time()\n",
    "\n",
    "Marketing.rename(columns={'y': 'class'}, inplace=True)"
   ]
  },
  {
   "cell_type": "code",
   "execution_count": 8,
   "metadata": {
    "colab": {
     "base_uri": "https://localhost:8080/"
    },
    "id": "Gh2IvdlYDU_R",
    "outputId": "2c63059d-54a5-454f-a079-c94bbb6820a0"
   },
   "outputs": [
    {
     "name": "stdout",
     "output_type": "stream",
     "text": [
      "Number of levels in category 'job': 12.00 \n",
      "Number of levels in category 'marital': 4.00 \n",
      "Number of levels in category 'education': 8.00 \n",
      "Number of levels in category 'default': 3.00 \n",
      "Number of levels in category 'housing': 3.00 \n",
      "Number of levels in category 'loan': 3.00 \n",
      "Number of levels in category 'contact': 2.00 \n",
      "Number of levels in category 'month': 10.00 \n",
      "Number of levels in category 'day_of_week': 5.00 \n",
      "Number of levels in category 'poutcome': 3.00 \n",
      "Number of levels in category 'class': 2.00 \n"
     ]
    }
   ],
   "source": [
    "for cat in ['job', 'marital', 'education', 'default', 'housing', 'loan', 'contact', 'month', 'day_of_week', 'poutcome' ,'class']:\n",
    "    print(\"Number of levels in category '{0}': \\b {1:2.2f} \".format(cat, Marketing[cat].unique().size))"
   ]
  },
  {
   "cell_type": "code",
   "execution_count": 9,
   "metadata": {
    "colab": {
     "base_uri": "https://localhost:8080/"
    },
    "id": "pWuuQf1_DVz0",
    "outputId": "83529349-7165-4776-e529-08c77b53012e"
   },
   "outputs": [
    {
     "name": "stdout",
     "output_type": "stream",
     "text": [
      "Levels for catgeory 'contact': ['telephone' 'cellular']\n",
      "Levels for catgeory 'poutcome': ['nonexistent' 'failure' 'success']\n",
      "Levels for catgeory 'class': ['no' 'yes']\n",
      "Levels for catgeory 'marital': ['married' 'single' 'divorced' 'unknown']\n",
      "Levels for catgeory 'default': ['no' 'unknown' 'yes']\n",
      "Levels for catgeory 'housing': ['no' 'yes' 'unknown']\n",
      "Levels for catgeory 'loan': ['no' 'yes' 'unknown']\n"
     ]
    }
   ],
   "source": [
    "for cat in ['contact', 'poutcome','class', 'marital', 'default', 'housing', 'loan']:\n",
    "    print(\"Levels for catgeory '{0}': {1}\".format(cat, Marketing[cat].unique()))"
   ]
  },
  {
   "cell_type": "code",
   "execution_count": 10,
   "metadata": {
    "id": "JgtRLNNuDiKt"
   },
   "outputs": [],
   "source": [
    "Marketing['marital'] = Marketing['marital'].map({'married':0,'single':1,'divorced':2,'unknown':3})\n",
    "Marketing['default'] = Marketing['default'].map({'no':0,'yes':1,'unknown':2})\n",
    "Marketing['housing'] = Marketing['housing'].map({'no':0,'yes':1,'unknown':2})\n",
    "Marketing['loan'] = Marketing['loan'].map({'no':0,'yes':1,'unknown':2})\n",
    "Marketing['contact'] = Marketing['contact'].map({'telephone':0,'cellular':1})\n",
    "Marketing['poutcome'] = Marketing['poutcome'].map({'nonexistent':0,'failure':1,'success':2})\n",
    "Marketing['class'] = Marketing['class'].map({'no':0,'yes':1})"
   ]
  },
  {
   "cell_type": "code",
   "execution_count": 11,
   "metadata": {
    "id": "aNhoy7M9E0vA"
   },
   "outputs": [],
   "source": [
    "from sklearn.preprocessing import MultiLabelBinarizer\n",
    "mlb = MultiLabelBinarizer()\n",
    "\n",
    "job_Trans = mlb.fit_transform([{str(val)} for val in Marketing['job'].values])\n",
    "education_Trans = mlb.fit_transform([{str(val)} for val in Marketing['education'].values])\n",
    "month_Trans = mlb.fit_transform([{str(val)} for val in Marketing['month'].values])\n",
    "day_of_week_Trans = mlb.fit_transform([{str(val)} for val in Marketing['day_of_week'].values])"
   ]
  },
  {
   "cell_type": "code",
   "execution_count": 18,
   "metadata": {
    "id": "vmg1gMwvE7TM"
   },
   "outputs": [],
   "source": [
    "marketing_new = Marketing.drop(['marital','default','housing','loan','contact','poutcome','class','job','education','month','day_of_week'], axis=1)\n",
    "marketing_new = np.hstack((marketing_new.values, job_Trans, education_Trans, month_Trans, day_of_week_Trans))"
   ]
  },
  {
   "cell_type": "code",
   "execution_count": 26,
   "metadata": {
    "id": "faIHJoAEGsXW"
   },
   "outputs": [],
   "source": [
    "X, y = marketing_new[:,:-1], marketing_new[:,-1]\n",
    "\n",
    "X_train, X_test, y_train, y_test = train_test_split(X, y, random_state=1)"
   ]
  },
  {
   "cell_type": "code",
   "execution_count": 32,
   "metadata": {
    "colab": {
     "base_uri": "https://localhost:8080/",
     "height": 241,
     "referenced_widgets": [
      "eca508e61e504c59a4f502035c92be09",
      "f490c57bce5045aa8c417b3b25912ede",
      "2f2ee090558a4c439faa47aef0122b3f",
      "5ab8407111d14e98b0ed47d0557f69d1",
      "5319c1b7430b4010aa92b9ae748c7edd",
      "1a06a2fa234b4a958d3aad57428b3087",
      "5ff4b156fd994f3f95e04a99ec12ec18",
      "106efd061e124ffbbffcdd2dad0f82f5"
     ]
    },
    "id": "3PSmAPPBMFuV",
    "outputId": "f0a0e81c-9ffb-4da9-d3a5-314f48af1628"
   },
   "outputs": [
    {
     "data": {
      "application/vnd.jupyter.widget-view+json": {
       "model_id": "eca508e61e504c59a4f502035c92be09",
       "version_major": 2,
       "version_minor": 0
      },
      "text/plain": [
       "HBox(children=(FloatProgress(value=0.0, description='Optimization Progress', max=300.0, style=ProgressStyle(de…"
      ]
     },
     "metadata": {
      "tags": []
     },
     "output_type": "display_data"
    },
    {
     "name": "stdout",
     "output_type": "stream",
     "text": [
      "\n",
      "Generation 1 - Current best internal CV score: 1.0\n",
      "\n",
      "Generation 2 - Current best internal CV score: 1.0\n",
      "\n",
      "Generation 3 - Current best internal CV score: 1.0\n",
      "\n",
      "Generation 4 - Current best internal CV score: 1.0\n",
      "\n",
      "Generation 5 - Current best internal CV score: 1.0\n",
      "\n",
      "Best pipeline: DecisionTreeClassifier(input_matrix, criterion=gini, max_depth=6, min_samples_leaf=20, min_samples_split=14)\n"
     ]
    }
   ],
   "source": [
    "ds3_tpot_predictions = tpot_classification(X_train, y_train, X_test)\n",
    "end_time = time.time()"
   ]
  },
  {
   "cell_type": "code",
   "execution_count": 35,
   "metadata": {
    "colab": {
     "base_uri": "https://localhost:8080/"
    },
    "id": "plal2SPYMFYv",
    "outputId": "ea331fdd-444b-4caf-bb0e-cc51534752fa"
   },
   "outputs": [
    {
     "name": "stdout",
     "output_type": "stream",
     "text": [
      "Framework:  auto-sklearn\n",
      "log loss:  9.992007221626413e-16\n",
      "accuracy:  1.0\n",
      "Classification report\n",
      "              precision    recall  f1-score   support\n",
      "\n",
      "         0.0       1.00      1.00      1.00      8233\n",
      "         1.0       1.00      1.00      1.00      2064\n",
      "\n",
      "    accuracy                           1.00     10297\n",
      "   macro avg       1.00      1.00      1.00     10297\n",
      "weighted avg       1.00      1.00      1.00     10297\n",
      "\n",
      "total time elapsed:  6585.911735057831\n"
     ]
    }
   ],
   "source": [
    "metric_calculator(\"auto-sklearn\", \"spambase\", y_test, ds3_tpot_predictions)\n",
    "print(\"total time elapsed: \",end_time - start_time)"
   ]
  },
  {
   "cell_type": "code",
   "execution_count": null,
   "metadata": {},
   "outputs": [],
   "source": [
    "start_time = time.time()\n",
    "ds3_h2o_predictions = h2o_classifications(X_train, y_train, X_test, y.name)\n",
    "end_time = time.time()"
   ]
  },
  {
   "cell_type": "code",
   "execution_count": null,
   "metadata": {},
   "outputs": [],
   "source": [
    "metric_calculator(\"H2O\", \"bank-marketing\",y_test,ds3_h2o_predictions )\n",
    "\n",
    "print(\"total time elapsed: \",end_time - start_time)"
   ]
  }
 ],
 "metadata": {
  "environment": {
   "name": "common-cpu.m59",
   "type": "gcloud",
   "uri": "gcr.io/deeplearning-platform-release/base-cpu:m59"
  },
  "kernelspec": {
   "display_name": "Python 3",
   "language": "python",
   "name": "python3"
  },
  "language_info": {
   "codemirror_mode": {
    "name": "ipython",
    "version": 3
   },
   "file_extension": ".py",
   "mimetype": "text/x-python",
   "name": "python",
   "nbconvert_exporter": "python",
   "pygments_lexer": "ipython3",
   "version": "3.7.8"
  }
 },
 "nbformat": 4,
 "nbformat_minor": 4
}
