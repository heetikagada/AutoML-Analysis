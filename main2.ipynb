{
 "cells": [
  {
   "cell_type": "code",
   "execution_count": 26,
   "metadata": {},
   "outputs": [],
   "source": [
    "import pandas as pd\n",
    "import numpy as np\n",
    "import matplotlib.pyplot as plt\n",
    "from sklearn.preprocessing import MinMaxScaler\n",
    "import random\n",
    "from sklearn.model_selection import StratifiedShuffleSplit\n",
    "from sklearn.utils import resample\n",
    "from sklearn.metrics import accuracy_score, precision_score, recall_score, roc_auc_score\n",
    "from sklearn.model_selection import GridSearchCV\n",
    "from sklearn.metrics import make_scorer\n",
    "from sklearn.metrics import roc_curve\n",
    "from sklearn.metrics import auc\n",
    "from sklearn.naive_bayes import GaussianNB\n",
    "from sklearn.tree import DecisionTreeClassifier\n",
    "from sklearn.linear_model import LogisticRegression\n",
    "from sklearn.ensemble import RandomForestClassifier\n",
    "\n"
   ]
  },
  {
   "cell_type": "code",
   "execution_count": 203,
   "metadata": {},
   "outputs": [],
   "source": [
    "#Marketing Dataset"
   ]
  },
  {
   "cell_type": "code",
   "execution_count": 2,
   "metadata": {},
   "outputs": [],
   "source": [
    "df = pd.read_csv('bank-additional-full.csv',sep=';',)"
   ]
  },
  {
   "cell_type": "code",
   "execution_count": 3,
   "metadata": {},
   "outputs": [
    {
     "data": {
      "text/html": [
       "<div>\n",
       "<style scoped>\n",
       "    .dataframe tbody tr th:only-of-type {\n",
       "        vertical-align: middle;\n",
       "    }\n",
       "\n",
       "    .dataframe tbody tr th {\n",
       "        vertical-align: top;\n",
       "    }\n",
       "\n",
       "    .dataframe thead th {\n",
       "        text-align: right;\n",
       "    }\n",
       "</style>\n",
       "<table border=\"1\" class=\"dataframe\">\n",
       "  <thead>\n",
       "    <tr style=\"text-align: right;\">\n",
       "      <th></th>\n",
       "      <th>age</th>\n",
       "      <th>job</th>\n",
       "      <th>marital</th>\n",
       "      <th>education</th>\n",
       "      <th>default</th>\n",
       "      <th>housing</th>\n",
       "      <th>loan</th>\n",
       "      <th>contact</th>\n",
       "      <th>month</th>\n",
       "      <th>day_of_week</th>\n",
       "      <th>...</th>\n",
       "      <th>campaign</th>\n",
       "      <th>pdays</th>\n",
       "      <th>previous</th>\n",
       "      <th>poutcome</th>\n",
       "      <th>emp.var.rate</th>\n",
       "      <th>cons.price.idx</th>\n",
       "      <th>cons.conf.idx</th>\n",
       "      <th>euribor3m</th>\n",
       "      <th>nr.employed</th>\n",
       "      <th>y</th>\n",
       "    </tr>\n",
       "  </thead>\n",
       "  <tbody>\n",
       "    <tr>\n",
       "      <th>0</th>\n",
       "      <td>56</td>\n",
       "      <td>housemaid</td>\n",
       "      <td>married</td>\n",
       "      <td>basic.4y</td>\n",
       "      <td>no</td>\n",
       "      <td>no</td>\n",
       "      <td>no</td>\n",
       "      <td>telephone</td>\n",
       "      <td>may</td>\n",
       "      <td>mon</td>\n",
       "      <td>...</td>\n",
       "      <td>1</td>\n",
       "      <td>999</td>\n",
       "      <td>0</td>\n",
       "      <td>nonexistent</td>\n",
       "      <td>1.1</td>\n",
       "      <td>93.994</td>\n",
       "      <td>-36.4</td>\n",
       "      <td>4.857</td>\n",
       "      <td>5191.0</td>\n",
       "      <td>no</td>\n",
       "    </tr>\n",
       "    <tr>\n",
       "      <th>1</th>\n",
       "      <td>57</td>\n",
       "      <td>services</td>\n",
       "      <td>married</td>\n",
       "      <td>high.school</td>\n",
       "      <td>unknown</td>\n",
       "      <td>no</td>\n",
       "      <td>no</td>\n",
       "      <td>telephone</td>\n",
       "      <td>may</td>\n",
       "      <td>mon</td>\n",
       "      <td>...</td>\n",
       "      <td>1</td>\n",
       "      <td>999</td>\n",
       "      <td>0</td>\n",
       "      <td>nonexistent</td>\n",
       "      <td>1.1</td>\n",
       "      <td>93.994</td>\n",
       "      <td>-36.4</td>\n",
       "      <td>4.857</td>\n",
       "      <td>5191.0</td>\n",
       "      <td>no</td>\n",
       "    </tr>\n",
       "    <tr>\n",
       "      <th>2</th>\n",
       "      <td>37</td>\n",
       "      <td>services</td>\n",
       "      <td>married</td>\n",
       "      <td>high.school</td>\n",
       "      <td>no</td>\n",
       "      <td>yes</td>\n",
       "      <td>no</td>\n",
       "      <td>telephone</td>\n",
       "      <td>may</td>\n",
       "      <td>mon</td>\n",
       "      <td>...</td>\n",
       "      <td>1</td>\n",
       "      <td>999</td>\n",
       "      <td>0</td>\n",
       "      <td>nonexistent</td>\n",
       "      <td>1.1</td>\n",
       "      <td>93.994</td>\n",
       "      <td>-36.4</td>\n",
       "      <td>4.857</td>\n",
       "      <td>5191.0</td>\n",
       "      <td>no</td>\n",
       "    </tr>\n",
       "    <tr>\n",
       "      <th>3</th>\n",
       "      <td>40</td>\n",
       "      <td>admin.</td>\n",
       "      <td>married</td>\n",
       "      <td>basic.6y</td>\n",
       "      <td>no</td>\n",
       "      <td>no</td>\n",
       "      <td>no</td>\n",
       "      <td>telephone</td>\n",
       "      <td>may</td>\n",
       "      <td>mon</td>\n",
       "      <td>...</td>\n",
       "      <td>1</td>\n",
       "      <td>999</td>\n",
       "      <td>0</td>\n",
       "      <td>nonexistent</td>\n",
       "      <td>1.1</td>\n",
       "      <td>93.994</td>\n",
       "      <td>-36.4</td>\n",
       "      <td>4.857</td>\n",
       "      <td>5191.0</td>\n",
       "      <td>no</td>\n",
       "    </tr>\n",
       "    <tr>\n",
       "      <th>4</th>\n",
       "      <td>56</td>\n",
       "      <td>services</td>\n",
       "      <td>married</td>\n",
       "      <td>high.school</td>\n",
       "      <td>no</td>\n",
       "      <td>no</td>\n",
       "      <td>yes</td>\n",
       "      <td>telephone</td>\n",
       "      <td>may</td>\n",
       "      <td>mon</td>\n",
       "      <td>...</td>\n",
       "      <td>1</td>\n",
       "      <td>999</td>\n",
       "      <td>0</td>\n",
       "      <td>nonexistent</td>\n",
       "      <td>1.1</td>\n",
       "      <td>93.994</td>\n",
       "      <td>-36.4</td>\n",
       "      <td>4.857</td>\n",
       "      <td>5191.0</td>\n",
       "      <td>no</td>\n",
       "    </tr>\n",
       "  </tbody>\n",
       "</table>\n",
       "<p>5 rows × 21 columns</p>\n",
       "</div>"
      ],
      "text/plain": [
       "   age        job  marital    education  default housing loan    contact  \\\n",
       "0   56  housemaid  married     basic.4y       no      no   no  telephone   \n",
       "1   57   services  married  high.school  unknown      no   no  telephone   \n",
       "2   37   services  married  high.school       no     yes   no  telephone   \n",
       "3   40     admin.  married     basic.6y       no      no   no  telephone   \n",
       "4   56   services  married  high.school       no      no  yes  telephone   \n",
       "\n",
       "  month day_of_week  ...  campaign  pdays  previous     poutcome emp.var.rate  \\\n",
       "0   may         mon  ...         1    999         0  nonexistent          1.1   \n",
       "1   may         mon  ...         1    999         0  nonexistent          1.1   \n",
       "2   may         mon  ...         1    999         0  nonexistent          1.1   \n",
       "3   may         mon  ...         1    999         0  nonexistent          1.1   \n",
       "4   may         mon  ...         1    999         0  nonexistent          1.1   \n",
       "\n",
       "   cons.price.idx  cons.conf.idx  euribor3m  nr.employed   y  \n",
       "0          93.994          -36.4      4.857       5191.0  no  \n",
       "1          93.994          -36.4      4.857       5191.0  no  \n",
       "2          93.994          -36.4      4.857       5191.0  no  \n",
       "3          93.994          -36.4      4.857       5191.0  no  \n",
       "4          93.994          -36.4      4.857       5191.0  no  \n",
       "\n",
       "[5 rows x 21 columns]"
      ]
     },
     "execution_count": 3,
     "metadata": {},
     "output_type": "execute_result"
    }
   ],
   "source": [
    "df.head()"
   ]
  },
  {
   "cell_type": "code",
   "execution_count": 4,
   "metadata": {},
   "outputs": [
    {
     "data": {
      "text/plain": [
       "0    36548\n",
       "1     4640\n",
       "Name: y, dtype: int64"
      ]
     },
     "execution_count": 4,
     "metadata": {},
     "output_type": "execute_result"
    }
   ],
   "source": [
    "df['y'] = df['y'].map({'no':0, 'yes':1})\n",
    "\n",
    "df['y'].value_counts() "
   ]
  },
  {
   "cell_type": "code",
   "execution_count": 5,
   "metadata": {},
   "outputs": [
    {
     "data": {
      "image/png": "[encoded data removed]",
      "text/plain": [
       "<Figure size 720x432 with 1 Axes>"
      ]
     },
     "metadata": {
      "needs_background": "light"
     },
     "output_type": "display_data"
    },
    {
     "data": {
      "image/png": "[encoded data removed]",
      "text/plain": [
       "<Figure size 720x432 with 1 Axes>"
      ]
     },
     "metadata": {
      "needs_background": "light"
     },
     "output_type": "display_data"
    },
    {
     "data": {
      "image/png": "[encoded data removed]",
      "text/plain": [
       "<Figure size 720x432 with 1 Axes>"
      ]
     },
     "metadata": {
      "needs_background": "light"
     },
     "output_type": "display_data"
    },
    {
     "data": {
      "image/png": "[encoded data removed]",
      "text/plain": [
       "<Figure size 720x432 with 1 Axes>"
      ]
     },
     "metadata": {
      "needs_background": "light"
     },
     "output_type": "display_data"
    },
    {
     "data": {
      "image/png": "[encoded data removed]",
      "text/plain": [
       "<Figure size 720x432 with 1 Axes>"
      ]
     },
     "metadata": {
      "needs_background": "light"
     },
     "output_type": "display_data"
    },
    {
     "data": {
      "image/png": "[encoded data removed]",
      "text/plain": [
       "<Figure size 720x432 with 1 Axes>"
      ]
     },
     "metadata": {
      "needs_background": "light"
     },
     "output_type": "display_data"
    },
    {
     "data": {
      "image/png": "[encoded data removed]",
      "text/plain": [
       "<Figure size 720x432 with 1 Axes>"
      ]
     },
     "metadata": {
      "needs_background": "light"
     },
     "output_type": "display_data"
    },
    {
     "data": {
      "image/png": "[encoded data removed]",
      "text/plain": [
       "<Figure size 720x432 with 1 Axes>"
      ]
     },
     "metadata": {
      "needs_background": "light"
     },
     "output_type": "display_data"
    },
    {
     "data": {
      "image/png": "[encoded data removed]",
      "text/plain": [
       "<Figure size 720x432 with 1 Axes>"
      ]
     },
     "metadata": {
      "needs_background": "light"
     },
     "output_type": "display_data"
    },
    {
     "data": {
      "image/png": "[encoded data removed]",
      "text/plain": [
       "<Figure size 720x432 with 1 Axes>"
      ]
     },
     "metadata": {
      "needs_background": "light"
     },
     "output_type": "display_data"
    }
   ],
   "source": [
    "categorical = ['job','marital','education','default','housing','loan','contact','month','day_of_week','poutcome']\n",
    "for cat in categorical:\n",
    "    df[cat].value_counts().plot(kind='bar',figsize = (10, 6), title=cat)\n",
    "    plt.show()"
   ]
  },
  {
   "cell_type": "code",
   "execution_count": 6,
   "metadata": {},
   "outputs": [],
   "source": [
    "scaler = MinMaxScaler() \n",
    "\n",
    "classes = ['age', 'duration', 'campaign', 'pdays', 'previous', 'emp.var.rate', 'cons.price.idx', 'cons.conf.idx', 'euribor3m', 'nr.employed']\n",
    "\n",
    "df[classes] = scaler.fit_transform(df[classes])"
   ]
  },
  {
   "cell_type": "code",
   "execution_count": 7,
   "metadata": {},
   "outputs": [],
   "source": [
    "ndf = pd.get_dummies(df)\n",
    "ndf = ndf.drop('duration', axis=1)"
   ]
  },
  {
   "cell_type": "code",
   "execution_count": 8,
   "metadata": {},
   "outputs": [],
   "source": [
    "#random.seed(5634200)\n",
    "\n",
    "split = StratifiedShuffleSplit(n_splits=10, test_size = 0.2, random_state=18)\n",
    "\n",
    "for train_idx, test_idx in split.split(ndf, ndf['y']):\n",
    "    train_set = ndf.loc[train_idx]\n",
    "    test_set = ndf.loc[test_idx]\n",
    "\n"
   ]
  },
  {
   "cell_type": "code",
   "execution_count": 17,
   "metadata": {},
   "outputs": [
    {
     "data": {
      "text/plain": [
       "0    0.887344\n",
       "1    0.112656\n",
       "Name: y, dtype: float64"
      ]
     },
     "execution_count": 17,
     "metadata": {},
     "output_type": "execute_result"
    }
   ],
   "source": [
    "train_set['y'].value_counts()/len(train_set)"
   ]
  },
  {
   "cell_type": "code",
   "execution_count": 18,
   "metadata": {},
   "outputs": [
    {
     "data": {
      "text/plain": [
       "0    0.887351\n",
       "1    0.112649\n",
       "Name: y, dtype: float64"
      ]
     },
     "execution_count": 18,
     "metadata": {},
     "output_type": "execute_result"
    }
   ],
   "source": [
    "test_set['y'].value_counts()/len(test_set)"
   ]
  },
  {
   "cell_type": "code",
   "execution_count": 19,
   "metadata": {},
   "outputs": [
    {
     "data": {
      "text/plain": [
       "1    29238\n",
       "0    29238\n",
       "Name: y, dtype: int64"
      ]
     },
     "execution_count": 19,
     "metadata": {},
     "output_type": "execute_result"
    }
   ],
   "source": [
    "train_neg = train_set[train_set['y']==0]\n",
    "train_pos = train_set[train_set['y']==1]\n",
    " \n",
    "\n",
    "train_pos1 = resample(train_pos, replace=True, n_samples=29238, random_state=18)\n",
    " \n",
    "\n",
    "training_upsample = pd.concat([train_neg, train_pos1])\n",
    " \n",
    "\n",
    "training_upsample['y'].value_counts()"
   ]
  },
  {
   "cell_type": "code",
   "execution_count": 27,
   "metadata": {},
   "outputs": [],
   "source": [
    "X_train = training_upsample.drop('y', axis=1)\n",
    "X_test = test_set.drop('y', axis=1)\n",
    "y_train = training_upsample['y']\n",
    "y_test = test_set['y']\n",
    "\n",
    "X_im = train_set.drop('y', axis=1)\n",
    "y_im = train_set['y']"
   ]
  },
  {
   "cell_type": "code",
   "execution_count": 28,
   "metadata": {},
   "outputs": [],
   "source": [
    "def fit_classifier(model, X, y, parameters=None, scorer_metrics=None):\n",
    "    \n",
    "    grid_ob = GridSearchCV(estimator = model, param_grid = parameters, scoring=make_scorer(scorer_metrics), cv=10)\n",
    "    fit_grid = grid_ob.fit(X, y)\n",
    "    model_estimator = fit_grid.best_estimator_\n",
    "    model_estimator.fit(X, y)\n",
    "    y_pred = model_estimator.predict(X)\n",
    "\n",
    "    \n",
    "    print(\"Model performance on Training set\\n##################\")\n",
    "    print(\"Final acc. score on the training data: {:.4f}\".format(accuracy_score(y, y_pred)))\n",
    "    print(\"Final Precision score on training data: {:.4f}\".format(precision_score(y, y_pred)))\n",
    "    print(\"Final Recall score on training data: {:.4f}\".format(recall_score(y, y_pred)))\n",
    "    print(\"Final ROC AUC score on training data: {:.4f}\".format(roc_auc_score(y, y_pred)))\n",
    "    print(\"\\n\")\n",
    "    print(\"The best parameters are: {}\".format(model_estimator))\n",
    "\n",
    "    return model_estimator"
   ]
  },
  {
   "cell_type": "code",
   "execution_count": 29,
   "metadata": {},
   "outputs": [],
   "source": [
    "def classifier_test(model_fit, X, y):\n",
    "    y_pred = model_fit.predict(X)\n",
    "    print(\"\\n\")\n",
    "    print(\"\\nModel performance on Testing set\\n######################\")\n",
    "    print(\"Final acc. score on the testing data: {:.4f}\".format(accuracy_score(y, y_pred)))\n",
    "    print(\"Final Precision score on testing data: {:.4f}\".format(precision_score(y, y_pred)))\n",
    "    print(\"Final Recall score on testing data: {:.4f}\".format(recall_score(y, y_pred)))\n",
    "    print(\"Final ROC AUC score on testing data: {:.4f}\".format(roc_auc_score(y, y_pred)))\n",
    "    return y_pred"
   ]
  },
  {
   "cell_type": "code",
   "execution_count": 30,
   "metadata": {},
   "outputs": [],
   "source": [
    "\n",
    "\n",
    "def input_lift(model, X, y, model_name=None):\n",
    "   \n",
    "    if model_name == 'Neural Network':\n",
    "        probability_pos = model.predict_proba(X)[:,0]\n",
    "    else:\n",
    "        probability_pos = model.predict_proba(X)[:,1]  \n",
    "    actual_pos = np.array(list(y))\n",
    "    together = np.concatenate([proba_pos.reshape(proba_pos.shape[0],1), actual_pos.reshape(actual_pos.shape[0],1)], axis=1)\n",
    "    sorted_t = np.sort(together.view('i8,i8'), order=['f0'], axis=0).view(np.float)   \n",
    "    total_num = len(sorted_t)\n",
    "    sum_positive = sum(sorted_t[:,1]==1)\n",
    "    pos_reverse = sorted_t[:,1][::-1]\n",
    "    \n",
    "    pred_probab = sorted_t[:,0][::-1] \n",
    "    \n",
    "    pos_cumulative = 0\n",
    "    pos_cumulative_new = [0]\n",
    "    \n",
    "    for k in range(len(sorted_t)):\n",
    "        pos_cumulative = pos_cumulative + positive_reverse[k]/total_positive\n",
    "        pos_cumulative_new.append(pos_cumulative)\n",
    "        \n",
    "\n",
    "    population_res = 0\n",
    "    population_res_list = [0]\n",
    "    for i in range(len(sorted_t)):\n",
    "        population_res = population_res + i/total_num\n",
    "        population_res_list.append(i/total_num)\n",
    "        \n",
    "    return pos_cumulative_new, population_res_list, pred_probab"
   ]
  },
  {
   "cell_type": "code",
   "execution_count": 34,
   "metadata": {},
   "outputs": [],
   "source": [
    "def y_predict_threshold(model, X, y, top_percent, model_name=None):\n",
    "    \n",
    "    lift_input_model = lift_input(model, X, y, model_name=model_name) \n",
    "    idx = int(len(lift_input_model[2])*top_percent) \n",
    "    threshold_probab = lift_input_model[2][idx]\n",
    "    \n",
    "    if model_name == 'Neural Network':\n",
    "        y_proba = model.predict_proba(X)[:,0]\n",
    "    else:\n",
    "        y_proba = model.predict_proba(X)[:,1]\n",
    "        \n",
    "  \n",
    "    res = (y_proba>=threshold_probab).astype(int)\n",
    "    return res"
   ]
  },
  {
   "cell_type": "code",
   "execution_count": 35,
   "metadata": {},
   "outputs": [
    {
     "name": "stdout",
     "output_type": "stream",
     "text": [
      "\n",
      "Gaussian Naive Bayes model on training set\n",
      "########################\n",
      "Final acc. score on the training data: 0.7176\n",
      "Final Precision score on training data: 0.7388\n",
      "Final Recall score on training data: 0.6730\n",
      "Final ROC AUC score on training data: 0.7176\n",
      "\n",
      "Gaussian Naive Bayes model on test set\n",
      "##############################\n",
      "Final acc. score on the test data: 0.7586\n",
      "Final Precision score on test data: 0.2714\n",
      "Final Recall score on test data: 0.6789\n",
      "Final ROC AUC score on test data: 0.7238\n",
      "\n",
      "\n"
     ]
    }
   ],
   "source": [
    "model_1 = GaussianNB()\n",
    "model_1.fit(X_train, y_train)\n",
    "\n",
    "y_pred_GNB = model_1.predict(X_train)\n",
    "print(\"\\nGaussian Naive Bayes model on training set\\n########################\")\n",
    "print(\"Final acc. score on the training data: {:.4f}\".format(accuracy_score(y_train, y_pred_GNB)))\n",
    "print(\"Final Precision score on training data: {:.4f}\".format(precision_score(y_train, y_pred_GNB)))\n",
    "print(\"Final Recall score on training data: {:.4f}\".format(recall_score(y_train, y_pred_GNB)))\n",
    "print(\"Final ROC AUC score on training data: {:.4f}\".format(roc_auc_score(y_train, y_pred_GNB)))\n",
    "\n",
    "\n",
    "y_pred_test_GNB = model_1.predict(X_test)\n",
    "\n",
    "print(\"\\nGaussian Naive Bayes model on test set\\n##############################\")\n",
    "print(\"Final acc. score on the test data: {:.4f}\".format(accuracy_score(y_test, y_pred_test_GNB)))\n",
    "print(\"Final Precision score on test data: {:.4f}\".format(precision_score(y_test, y_pred_test_GNB)))\n",
    "print(\"Final Recall score on test data: {:.4f}\".format(recall_score(y_test, y_pred_test_GNB)))\n",
    "print(\"Final ROC AUC score on test data: {:.4f}\".format(roc_auc_score(y_test, y_pred_test_GNB)))\n",
    "print(\"\\n\")"
   ]
  },
  {
   "cell_type": "code",
   "execution_count": 36,
   "metadata": {},
   "outputs": [
    {
     "name": "stdout",
     "output_type": "stream",
     "text": [
      "Model performance on Training set\n",
      "##################\n",
      "Final acc. score on the training data: 0.7483\n",
      "Final Precision score on training data: 0.8234\n",
      "Final Recall score on training data: 0.6321\n",
      "Final ROC AUC score on training data: 0.7483\n",
      "\n",
      "\n",
      "The best parameters are: DecisionTreeClassifier(max_depth=7, min_samples_leaf=2, random_state=18)\n"
     ]
    }
   ],
   "source": [
    "params = {'max_depth': [6,7,8], 'min_samples_leaf': [2,3], 'min_samples_split': [2,3]}\n",
    "\n",
    "model_2 = fit_classifier(DecisionTreeClassifier(random_state=18), X_train, y_train, \n",
    "                          parameters=params, scorer_metrics=recall_score)"
   ]
  },
  {
   "cell_type": "code",
   "execution_count": 37,
   "metadata": {},
   "outputs": [
    {
     "name": "stdout",
     "output_type": "stream",
     "text": [
      "\n",
      "\n",
      "\n",
      "Model performance on Testing set\n",
      "######################\n",
      "Final acc. score on the testing data: 0.8383\n",
      "Final Precision score on testing data: 0.3692\n",
      "Final Recall score on testing data: 0.6142\n",
      "Final ROC AUC score on testing data: 0.7405\n"
     ]
    }
   ],
   "source": [
    "y_test_1 = classifier_test(model_2, X_test, y_test)"
   ]
  },
  {
   "cell_type": "code",
   "execution_count": 38,
   "metadata": {},
   "outputs": [
    {
     "name": "stderr",
     "output_type": "stream",
     "text": [
      "/opt/conda/lib/python3.7/site-packages/sklearn/model_selection/_validation.py:552: FitFailedWarning: Estimator fit failed. The score on this train-test partition for these parameters will be set to nan. Details: \n",
      "Traceback (most recent call last):\n",
      "  File \"/opt/conda/lib/python3.7/site-packages/sklearn/model_selection/_validation.py\", line 531, in _fit_and_score\n",
      "    estimator.fit(X_train, y_train, **fit_params)\n",
      "  File \"/opt/conda/lib/python3.7/site-packages/sklearn/linear_model/_logistic.py\", line 1304, in fit\n",
      "    solver = _check_solver(self.solver, self.penalty, self.dual)\n",
      "  File \"/opt/conda/lib/python3.7/site-packages/sklearn/linear_model/_logistic.py\", line 443, in _check_solver\n",
      "    \"got %s penalty.\" % (solver, penalty))\n",
      "ValueError: Solver lbfgs supports only 'l2' or 'none' penalties, got l1 penalty.\n",
      "\n",
      "  FitFailedWarning)\n",
      "/opt/conda/lib/python3.7/site-packages/sklearn/model_selection/_validation.py:552: FitFailedWarning: Estimator fit failed. The score on this train-test partition for these parameters will be set to nan. Details: \n",
      "Traceback (most recent call last):\n",
      "  File \"/opt/conda/lib/python3.7/site-packages/sklearn/model_selection/_validation.py\", line 531, in _fit_and_score\n",
      "    estimator.fit(X_train, y_train, **fit_params)\n",
      "  File \"/opt/conda/lib/python3.7/site-packages/sklearn/linear_model/_logistic.py\", line 1304, in fit\n",
      "    solver = _check_solver(self.solver, self.penalty, self.dual)\n",
      "  File \"/opt/conda/lib/python3.7/site-packages/sklearn/linear_model/_logistic.py\", line 443, in _check_solver\n",
      "    \"got %s penalty.\" % (solver, penalty))\n",
      "ValueError: Solver lbfgs supports only 'l2' or 'none' penalties, got l1 penalty.\n",
      "\n",
      "  FitFailedWarning)\n",
      "/opt/conda/lib/python3.7/site-packages/sklearn/model_selection/_validation.py:552: FitFailedWarning: Estimator fit failed. The score on this train-test partition for these parameters will be set to nan. Details: \n",
      "Traceback (most recent call last):\n",
      "  File \"/opt/conda/lib/python3.7/site-packages/sklearn/model_selection/_validation.py\", line 531, in _fit_and_score\n",
      "    estimator.fit(X_train, y_train, **fit_params)\n",
      "  File \"/opt/conda/lib/python3.7/site-packages/sklearn/linear_model/_logistic.py\", line 1304, in fit\n",
      "    solver = _check_solver(self.solver, self.penalty, self.dual)\n",
      "  File \"/opt/conda/lib/python3.7/site-packages/sklearn/linear_model/_logistic.py\", line 443, in _check_solver\n",
      "    \"got %s penalty.\" % (solver, penalty))\n",
      "ValueError: Solver lbfgs supports only 'l2' or 'none' penalties, got l1 penalty.\n",
      "\n",
      "  FitFailedWarning)\n"
     ]
    },
    {
     "name": "stdout",
     "output_type": "stream",
     "text": [
      "Model performance on Training set\n",
      "##################\n",
      "Final acc. score on the training data: 0.7273\n",
      "Final Precision score on training data: 0.7535\n",
      "Final Recall score on training data: 0.6755\n",
      "Final ROC AUC score on training data: 0.7273\n",
      "\n",
      "\n",
      "The best parameters are: LogisticRegression(C=0.0006, random_state=18)\n"
     ]
    }
   ],
   "source": [
    "params_3 = {'C': [0.0006,0.0007, 0.0008], 'penalty': ['l1', 'l2']}\n",
    "\n",
    "model_3 = fit_classifier(LogisticRegression(random_state=18), X_train, y_train, \n",
    "                          parameters=params_3, scorer_metrics=recall_score)"
   ]
  },
  {
   "cell_type": "code",
   "execution_count": 39,
   "metadata": {},
   "outputs": [
    {
     "name": "stdout",
     "output_type": "stream",
     "text": [
      "\n",
      "\n",
      "\n",
      "Model performance on Testing set\n",
      "######################\n",
      "Final acc. score on the testing data: 0.7686\n",
      "Final Precision score on testing data: 0.2823\n",
      "Final Recall score on testing data: 0.6832\n",
      "Final ROC AUC score on testing data: 0.7313\n"
     ]
    }
   ],
   "source": [
    "y_test_3 = classifier_test(model_3, X_test, y_test)"
   ]
  },
  {
   "cell_type": "code",
   "execution_count": 40,
   "metadata": {},
   "outputs": [
    {
     "name": "stdout",
     "output_type": "stream",
     "text": [
      "Model performance on Training set\n",
      "##################\n",
      "Final acc. score on the training data: 0.7427\n",
      "Final Precision score on training data: 0.7928\n",
      "Final Recall score on training data: 0.6570\n",
      "Final ROC AUC score on training data: 0.7427\n",
      "\n",
      "\n",
      "The best parameters are: RandomForestClassifier(max_depth=5, min_samples_leaf=2, random_state=18)\n"
     ]
    }
   ],
   "source": [
    "params_4 = {'max_depth': [5,6,7], 'min_samples_leaf': [2,3], 'min_samples_split': [2,3]}\n",
    "\n",
    "model_4 = fit_classifier(RandomForestClassifier(random_state=18), X_train, y_train, \n",
    "                          parameters=params_4, scorer_metrics=recall_score)"
   ]
  },
  {
   "cell_type": "code",
   "execution_count": 41,
   "metadata": {},
   "outputs": [
    {
     "name": "stdout",
     "output_type": "stream",
     "text": [
      "\n",
      "\n",
      "\n",
      "Model performance on Testing set\n",
      "######################\n",
      "Final acc. score on the testing data: 0.8178\n",
      "Final Precision score on testing data: 0.3391\n",
      "Final Recall score on testing data: 0.6509\n",
      "Final ROC AUC score on testing data: 0.7449\n"
     ]
    }
   ],
   "source": [
    "y_test_4 = classifier_test(model_4, X_test, y_test)"
   ]
  },
  {
   "cell_type": "code",
   "execution_count": 42,
   "metadata": {},
   "outputs": [],
   "source": [
    "#SpamBase Dataset"
   ]
  },
  {
   "cell_type": "code",
   "execution_count": 47,
   "metadata": {},
   "outputs": [],
   "source": [
    "df = pd.read_csv('dataset_44_spambase_new.csv')"
   ]
  },
  {
   "cell_type": "code",
   "execution_count": 48,
   "metadata": {},
   "outputs": [
    {
     "data": {
      "text/html": [
       "<div>\n",
       "<style scoped>\n",
       "    .dataframe tbody tr th:only-of-type {\n",
       "        vertical-align: middle;\n",
       "    }\n",
       "\n",
       "    .dataframe tbody tr th {\n",
       "        vertical-align: top;\n",
       "    }\n",
       "\n",
       "    .dataframe thead th {\n",
       "        text-align: right;\n",
       "    }\n",
       "</style>\n",
       "<table border=\"1\" class=\"dataframe\">\n",
       "  <thead>\n",
       "    <tr style=\"text-align: right;\">\n",
       "      <th></th>\n",
       "      <th>word_freq_make</th>\n",
       "      <th>word_freq_address</th>\n",
       "      <th>word_freq_all</th>\n",
       "      <th>word_freq_3d</th>\n",
       "      <th>word_freq_our</th>\n",
       "      <th>word_freq_over</th>\n",
       "      <th>word_freq_remove</th>\n",
       "      <th>word_freq_internet</th>\n",
       "      <th>word_freq_order</th>\n",
       "      <th>word_freq_mail</th>\n",
       "      <th>...</th>\n",
       "      <th>char_freq_1</th>\n",
       "      <th>char_freq_2</th>\n",
       "      <th>char_freq_3</th>\n",
       "      <th>char_freq_4</th>\n",
       "      <th>char_freq_5</th>\n",
       "      <th>char_freq_6</th>\n",
       "      <th>capital_run_length_average</th>\n",
       "      <th>capital_run_length_longest</th>\n",
       "      <th>capital_run_length_total</th>\n",
       "      <th>class</th>\n",
       "    </tr>\n",
       "  </thead>\n",
       "  <tbody>\n",
       "    <tr>\n",
       "      <th>0</th>\n",
       "      <td>0.00</td>\n",
       "      <td>0.64</td>\n",
       "      <td>0.64</td>\n",
       "      <td>0.0</td>\n",
       "      <td>0.32</td>\n",
       "      <td>0.00</td>\n",
       "      <td>0.00</td>\n",
       "      <td>0.00</td>\n",
       "      <td>0.00</td>\n",
       "      <td>0.00</td>\n",
       "      <td>...</td>\n",
       "      <td>0.00</td>\n",
       "      <td>0.000</td>\n",
       "      <td>0.0</td>\n",
       "      <td>0.778</td>\n",
       "      <td>0.000</td>\n",
       "      <td>0.000</td>\n",
       "      <td>3.756</td>\n",
       "      <td>61</td>\n",
       "      <td>278</td>\n",
       "      <td>1</td>\n",
       "    </tr>\n",
       "    <tr>\n",
       "      <th>1</th>\n",
       "      <td>0.21</td>\n",
       "      <td>0.28</td>\n",
       "      <td>0.50</td>\n",
       "      <td>0.0</td>\n",
       "      <td>0.14</td>\n",
       "      <td>0.28</td>\n",
       "      <td>0.21</td>\n",
       "      <td>0.07</td>\n",
       "      <td>0.00</td>\n",
       "      <td>0.94</td>\n",
       "      <td>...</td>\n",
       "      <td>0.00</td>\n",
       "      <td>0.132</td>\n",
       "      <td>0.0</td>\n",
       "      <td>0.372</td>\n",
       "      <td>0.180</td>\n",
       "      <td>0.048</td>\n",
       "      <td>5.114</td>\n",
       "      <td>101</td>\n",
       "      <td>1028</td>\n",
       "      <td>1</td>\n",
       "    </tr>\n",
       "    <tr>\n",
       "      <th>2</th>\n",
       "      <td>0.06</td>\n",
       "      <td>0.00</td>\n",
       "      <td>0.71</td>\n",
       "      <td>0.0</td>\n",
       "      <td>1.23</td>\n",
       "      <td>0.19</td>\n",
       "      <td>0.19</td>\n",
       "      <td>0.12</td>\n",
       "      <td>0.64</td>\n",
       "      <td>0.25</td>\n",
       "      <td>...</td>\n",
       "      <td>0.01</td>\n",
       "      <td>0.143</td>\n",
       "      <td>0.0</td>\n",
       "      <td>0.276</td>\n",
       "      <td>0.184</td>\n",
       "      <td>0.010</td>\n",
       "      <td>9.821</td>\n",
       "      <td>485</td>\n",
       "      <td>2259</td>\n",
       "      <td>1</td>\n",
       "    </tr>\n",
       "    <tr>\n",
       "      <th>3</th>\n",
       "      <td>0.00</td>\n",
       "      <td>0.00</td>\n",
       "      <td>0.00</td>\n",
       "      <td>0.0</td>\n",
       "      <td>0.63</td>\n",
       "      <td>0.00</td>\n",
       "      <td>0.31</td>\n",
       "      <td>0.63</td>\n",
       "      <td>0.31</td>\n",
       "      <td>0.63</td>\n",
       "      <td>...</td>\n",
       "      <td>0.00</td>\n",
       "      <td>0.137</td>\n",
       "      <td>0.0</td>\n",
       "      <td>0.137</td>\n",
       "      <td>0.000</td>\n",
       "      <td>0.000</td>\n",
       "      <td>3.537</td>\n",
       "      <td>40</td>\n",
       "      <td>191</td>\n",
       "      <td>1</td>\n",
       "    </tr>\n",
       "    <tr>\n",
       "      <th>4</th>\n",
       "      <td>0.00</td>\n",
       "      <td>0.00</td>\n",
       "      <td>0.00</td>\n",
       "      <td>0.0</td>\n",
       "      <td>0.63</td>\n",
       "      <td>0.00</td>\n",
       "      <td>0.31</td>\n",
       "      <td>0.63</td>\n",
       "      <td>0.31</td>\n",
       "      <td>0.63</td>\n",
       "      <td>...</td>\n",
       "      <td>0.00</td>\n",
       "      <td>0.135</td>\n",
       "      <td>0.0</td>\n",
       "      <td>0.135</td>\n",
       "      <td>0.000</td>\n",
       "      <td>0.000</td>\n",
       "      <td>3.537</td>\n",
       "      <td>40</td>\n",
       "      <td>191</td>\n",
       "      <td>1</td>\n",
       "    </tr>\n",
       "  </tbody>\n",
       "</table>\n",
       "<p>5 rows × 58 columns</p>\n",
       "</div>"
      ],
      "text/plain": [
       "   word_freq_make  word_freq_address  word_freq_all  word_freq_3d  \\\n",
       "0            0.00               0.64           0.64           0.0   \n",
       "1            0.21               0.28           0.50           0.0   \n",
       "2            0.06               0.00           0.71           0.0   \n",
       "3            0.00               0.00           0.00           0.0   \n",
       "4            0.00               0.00           0.00           0.0   \n",
       "\n",
       "   word_freq_our  word_freq_over  word_freq_remove  word_freq_internet  \\\n",
       "0           0.32            0.00              0.00                0.00   \n",
       "1           0.14            0.28              0.21                0.07   \n",
       "2           1.23            0.19              0.19                0.12   \n",
       "3           0.63            0.00              0.31                0.63   \n",
       "4           0.63            0.00              0.31                0.63   \n",
       "\n",
       "   word_freq_order  word_freq_mail  ...  char_freq_1  char_freq_2  \\\n",
       "0             0.00            0.00  ...         0.00        0.000   \n",
       "1             0.00            0.94  ...         0.00        0.132   \n",
       "2             0.64            0.25  ...         0.01        0.143   \n",
       "3             0.31            0.63  ...         0.00        0.137   \n",
       "4             0.31            0.63  ...         0.00        0.135   \n",
       "\n",
       "   char_freq_3  char_freq_4  char_freq_5  char_freq_6  \\\n",
       "0          0.0        0.778        0.000        0.000   \n",
       "1          0.0        0.372        0.180        0.048   \n",
       "2          0.0        0.276        0.184        0.010   \n",
       "3          0.0        0.137        0.000        0.000   \n",
       "4          0.0        0.135        0.000        0.000   \n",
       "\n",
       "   capital_run_length_average  capital_run_length_longest  \\\n",
       "0                       3.756                          61   \n",
       "1                       5.114                         101   \n",
       "2                       9.821                         485   \n",
       "3                       3.537                          40   \n",
       "4                       3.537                          40   \n",
       "\n",
       "   capital_run_length_total  class  \n",
       "0                       278      1  \n",
       "1                      1028      1  \n",
       "2                      2259      1  \n",
       "3                       191      1  \n",
       "4                       191      1  \n",
       "\n",
       "[5 rows x 58 columns]"
      ]
     },
     "execution_count": 48,
     "metadata": {},
     "output_type": "execute_result"
    }
   ],
   "source": [
    "df.head()"
   ]
  },
  {
   "cell_type": "code",
   "execution_count": 52,
   "metadata": {},
   "outputs": [],
   "source": [
    "scaler = MinMaxScaler() \n",
    "\n",
    "classes = ['word_freq_make', 'word_freq_address','word_freq_all','word_freq_3d','word_freq_our','word_freq_over','word_freq_remove','word_freq_internet','word_freq_order','word_freq_mail','word_freq_receive','word_freq_will','word_freq_people','word_freq_report','word_freq_addresses','word_freq_free','word_freq_business','word_freq_email','word_freq_you','word_freq_credit','word_freq_your','word_freq_font','word_freq_000','word_freq_money','word_freq_hp','word_freq_hpl','word_freq_george','word_freq_650','word_freq_lab','word_freq_labs','word_freq_telnet','word_freq_857','word_freq_data','word_freq_415','word_freq_85','word_freq_technology','word_freq_1999','word_freq_parts','word_freq_pm','word_freq_direct','word_freq_cs','word_freq_meeting','word_freq_original','word_freq_project','word_freq_re','word_freq_edu','word_freq_table','word_freq_conference','char_freq_1','char_freq_2','char_freq_3','char_freq_4','char_freq_5','char_freq_6','capital_run_length_average','capital_run_length_longest','capital_run_length_total','class']\n",
    "\n",
    "df[classes] = scaler.fit_transform(df[classes])"
   ]
  },
  {
   "cell_type": "code",
   "execution_count": 54,
   "metadata": {},
   "outputs": [],
   "source": [
    "ndf = pd.get_dummies(df)\n"
   ]
  },
  {
   "cell_type": "code",
   "execution_count": 56,
   "metadata": {},
   "outputs": [],
   "source": [
    "#random.seed(5634200)\n",
    "\n",
    "split = StratifiedShuffleSplit(n_splits=10, test_size = 0.2, random_state=18)\n",
    "\n",
    "for train_idx, test_idx in split.split(ndf, ndf['class']):\n",
    "    train_set = ndf.loc[train_idx]\n",
    "    test_set = ndf.loc[test_idx]\n",
    "\n"
   ]
  },
  {
   "cell_type": "code",
   "execution_count": 58,
   "metadata": {},
   "outputs": [
    {
     "data": {
      "text/plain": [
       "0.0    0.605978\n",
       "1.0    0.394022\n",
       "Name: class, dtype: float64"
      ]
     },
     "execution_count": 58,
     "metadata": {},
     "output_type": "execute_result"
    }
   ],
   "source": [
    "train_set['class'].value_counts()/len(train_set)"
   ]
  },
  {
   "cell_type": "code",
   "execution_count": 59,
   "metadata": {},
   "outputs": [
    {
     "data": {
      "text/plain": [
       "0.0    0.605863\n",
       "1.0    0.394137\n",
       "Name: class, dtype: float64"
      ]
     },
     "execution_count": 59,
     "metadata": {},
     "output_type": "execute_result"
    }
   ],
   "source": [
    "test_set['class'].value_counts()/len(test_set)"
   ]
  },
  {
   "cell_type": "code",
   "execution_count": 61,
   "metadata": {},
   "outputs": [
    {
     "data": {
      "text/plain": [
       "1.0    29238\n",
       "0.0     2230\n",
       "Name: class, dtype: int64"
      ]
     },
     "execution_count": 61,
     "metadata": {},
     "output_type": "execute_result"
    }
   ],
   "source": [
    "train_neg = train_set[train_set['class']==0]\n",
    "train_pos = train_set[train_set['class']==1]\n",
    " \n",
    "\n",
    "train_pos1 = resample(train_pos, replace=True, n_samples=29238, random_state=18)\n",
    " \n",
    "\n",
    "training_upsample = pd.concat([train_neg, train_pos1])\n",
    " \n",
    "\n",
    "training_upsample['class'].value_counts()"
   ]
  },
  {
   "cell_type": "code",
   "execution_count": 62,
   "metadata": {},
   "outputs": [],
   "source": [
    "X_train = training_upsample.drop('class', axis=1)\n",
    "X_test = test_set.drop('class', axis=1)\n",
    "y_train = training_upsample['class']\n",
    "y_test = test_set['class']\n",
    "\n",
    "X_im = train_set.drop('class', axis=1)\n",
    "y_im = train_set['class']"
   ]
  },
  {
   "cell_type": "code",
   "execution_count": 63,
   "metadata": {},
   "outputs": [],
   "source": [
    "def fit_classifier(model, X, y, parameters=None, scorer_metrics=None):\n",
    "    \n",
    "    grid_ob = GridSearchCV(estimator = model, param_grid = parameters, scoring=make_scorer(scorer_metrics), cv=10)\n",
    "    fit_grid = grid_ob.fit(X, y)\n",
    "    model_estimator = fit_grid.best_estimator_\n",
    "    model_estimator.fit(X, y)\n",
    "    y_pred = model_estimator.predict(X)\n",
    "\n",
    "    \n",
    "    print(\"Model performance on Training set\\n##################\")\n",
    "    print(\"Final acc. score on the training data: {:.4f}\".format(accuracy_score(y, y_pred)))\n",
    "    print(\"Final Precision score on training data: {:.4f}\".format(precision_score(y, y_pred)))\n",
    "    print(\"Final Recall score on training data: {:.4f}\".format(recall_score(y, y_pred)))\n",
    "    print(\"Final ROC AUC score on training data: {:.4f}\".format(roc_auc_score(y, y_pred)))\n",
    "    print(\"\\n\")\n",
    "    print(\"The best parameters are: {}\".format(model_estimator))\n",
    "\n",
    "    return model_estimator"
   ]
  },
  {
   "cell_type": "code",
   "execution_count": 64,
   "metadata": {},
   "outputs": [],
   "source": [
    "def classifier_test(model_fit, X, y):\n",
    "    y_pred = model_fit.predict(X)\n",
    "    print(\"\\n\")\n",
    "    print(\"\\nModel performance on Testing set\\n######################\")\n",
    "    print(\"Final acc. score on the testing data: {:.4f}\".format(accuracy_score(y, y_pred)))\n",
    "    print(\"Final Precision score on testing data: {:.4f}\".format(precision_score(y, y_pred)))\n",
    "    print(\"Final Recall score on testing data: {:.4f}\".format(recall_score(y, y_pred)))\n",
    "    print(\"Final ROC AUC score on testing data: {:.4f}\".format(roc_auc_score(y, y_pred)))\n",
    "    return y_pred"
   ]
  },
  {
   "cell_type": "code",
   "execution_count": 65,
   "metadata": {},
   "outputs": [],
   "source": []
  },
  {
   "cell_type": "code",
   "execution_count": 66,
   "metadata": {},
   "outputs": [],
   "source": [
    "def input_lift(model, X, y, model_name=None):\n",
    "   \n",
    "    if model_name == 'Neural Network':\n",
    "        probability_pos = model.predict_proba(X)[:,0]\n",
    "    else:\n",
    "        probability_pos = model.predict_proba(X)[:,1]  \n",
    "    actual_pos = np.array(list(y))\n",
    "    together = np.concatenate([proba_pos.reshape(proba_pos.shape[0],1), actual_pos.reshape(actual_pos.shape[0],1)], axis=1)\n",
    "    sorted_t = np.sort(together.view('i8,i8'), order=['f0'], axis=0).view(np.float)   \n",
    "    total_num = len(sorted_t)\n",
    "    sum_positive = sum(sorted_t[:,1]==1)\n",
    "    pos_reverse = sorted_t[:,1][::-1]\n",
    "    \n",
    "    pred_probab = sorted_t[:,0][::-1] \n",
    "    \n",
    "    pos_cumulative = 0\n",
    "    pos_cumulative_new = [0]\n",
    "    \n",
    "    for k in range(len(sorted_t)):\n",
    "        pos_cumulative = pos_cumulative + positive_reverse[k]/total_positive\n",
    "        pos_cumulative_new.append(pos_cumulative)\n",
    "        \n",
    "\n",
    "    population_res = 0\n",
    "    population_res_list = [0]\n",
    "    for i in range(len(sorted_t)):\n",
    "        population_res = population_res + i/total_num\n",
    "        population_res_list.append(i/total_num)\n",
    "        \n",
    "    return pos_cumulative_new, population_res_list, pred_probab"
   ]
  },
  {
   "cell_type": "code",
   "execution_count": 69,
   "metadata": {},
   "outputs": [],
   "source": [
    "def y_predict_threshold(model, X, y, top_percent, model_name=None):\n",
    "    \n",
    "    lift_input_model = lift_input(model, X, y, model_name=model_name) \n",
    "    idx = int(len(lift_input_model[2])*top_percent) \n",
    "    threshold_probab = lift_input_model[2][idx]\n",
    "    \n",
    "    if model_name == 'Neural Network':\n",
    "        y_proba = model.predict_proba(X)[:,0]\n",
    "    else:\n",
    "        y_proba = model.predict_proba(X)[:,1]\n",
    "        \n",
    "  \n",
    "    res = (y_proba>=threshold_probab).astype(int)\n",
    "    return res"
   ]
  },
  {
   "cell_type": "code",
   "execution_count": 70,
   "metadata": {},
   "outputs": [
    {
     "name": "stdout",
     "output_type": "stream",
     "text": [
      "\n",
      "Gaussian Naive Bayes model on training set\n",
      "########################\n",
      "Final acc. score on the training data: 0.9428\n",
      "Final Precision score on training data: 0.9794\n",
      "Final Recall score on training data: 0.9587\n",
      "Final ROC AUC score on training data: 0.8468\n",
      "\n",
      "Gaussian Naive Bayes model on test set\n",
      "##############################\n",
      "Final acc. score on the test data: 0.8132\n",
      "Final Precision score on test data: 0.6862\n",
      "Final Recall score on test data: 0.9697\n",
      "Final ROC AUC score on test data: 0.8406\n",
      "\n",
      "\n"
     ]
    }
   ],
   "source": [
    "\n",
    "model_1 = GaussianNB()\n",
    "model_1.fit(X_train, y_train)\n",
    "\n",
    "y_pred_GNB = model_1.predict(X_train)\n",
    "print(\"\\nGaussian Naive Bayes model on training set\\n########################\")\n",
    "print(\"Final acc. score on the training data: {:.4f}\".format(accuracy_score(y_train, y_pred_GNB)))\n",
    "print(\"Final Precision score on training data: {:.4f}\".format(precision_score(y_train, y_pred_GNB)))\n",
    "print(\"Final Recall score on training data: {:.4f}\".format(recall_score(y_train, y_pred_GNB)))\n",
    "print(\"Final ROC AUC score on training data: {:.4f}\".format(roc_auc_score(y_train, y_pred_GNB)))\n",
    "\n",
    "\n",
    "y_pred_test_GNB = model_1.predict(X_test)\n",
    "\n",
    "print(\"\\nGaussian Naive Bayes model on test set\\n##############################\")\n",
    "print(\"Final acc. score on the test data: {:.4f}\".format(accuracy_score(y_test, y_pred_test_GNB)))\n",
    "print(\"Final Precision score on test data: {:.4f}\".format(precision_score(y_test, y_pred_test_GNB)))\n",
    "print(\"Final Recall score on test data: {:.4f}\".format(recall_score(y_test, y_pred_test_GNB)))\n",
    "print(\"Final ROC AUC score on test data: {:.4f}\".format(roc_auc_score(y_test, y_pred_test_GNB)))\n",
    "print(\"\\n\")"
   ]
  },
  {
   "cell_type": "code",
   "execution_count": 71,
   "metadata": {},
   "outputs": [
    {
     "name": "stdout",
     "output_type": "stream",
     "text": [
      "Model performance on Training set\n",
      "##################\n",
      "Final acc. score on the training data: 0.9827\n",
      "Final Precision score on training data: 0.9818\n",
      "Final Recall score on training data: 1.0000\n",
      "Final ROC AUC score on training data: 0.8783\n",
      "\n",
      "\n",
      "The best parameters are: DecisionTreeClassifier(max_depth=8, min_samples_leaf=2, random_state=18)\n"
     ]
    }
   ],
   "source": [
    "\n",
    "params = {'max_depth': [6,7,8], 'min_samples_leaf': [2,3], 'min_samples_split': [2,3]}\n",
    "\n",
    "model_2 = fit_classifier(DecisionTreeClassifier(random_state=18), X_train, y_train, \n",
    "                          parameters=params, scorer_metrics=recall_score)"
   ]
  },
  {
   "cell_type": "code",
   "execution_count": 72,
   "metadata": {},
   "outputs": [
    {
     "name": "stdout",
     "output_type": "stream",
     "text": [
      "\n",
      "\n",
      "\n",
      "Model performance on Testing set\n",
      "######################\n",
      "Final acc. score on the testing data: 0.8534\n",
      "Final Precision score on testing data: 0.7327\n",
      "Final Recall score on testing data: 0.9890\n",
      "Final ROC AUC score on testing data: 0.8771\n"
     ]
    }
   ],
   "source": [
    "\n",
    "y_test_2 = classifier_test(model_2, X_test, y_test)"
   ]
  },
  {
   "cell_type": "code",
   "execution_count": 73,
   "metadata": {},
   "outputs": [
    {
     "name": "stderr",
     "output_type": "stream",
     "text": [
      "/opt/conda/lib/python3.7/site-packages/sklearn/model_selection/_validation.py:552: FitFailedWarning: Estimator fit failed. The score on this train-test partition for these parameters will be set to nan. Details: \n",
      "Traceback (most recent call last):\n",
      "  File \"/opt/conda/lib/python3.7/site-packages/sklearn/model_selection/_validation.py\", line 531, in _fit_and_score\n",
      "    estimator.fit(X_train, y_train, **fit_params)\n",
      "  File \"/opt/conda/lib/python3.7/site-packages/sklearn/linear_model/_logistic.py\", line 1304, in fit\n",
      "    solver = _check_solver(self.solver, self.penalty, self.dual)\n",
      "  File \"/opt/conda/lib/python3.7/site-packages/sklearn/linear_model/_logistic.py\", line 443, in _check_solver\n",
      "    \"got %s penalty.\" % (solver, penalty))\n",
      "ValueError: Solver lbfgs supports only 'l2' or 'none' penalties, got l1 penalty.\n",
      "\n",
      "  FitFailedWarning)\n",
      "/opt/conda/lib/python3.7/site-packages/sklearn/model_selection/_validation.py:552: FitFailedWarning: Estimator fit failed. The score on this train-test partition for these parameters will be set to nan. Details: \n",
      "Traceback (most recent call last):\n",
      "  File \"/opt/conda/lib/python3.7/site-packages/sklearn/model_selection/_validation.py\", line 531, in _fit_and_score\n",
      "    estimator.fit(X_train, y_train, **fit_params)\n",
      "  File \"/opt/conda/lib/python3.7/site-packages/sklearn/linear_model/_logistic.py\", line 1304, in fit\n",
      "    solver = _check_solver(self.solver, self.penalty, self.dual)\n",
      "  File \"/opt/conda/lib/python3.7/site-packages/sklearn/linear_model/_logistic.py\", line 443, in _check_solver\n",
      "    \"got %s penalty.\" % (solver, penalty))\n",
      "ValueError: Solver lbfgs supports only 'l2' or 'none' penalties, got l1 penalty.\n",
      "\n",
      "  FitFailedWarning)\n",
      "/opt/conda/lib/python3.7/site-packages/sklearn/model_selection/_validation.py:552: FitFailedWarning: Estimator fit failed. The score on this train-test partition for these parameters will be set to nan. Details: \n",
      "Traceback (most recent call last):\n",
      "  File \"/opt/conda/lib/python3.7/site-packages/sklearn/model_selection/_validation.py\", line 531, in _fit_and_score\n",
      "    estimator.fit(X_train, y_train, **fit_params)\n",
      "  File \"/opt/conda/lib/python3.7/site-packages/sklearn/linear_model/_logistic.py\", line 1304, in fit\n",
      "    solver = _check_solver(self.solver, self.penalty, self.dual)\n",
      "  File \"/opt/conda/lib/python3.7/site-packages/sklearn/linear_model/_logistic.py\", line 443, in _check_solver\n",
      "    \"got %s penalty.\" % (solver, penalty))\n",
      "ValueError: Solver lbfgs supports only 'l2' or 'none' penalties, got l1 penalty.\n",
      "\n",
      "  FitFailedWarning)\n"
     ]
    },
    {
     "name": "stdout",
     "output_type": "stream",
     "text": [
      "Model performance on Training set\n",
      "##################\n",
      "Final acc. score on the training data: 0.9291\n",
      "Final Precision score on training data: 0.9291\n",
      "Final Recall score on training data: 1.0000\n",
      "Final ROC AUC score on training data: 0.5000\n",
      "\n",
      "\n",
      "The best parameters are: LogisticRegression(C=0.0006, random_state=18)\n"
     ]
    }
   ],
   "source": [
    "params_3 = {'C': [0.0006,0.0007, 0.0008], 'penalty': ['l1', 'l2']}\n",
    "\n",
    "model_3 = fit_classifier(LogisticRegression(random_state=18), X_train, y_train, \n",
    "                          parameters=params_3, scorer_metrics=recall_score)"
   ]
  },
  {
   "cell_type": "code",
   "execution_count": 74,
   "metadata": {},
   "outputs": [
    {
     "name": "stdout",
     "output_type": "stream",
     "text": [
      "\n",
      "\n",
      "\n",
      "Model performance on Testing set\n",
      "######################\n",
      "Final acc. score on the testing data: 0.3941\n",
      "Final Precision score on testing data: 0.3941\n",
      "Final Recall score on testing data: 1.0000\n",
      "Final ROC AUC score on testing data: 0.5000\n"
     ]
    }
   ],
   "source": [
    "y_test_3 = classifier_test(model_3, X_test, y_test)"
   ]
  },
  {
   "cell_type": "code",
   "execution_count": 75,
   "metadata": {},
   "outputs": [
    {
     "name": "stdout",
     "output_type": "stream",
     "text": [
      "Model performance on Training set\n",
      "##################\n",
      "Final acc. score on the training data: 0.9620\n",
      "Final Precision score on training data: 0.9607\n",
      "Final Recall score on training data: 1.0000\n",
      "Final ROC AUC score on training data: 0.7321\n",
      "\n",
      "\n",
      "The best parameters are: RandomForestClassifier(max_depth=5, min_samples_leaf=3, random_state=18)\n"
     ]
    }
   ],
   "source": [
    "params_4 = {'max_depth': [5,6,7], 'min_samples_leaf': [2,3], 'min_samples_split': [2,3]}\n",
    "\n",
    "model_4 = fit_classifier(RandomForestClassifier(random_state=18), X_train, y_train, \n",
    "                          parameters=params_4, scorer_metrics=recall_score)"
   ]
  },
  {
   "cell_type": "code",
   "execution_count": 76,
   "metadata": {},
   "outputs": [
    {
     "name": "stdout",
     "output_type": "stream",
     "text": [
      "\n",
      "\n",
      "\n",
      "Model performance on Testing set\n",
      "######################\n",
      "Final acc. score on the testing data: 0.6775\n",
      "Final Precision score on testing data: 0.5502\n",
      "Final Recall score on testing data: 0.9972\n",
      "Final ROC AUC score on testing data: 0.7334\n"
     ]
    }
   ],
   "source": [
    "y_test_4 = classifier_test(model_RF, X_test, y_test)"
   ]
  },
  {
   "cell_type": "code",
   "execution_count": 77,
   "metadata": {},
   "outputs": [],
   "source": [
    "#Wine Dataset"
   ]
  },
  {
   "cell_type": "code",
   "execution_count": 205,
   "metadata": {},
   "outputs": [],
   "source": [
    "df = pd.read_csv('winequalityN.csv')"
   ]
  },
  {
   "cell_type": "code",
   "execution_count": 206,
   "metadata": {},
   "outputs": [],
   "source": [
    "df = df.fillna(0)"
   ]
  },
  {
   "cell_type": "code",
   "execution_count": 207,
   "metadata": {},
   "outputs": [
    {
     "data": {
      "text/html": [
       "<div>\n",
       "<style scoped>\n",
       "    .dataframe tbody tr th:only-of-type {\n",
       "        vertical-align: middle;\n",
       "    }\n",
       "\n",
       "    .dataframe tbody tr th {\n",
       "        vertical-align: top;\n",
       "    }\n",
       "\n",
       "    .dataframe thead th {\n",
       "        text-align: right;\n",
       "    }\n",
       "</style>\n",
       "<table border=\"1\" class=\"dataframe\">\n",
       "  <thead>\n",
       "    <tr style=\"text-align: right;\">\n",
       "      <th></th>\n",
       "      <th>type</th>\n",
       "      <th>fixed acidity</th>\n",
       "      <th>volatile acidity</th>\n",
       "      <th>citric acid</th>\n",
       "      <th>residual sugar</th>\n",
       "      <th>chlorides</th>\n",
       "      <th>free sulfur dioxide</th>\n",
       "      <th>total sulfur dioxide</th>\n",
       "      <th>density</th>\n",
       "      <th>pH</th>\n",
       "      <th>sulphates</th>\n",
       "      <th>alcohol</th>\n",
       "      <th>quality</th>\n",
       "    </tr>\n",
       "  </thead>\n",
       "  <tbody>\n",
       "    <tr>\n",
       "      <th>0</th>\n",
       "      <td>white</td>\n",
       "      <td>7.0</td>\n",
       "      <td>0.270</td>\n",
       "      <td>0.36</td>\n",
       "      <td>20.7</td>\n",
       "      <td>0.045</td>\n",
       "      <td>45.0</td>\n",
       "      <td>170.0</td>\n",
       "      <td>1.00100</td>\n",
       "      <td>3.00</td>\n",
       "      <td>0.45</td>\n",
       "      <td>8.8</td>\n",
       "      <td>6</td>\n",
       "    </tr>\n",
       "    <tr>\n",
       "      <th>1</th>\n",
       "      <td>white</td>\n",
       "      <td>6.3</td>\n",
       "      <td>0.300</td>\n",
       "      <td>0.34</td>\n",
       "      <td>1.6</td>\n",
       "      <td>0.049</td>\n",
       "      <td>14.0</td>\n",
       "      <td>132.0</td>\n",
       "      <td>0.99400</td>\n",
       "      <td>3.30</td>\n",
       "      <td>0.49</td>\n",
       "      <td>9.5</td>\n",
       "      <td>6</td>\n",
       "    </tr>\n",
       "    <tr>\n",
       "      <th>2</th>\n",
       "      <td>white</td>\n",
       "      <td>8.1</td>\n",
       "      <td>0.280</td>\n",
       "      <td>0.40</td>\n",
       "      <td>6.9</td>\n",
       "      <td>0.050</td>\n",
       "      <td>30.0</td>\n",
       "      <td>97.0</td>\n",
       "      <td>0.99510</td>\n",
       "      <td>3.26</td>\n",
       "      <td>0.44</td>\n",
       "      <td>10.1</td>\n",
       "      <td>6</td>\n",
       "    </tr>\n",
       "    <tr>\n",
       "      <th>3</th>\n",
       "      <td>white</td>\n",
       "      <td>7.2</td>\n",
       "      <td>0.230</td>\n",
       "      <td>0.32</td>\n",
       "      <td>8.5</td>\n",
       "      <td>0.058</td>\n",
       "      <td>47.0</td>\n",
       "      <td>186.0</td>\n",
       "      <td>0.99560</td>\n",
       "      <td>3.19</td>\n",
       "      <td>0.40</td>\n",
       "      <td>9.9</td>\n",
       "      <td>6</td>\n",
       "    </tr>\n",
       "    <tr>\n",
       "      <th>4</th>\n",
       "      <td>white</td>\n",
       "      <td>7.2</td>\n",
       "      <td>0.230</td>\n",
       "      <td>0.32</td>\n",
       "      <td>8.5</td>\n",
       "      <td>0.058</td>\n",
       "      <td>47.0</td>\n",
       "      <td>186.0</td>\n",
       "      <td>0.99560</td>\n",
       "      <td>3.19</td>\n",
       "      <td>0.40</td>\n",
       "      <td>9.9</td>\n",
       "      <td>6</td>\n",
       "    </tr>\n",
       "    <tr>\n",
       "      <th>...</th>\n",
       "      <td>...</td>\n",
       "      <td>...</td>\n",
       "      <td>...</td>\n",
       "      <td>...</td>\n",
       "      <td>...</td>\n",
       "      <td>...</td>\n",
       "      <td>...</td>\n",
       "      <td>...</td>\n",
       "      <td>...</td>\n",
       "      <td>...</td>\n",
       "      <td>...</td>\n",
       "      <td>...</td>\n",
       "      <td>...</td>\n",
       "    </tr>\n",
       "    <tr>\n",
       "      <th>6492</th>\n",
       "      <td>red</td>\n",
       "      <td>6.2</td>\n",
       "      <td>0.600</td>\n",
       "      <td>0.08</td>\n",
       "      <td>2.0</td>\n",
       "      <td>0.090</td>\n",
       "      <td>32.0</td>\n",
       "      <td>44.0</td>\n",
       "      <td>0.99490</td>\n",
       "      <td>3.45</td>\n",
       "      <td>0.58</td>\n",
       "      <td>10.5</td>\n",
       "      <td>5</td>\n",
       "    </tr>\n",
       "    <tr>\n",
       "      <th>6493</th>\n",
       "      <td>red</td>\n",
       "      <td>5.9</td>\n",
       "      <td>0.550</td>\n",
       "      <td>0.10</td>\n",
       "      <td>2.2</td>\n",
       "      <td>0.062</td>\n",
       "      <td>39.0</td>\n",
       "      <td>51.0</td>\n",
       "      <td>0.99512</td>\n",
       "      <td>3.52</td>\n",
       "      <td>0.00</td>\n",
       "      <td>11.2</td>\n",
       "      <td>6</td>\n",
       "    </tr>\n",
       "    <tr>\n",
       "      <th>6494</th>\n",
       "      <td>red</td>\n",
       "      <td>6.3</td>\n",
       "      <td>0.510</td>\n",
       "      <td>0.13</td>\n",
       "      <td>2.3</td>\n",
       "      <td>0.076</td>\n",
       "      <td>29.0</td>\n",
       "      <td>40.0</td>\n",
       "      <td>0.99574</td>\n",
       "      <td>3.42</td>\n",
       "      <td>0.75</td>\n",
       "      <td>11.0</td>\n",
       "      <td>6</td>\n",
       "    </tr>\n",
       "    <tr>\n",
       "      <th>6495</th>\n",
       "      <td>red</td>\n",
       "      <td>5.9</td>\n",
       "      <td>0.645</td>\n",
       "      <td>0.12</td>\n",
       "      <td>2.0</td>\n",
       "      <td>0.075</td>\n",
       "      <td>32.0</td>\n",
       "      <td>44.0</td>\n",
       "      <td>0.99547</td>\n",
       "      <td>3.57</td>\n",
       "      <td>0.71</td>\n",
       "      <td>10.2</td>\n",
       "      <td>5</td>\n",
       "    </tr>\n",
       "    <tr>\n",
       "      <th>6496</th>\n",
       "      <td>red</td>\n",
       "      <td>6.0</td>\n",
       "      <td>0.310</td>\n",
       "      <td>0.47</td>\n",
       "      <td>3.6</td>\n",
       "      <td>0.067</td>\n",
       "      <td>18.0</td>\n",
       "      <td>42.0</td>\n",
       "      <td>0.99549</td>\n",
       "      <td>3.39</td>\n",
       "      <td>0.66</td>\n",
       "      <td>11.0</td>\n",
       "      <td>6</td>\n",
       "    </tr>\n",
       "  </tbody>\n",
       "</table>\n",
       "<p>6497 rows × 13 columns</p>\n",
       "</div>"
      ],
      "text/plain": [
       "       type  fixed acidity  volatile acidity  citric acid  residual sugar  \\\n",
       "0     white            7.0             0.270         0.36            20.7   \n",
       "1     white            6.3             0.300         0.34             1.6   \n",
       "2     white            8.1             0.280         0.40             6.9   \n",
       "3     white            7.2             0.230         0.32             8.5   \n",
       "4     white            7.2             0.230         0.32             8.5   \n",
       "...     ...            ...               ...          ...             ...   \n",
       "6492    red            6.2             0.600         0.08             2.0   \n",
       "6493    red            5.9             0.550         0.10             2.2   \n",
       "6494    red            6.3             0.510         0.13             2.3   \n",
       "6495    red            5.9             0.645         0.12             2.0   \n",
       "6496    red            6.0             0.310         0.47             3.6   \n",
       "\n",
       "      chlorides  free sulfur dioxide  total sulfur dioxide  density    pH  \\\n",
       "0         0.045                 45.0                 170.0  1.00100  3.00   \n",
       "1         0.049                 14.0                 132.0  0.99400  3.30   \n",
       "2         0.050                 30.0                  97.0  0.99510  3.26   \n",
       "3         0.058                 47.0                 186.0  0.99560  3.19   \n",
       "4         0.058                 47.0                 186.0  0.99560  3.19   \n",
       "...         ...                  ...                   ...      ...   ...   \n",
       "6492      0.090                 32.0                  44.0  0.99490  3.45   \n",
       "6493      0.062                 39.0                  51.0  0.99512  3.52   \n",
       "6494      0.076                 29.0                  40.0  0.99574  3.42   \n",
       "6495      0.075                 32.0                  44.0  0.99547  3.57   \n",
       "6496      0.067                 18.0                  42.0  0.99549  3.39   \n",
       "\n",
       "      sulphates  alcohol  quality  \n",
       "0          0.45      8.8        6  \n",
       "1          0.49      9.5        6  \n",
       "2          0.44     10.1        6  \n",
       "3          0.40      9.9        6  \n",
       "4          0.40      9.9        6  \n",
       "...         ...      ...      ...  \n",
       "6492       0.58     10.5        5  \n",
       "6493       0.00     11.2        6  \n",
       "6494       0.75     11.0        6  \n",
       "6495       0.71     10.2        5  \n",
       "6496       0.66     11.0        6  \n",
       "\n",
       "[6497 rows x 13 columns]"
      ]
     },
     "execution_count": 207,
     "metadata": {},
     "output_type": "execute_result"
    }
   ],
   "source": [
    "df"
   ]
  },
  {
   "cell_type": "code",
   "execution_count": 208,
   "metadata": {},
   "outputs": [
    {
     "data": {
      "text/plain": [
       "1    4898\n",
       "0    1599\n",
       "Name: type, dtype: int64"
      ]
     },
     "execution_count": 208,
     "metadata": {},
     "output_type": "execute_result"
    }
   ],
   "source": [
    "df['type'] = df['type'].map({'red':0, 'white':1})\n",
    "\n",
    "df['type'].value_counts() "
   ]
  },
  {
   "cell_type": "code",
   "execution_count": 209,
   "metadata": {},
   "outputs": [],
   "source": [
    "scaler = MinMaxScaler() \n",
    "\n",
    "#classes = ['word_freq_make', 'word_freq_address','word_freq_all','word_freq_3d','word_freq_our','word_freq_over','word_freq_remove','word_freq_internet','word_freq_order','word_freq_mail','word_freq_receive','word_freq_will','word_freq_people','word_freq_report','word_freq_addresses','word_freq_free','word_freq_business','word_freq_email','word_freq_you','word_freq_credit','word_freq_your','word_freq_font','word_freq_000','word_freq_money','word_freq_hp','word_freq_hpl','word_freq_george','word_freq_650','word_freq_lab','word_freq_labs','word_freq_telnet','word_freq_857','word_freq_data','word_freq_415','word_freq_85','word_freq_technology','word_freq_1999','word_freq_parts','word_freq_pm','word_freq_direct','word_freq_cs','word_freq_meeting','word_freq_original','word_freq_project','word_freq_re','word_freq_edu','word_freq_table','word_freq_conference','char_freq_1','char_freq_2','char_freq_3','char_freq_4','char_freq_5','char_freq_6','capital_run_length_average','capital_run_length_longest','capital_run_length_total','class']\n",
    "classes = ['type','fixed acidity','volatile acidity','citric acid','residual sugar','chlorides','free sulfur dioxide','total sulfur dioxide','density','pH','sulphates','alcohol','quality']\n",
    "df[classes] = scaler.fit_transform(df[classes])"
   ]
  },
  {
   "cell_type": "code",
   "execution_count": 210,
   "metadata": {},
   "outputs": [],
   "source": [
    "ndf = pd.get_dummies(df)"
   ]
  },
  {
   "cell_type": "code",
   "execution_count": 211,
   "metadata": {},
   "outputs": [],
   "source": [
    "#random.seed(5634200)\n",
    "\n",
    "split = StratifiedShuffleSplit(n_splits=10, test_size = 0.2, random_state=18)\n",
    "\n",
    "for train_idx, test_idx in split.split(ndf, ndf['type']):\n",
    "    train_set = ndf.loc[train_idx]\n",
    "    test_set = ndf.loc[test_idx]\n",
    "\n"
   ]
  },
  {
   "cell_type": "code",
   "execution_count": 212,
   "metadata": {},
   "outputs": [
    {
     "data": {
      "text/plain": [
       "1.0    0.753896\n",
       "0.0    0.246104\n",
       "Name: type, dtype: float64"
      ]
     },
     "execution_count": 212,
     "metadata": {},
     "output_type": "execute_result"
    }
   ],
   "source": [
    "train_set['type'].value_counts()/len(train_set)"
   ]
  },
  {
   "cell_type": "code",
   "execution_count": 213,
   "metadata": {},
   "outputs": [
    {
     "data": {
      "text/plain": [
       "1.0    0.753846\n",
       "0.0    0.246154\n",
       "Name: type, dtype: float64"
      ]
     },
     "execution_count": 213,
     "metadata": {},
     "output_type": "execute_result"
    }
   ],
   "source": [
    "test_set['type'].value_counts()/len(test_set)"
   ]
  },
  {
   "cell_type": "code",
   "execution_count": 214,
   "metadata": {},
   "outputs": [
    {
     "data": {
      "text/plain": [
       "1.0    29238\n",
       "0.0     1279\n",
       "Name: type, dtype: int64"
      ]
     },
     "execution_count": 214,
     "metadata": {},
     "output_type": "execute_result"
    }
   ],
   "source": [
    "train_neg = train_set[train_set['type']==0]\n",
    "train_pos = train_set[train_set['type']==1]\n",
    " \n",
    "\n",
    "train_pos1 = resample(train_pos, replace=True, n_samples=29238, random_state=18)\n",
    " \n",
    "\n",
    "training_upsample = pd.concat([train_neg, train_pos1])\n",
    " \n",
    "\n",
    "training_upsample['type'].value_counts()"
   ]
  },
  {
   "cell_type": "code",
   "execution_count": 215,
   "metadata": {},
   "outputs": [],
   "source": [
    "X_train = training_upsample.drop('type', axis=1)\n",
    "X_test = test_set.drop('type', axis=1)\n",
    "y_train = training_upsample['type']\n",
    "y_test = test_set['type']\n",
    "\n",
    "X_im = train_set.drop('type', axis=1)\n",
    "y_im = train_set['type']"
   ]
  },
  {
   "cell_type": "code",
   "execution_count": 216,
   "metadata": {},
   "outputs": [],
   "source": [
    "def fit_classifier(model, X, y, parameters=None, scorer_metrics=None):\n",
    "    \n",
    "    grid_ob = GridSearchCV(estimator = model, param_grid = parameters, scoring=make_scorer(scorer_metrics), cv=10)\n",
    "    fit_grid = grid_ob.fit(X, y)\n",
    "    model_estimator = fit_grid.best_estimator_\n",
    "    model_estimator.fit(X, y)\n",
    "    y_pred = model_estimator.predict(X)\n",
    "\n",
    "    \n",
    "    print(\"Model performance on Training set\\n##################\")\n",
    "    print(\"Final acc. score on the training data: {:.4f}\".format(accuracy_score(y, y_pred)))\n",
    "    print(\"Final Precision score on training data: {:.4f}\".format(precision_score(y, y_pred)))\n",
    "    print(\"Final Recall score on training data: {:.4f}\".format(recall_score(y, y_pred)))\n",
    "    print(\"Final ROC AUC score on training data: {:.4f}\".format(roc_auc_score(y, y_pred)))\n",
    "    print(\"\\n\")\n",
    "    print(\"The best parameters are: {}\".format(model_estimator))\n",
    "\n",
    "    return model_estimator"
   ]
  },
  {
   "cell_type": "code",
   "execution_count": 217,
   "metadata": {},
   "outputs": [],
   "source": [
    "def classifier_test(model_fit, X, y):\n",
    "    y_pred = model_fit.predict(X)\n",
    "    print(\"\\n\")\n",
    "    print(\"\\nModel performance on Testing set\\n######################\")\n",
    "    print(\"Final acc. score on the testing data: {:.4f}\".format(accuracy_score(y, y_pred)))\n",
    "    print(\"Final Precision score on testing data: {:.4f}\".format(precision_score(y, y_pred)))\n",
    "    print(\"Final Recall score on testing data: {:.4f}\".format(recall_score(y, y_pred)))\n",
    "    print(\"Final ROC AUC score on testing data: {:.4f}\".format(roc_auc_score(y, y_pred)))\n",
    "    return y_pred"
   ]
  },
  {
   "cell_type": "code",
   "execution_count": 220,
   "metadata": {},
   "outputs": [],
   "source": [
    "def lift_input(model, X, y, model_name=None):\n",
    "   \n",
    "    if model_name == 'Neural Network':\n",
    "        probability_pos = model.predict_proba(X)[:,0]\n",
    "    else:\n",
    "        probability_pos = model.predict_proba(X)[:,1]  \n",
    "    actual_pos = np.array(list(y))\n",
    "    together = np.concatenate([proba_pos.reshape(proba_pos.shape[0],1), actual_pos.reshape(actual_pos.shape[0],1)], axis=1)\n",
    "    sorted_t = np.sort(together.view('i8,i8'), order=['f0'], axis=0).view(np.float)   \n",
    "    total_num = len(sorted_t)\n",
    "    sum_positive = sum(sorted_t[:,1]==1)\n",
    "    pos_reverse = sorted_t[:,1][::-1]\n",
    "    \n",
    "    pred_probab = sorted_t[:,0][::-1] \n",
    "    \n",
    "    pos_cumulative = 0\n",
    "    pos_cumulative_new = [0]\n",
    "    \n",
    "    for k in range(len(sorted_t)):\n",
    "        pos_cumulative = pos_cumulative + positive_reverse[k]/total_positive\n",
    "        pos_cumulative_new.append(pos_cumulative)\n",
    "        \n",
    "\n",
    "    population_res = 0\n",
    "    population_res_list = [0]\n",
    "    for i in range(len(sorted_t)):\n",
    "        population_res = population_res + i/total_num\n",
    "        population_res_list.append(i/total_num)\n",
    "        \n",
    "    return pos_cumulative_new, population_res_list, pred_probab"
   ]
  },
  {
   "cell_type": "code",
   "execution_count": 221,
   "metadata": {},
   "outputs": [],
   "source": [
    "def y_predict_threshold(model, X, y, top_percent, model_name=None):\n",
    "    \n",
    "    lift_input_model = lift_input(model, X, y, model_name=model_name) \n",
    "    idx = int(len(lift_input_model[2])*top_percent) \n",
    "    threshold_probab = lift_input_model[2][idx]\n",
    "    \n",
    "    if model_name == 'Neural Network':\n",
    "        y_proba = model.predict_proba(X)[:,0]\n",
    "    else:\n",
    "        y_proba = model.predict_proba(X)[:,1]\n",
    "        \n",
    "  \n",
    "    res = (y_proba>=threshold_probab).astype(int)\n",
    "    return res"
   ]
  },
  {
   "cell_type": "code",
   "execution_count": 222,
   "metadata": {},
   "outputs": [
    {
     "name": "stdout",
     "output_type": "stream",
     "text": [
      "\n",
      "Gaussian Naive Bayes model on training set\n",
      "########################\n",
      "Final acc. score on the training data: 0.9805\n",
      "Final Precision score on training data: 0.9969\n",
      "Final Recall score on training data: 0.9828\n",
      "Final ROC AUC score on training data: 0.9562\n",
      "\n",
      "Gaussian Naive Bayes model on test set\n",
      "##############################\n",
      "Final acc. score on the test data: 0.9685\n",
      "Final Precision score on test data: 0.9806\n",
      "Final Recall score on test data: 0.9776\n",
      "Final ROC AUC score on test data: 0.9591\n",
      "\n",
      "\n"
     ]
    }
   ],
   "source": [
    "\n",
    "model_1 = GaussianNB()\n",
    "model_1.fit(X_train, y_train)\n",
    "\n",
    "y_pred_GNB = model_1.predict(X_train)\n",
    "print(\"\\nGaussian Naive Bayes model on training set\\n########################\")\n",
    "print(\"Final acc. score on the training data: {:.4f}\".format(accuracy_score(y_train, y_pred_GNB)))\n",
    "print(\"Final Precision score on training data: {:.4f}\".format(precision_score(y_train, y_pred_GNB)))\n",
    "print(\"Final Recall score on training data: {:.4f}\".format(recall_score(y_train, y_pred_GNB)))\n",
    "print(\"Final ROC AUC score on training data: {:.4f}\".format(roc_auc_score(y_train, y_pred_GNB)))\n",
    "\n",
    "\n",
    "y_pred_test_GNB = model_1.predict(X_test)\n",
    "\n",
    "print(\"\\nGaussian Naive Bayes model on test set\\n##############################\")\n",
    "print(\"Final acc. score on the test data: {:.4f}\".format(accuracy_score(y_test, y_pred_test_GNB)))\n",
    "print(\"Final Precision score on test data: {:.4f}\".format(precision_score(y_test, y_pred_test_GNB)))\n",
    "print(\"Final Recall score on test data: {:.4f}\".format(recall_score(y_test, y_pred_test_GNB)))\n",
    "print(\"Final ROC AUC score on test data: {:.4f}\".format(roc_auc_score(y_test, y_pred_test_GNB)))\n",
    "print(\"\\n\")"
   ]
  },
  {
   "cell_type": "code",
   "execution_count": 223,
   "metadata": {},
   "outputs": [
    {
     "name": "stdout",
     "output_type": "stream",
     "text": [
      "Model performance on Training set\n",
      "##################\n",
      "Final acc. score on the training data: 0.9984\n",
      "Final Precision score on training data: 0.9984\n",
      "Final Recall score on training data: 1.0000\n",
      "Final ROC AUC score on training data: 0.9812\n",
      "\n",
      "\n",
      "The best parameters are: DecisionTreeClassifier(max_depth=8, min_samples_leaf=2, random_state=18)\n"
     ]
    }
   ],
   "source": [
    "params = {'max_depth': [6,7,8], 'min_samples_leaf': [2,3], 'min_samples_split': [2,3]}\n",
    "\n",
    "model_2 = fit_classifier(DecisionTreeClassifier(random_state=18), X_train, y_train, \n",
    "                          parameters=params, scorer_metrics=recall_score)"
   ]
  },
  {
   "cell_type": "code",
   "execution_count": 224,
   "metadata": {},
   "outputs": [
    {
     "name": "stdout",
     "output_type": "stream",
     "text": [
      "\n",
      "\n",
      "\n",
      "Model performance on Testing set\n",
      "######################\n",
      "Final acc. score on the testing data: 0.9854\n",
      "Final Precision score on testing data: 0.9868\n",
      "Final Recall score on testing data: 0.9939\n",
      "Final ROC AUC score on testing data: 0.9766\n"
     ]
    }
   ],
   "source": [
    "\n",
    "y_test_2 = classifier_test(model_2, X_test, y_test)"
   ]
  },
  {
   "cell_type": "code",
   "execution_count": 225,
   "metadata": {},
   "outputs": [
    {
     "name": "stderr",
     "output_type": "stream",
     "text": [
      "/opt/conda/lib/python3.7/site-packages/sklearn/model_selection/_validation.py:552: FitFailedWarning: Estimator fit failed. The score on this train-test partition for these parameters will be set to nan. Details: \n",
      "Traceback (most recent call last):\n",
      "  File \"/opt/conda/lib/python3.7/site-packages/sklearn/model_selection/_validation.py\", line 531, in _fit_and_score\n",
      "    estimator.fit(X_train, y_train, **fit_params)\n",
      "  File \"/opt/conda/lib/python3.7/site-packages/sklearn/linear_model/_logistic.py\", line 1304, in fit\n",
      "    solver = _check_solver(self.solver, self.penalty, self.dual)\n",
      "  File \"/opt/conda/lib/python3.7/site-packages/sklearn/linear_model/_logistic.py\", line 443, in _check_solver\n",
      "    \"got %s penalty.\" % (solver, penalty))\n",
      "ValueError: Solver lbfgs supports only 'l2' or 'none' penalties, got l1 penalty.\n",
      "\n",
      "  FitFailedWarning)\n",
      "/opt/conda/lib/python3.7/site-packages/sklearn/model_selection/_validation.py:552: FitFailedWarning: Estimator fit failed. The score on this train-test partition for these parameters will be set to nan. Details: \n",
      "Traceback (most recent call last):\n",
      "  File \"/opt/conda/lib/python3.7/site-packages/sklearn/model_selection/_validation.py\", line 531, in _fit_and_score\n",
      "    estimator.fit(X_train, y_train, **fit_params)\n",
      "  File \"/opt/conda/lib/python3.7/site-packages/sklearn/linear_model/_logistic.py\", line 1304, in fit\n",
      "    solver = _check_solver(self.solver, self.penalty, self.dual)\n",
      "  File \"/opt/conda/lib/python3.7/site-packages/sklearn/linear_model/_logistic.py\", line 443, in _check_solver\n",
      "    \"got %s penalty.\" % (solver, penalty))\n",
      "ValueError: Solver lbfgs supports only 'l2' or 'none' penalties, got l1 penalty.\n",
      "\n",
      "  FitFailedWarning)\n",
      "/opt/conda/lib/python3.7/site-packages/sklearn/model_selection/_validation.py:552: FitFailedWarning: Estimator fit failed. The score on this train-test partition for these parameters will be set to nan. Details: \n",
      "Traceback (most recent call last):\n",
      "  File \"/opt/conda/lib/python3.7/site-packages/sklearn/model_selection/_validation.py\", line 531, in _fit_and_score\n",
      "    estimator.fit(X_train, y_train, **fit_params)\n",
      "  File \"/opt/conda/lib/python3.7/site-packages/sklearn/linear_model/_logistic.py\", line 1304, in fit\n",
      "    solver = _check_solver(self.solver, self.penalty, self.dual)\n",
      "  File \"/opt/conda/lib/python3.7/site-packages/sklearn/linear_model/_logistic.py\", line 443, in _check_solver\n",
      "    \"got %s penalty.\" % (solver, penalty))\n",
      "ValueError: Solver lbfgs supports only 'l2' or 'none' penalties, got l1 penalty.\n",
      "\n",
      "  FitFailedWarning)\n"
     ]
    },
    {
     "name": "stdout",
     "output_type": "stream",
     "text": [
      "Model performance on Training set\n",
      "##################\n",
      "Final acc. score on the training data: 0.9581\n",
      "Final Precision score on training data: 0.9581\n",
      "Final Recall score on training data: 1.0000\n",
      "Final ROC AUC score on training data: 0.5000\n",
      "\n",
      "\n",
      "The best parameters are: LogisticRegression(C=0.0006, random_state=18)\n"
     ]
    }
   ],
   "source": [
    "\n",
    "params_3 = {'C': [0.0006,0.0007, 0.0008], 'penalty': ['l1', 'l2']}\n",
    "\n",
    "model_3 = fit_classifier(LogisticRegression(random_state=18), X_train, y_train, \n",
    "                          parameters=params_3, scorer_metrics=recall_score)"
   ]
  },
  {
   "cell_type": "code",
   "execution_count": 226,
   "metadata": {},
   "outputs": [
    {
     "name": "stdout",
     "output_type": "stream",
     "text": [
      "\n",
      "\n",
      "\n",
      "Model performance on Testing set\n",
      "######################\n",
      "Final acc. score on the testing data: 0.7538\n",
      "Final Precision score on testing data: 0.7538\n",
      "Final Recall score on testing data: 1.0000\n",
      "Final ROC AUC score on testing data: 0.5000\n"
     ]
    }
   ],
   "source": [
    "y_test_3 = classifier_test(model_3, X_test, y_test)"
   ]
  },
  {
   "cell_type": "code",
   "execution_count": 227,
   "metadata": {},
   "outputs": [
    {
     "name": "stdout",
     "output_type": "stream",
     "text": [
      "Model performance on Training set\n",
      "##################\n",
      "Final acc. score on the training data: 0.9966\n",
      "Final Precision score on training data: 0.9964\n",
      "Final Recall score on training data: 1.0000\n",
      "Final ROC AUC score on training data: 0.9590\n",
      "\n",
      "\n",
      "The best parameters are: RandomForestClassifier(max_depth=5, min_samples_leaf=2, random_state=18)\n"
     ]
    }
   ],
   "source": [
    "\n",
    "params_4 = {'max_depth': [5,6,7], 'min_samples_leaf': [2,3], 'min_samples_split': [2,3]}\n",
    "\n",
    "model_4 = fit_classifier(RandomForestClassifier(random_state=18), X_train, y_train, \n",
    "                          parameters=params_4, scorer_metrics=recall_score)"
   ]
  },
  {
   "cell_type": "code",
   "execution_count": 228,
   "metadata": {},
   "outputs": [
    {
     "name": "stdout",
     "output_type": "stream",
     "text": [
      "\n",
      "\n",
      "\n",
      "Model performance on Testing set\n",
      "######################\n",
      "Final acc. score on the testing data: 0.9762\n",
      "Final Precision score on testing data: 0.9703\n",
      "Final Recall score on testing data: 0.9990\n",
      "Final ROC AUC score on testing data: 0.9526\n"
     ]
    }
   ],
   "source": [
    "\n",
    "y_test_4 = classifier_test(model_4, X_test, y_test)"
   ]
  },
  {
   "cell_type": "code",
   "execution_count": null,
   "metadata": {},
   "outputs": [],
   "source": []
  },
  {
   "cell_type": "code",
   "execution_count": null,
   "metadata": {},
   "outputs": [],
   "source": []
  }
 ],
 "metadata": {
  "environment": {
   "name": "tf2-2-3-gpu.2-3.m59",
   "type": "gcloud",
   "uri": "gcr.io/deeplearning-platform-release/tf2-2-3-gpu.2-3:m59"
  },
  "kernelspec": {
   "display_name": "Python 3",
   "language": "python",
   "name": "python3"
  },
  "language_info": {
   "codemirror_mode": {
    "name": "ipython",
    "version": 3
   },
   "file_extension": ".py",
   "mimetype": "text/x-python",
   "name": "python",
   "nbconvert_exporter": "python",
   "pygments_lexer": "ipython3",
   "version": "3.7.8"
  }
 },
 "nbformat": 4,
 "nbformat_minor": 4
}
