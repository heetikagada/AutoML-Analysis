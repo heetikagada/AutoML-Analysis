{
 "cells": [
  {
   "cell_type": "code",
   "execution_count": 48,
   "metadata": {},
   "outputs": [],
   "source": [
    "import autosklearn.classification\n",
    "import pandas as pd\n",
    "import numpy as np\n",
    "import sklearn.model_selection\n",
    "import sklearn.metrics\n",
    "from sklearn.model_selection import train_test_split\n",
    "from sklearn.datasets import fetch_openml\n",
    "import h2o\n",
    "from h2o.automl import H2OAutoML\n",
    "from tpot import TPOTClassifier\n",
    "from sklearn.metrics import log_loss\n",
    "from sklearn.metrics import classification_report\n",
    "import time"
   ]
  },
  {
   "cell_type": "code",
   "execution_count": 49,
   "metadata": {},
   "outputs": [],
   "source": [
    "\"\"\"\n",
    "This function initialises the auto sklearn framework and fits the training data to it. the best pipeine model is\n",
    "then saved into a text file. In the repo the model files are saved succeeded by their dataset name. The sprint statistics\n",
    "of the model is also displayed and saved into the file.\n",
    "The predictions and prediction probabilities against the test data is then retunred back.\n",
    "\"\"\"\n",
    "def autosklearn_classification(X_train, y_train, X_test):\n",
    "    \n",
    "    #time_left_for_this_task=3600, per_run_time_limit=360. Use these arguments for a faster less accurate search\n",
    "    automl = autosklearn.classification.AutoSklearnClassifier() \n",
    "    automl.fit(X_train, y_train)\n",
    "    predictions = automl.predict(X_test)\n",
    "    predictions_proba = automl.predict_proba(X_test)[:,1]\n",
    "    text_file = open(\"models_tried.txt\", \"w+\")\n",
    "    n = text_file.write(str(automl.show_models()))\n",
    "    n = text_file.write(str(automl.sprint_statistics()))\n",
    "    text_file.close()\n",
    "    print(automl.sprint_statistics())\n",
    "    return (predictions,predictions_proba)\n",
    "    "
   ]
  },
  {
   "cell_type": "code",
   "execution_count": 50,
   "metadata": {},
   "outputs": [],
   "source": [
    "\"\"\"\n",
    "This function initialises the tpot framework and fits the training data to it. The arguments are chosen so ask to return \n",
    "results dont take too long to train to make it coparable to other frameworks. The best pipeine model is\n",
    "displayed to the user. \n",
    "it has the algorithm to be used with the necessary hyperparameters.\n",
    "The predictions and prediction probabilities against the test data is then returned back.\n",
    "\"\"\"\n",
    "def tpot_classification(X_train, y_train, X_test):\n",
    "    \n",
    "    tpot = TPOTClassifier(generations=5, population_size=50, verbosity=2, random_state=1)\n",
    "    tpot.fit(X_train, y_train)\n",
    "    predictions = tpot.predict(X_test)\n",
    "    predictions_proba = tpot.predict_proba(X_test)[:,1]\n",
    "    return (predictions, predictions_proba)\n"
   ]
  },
  {
   "cell_type": "code",
   "execution_count": 51,
   "metadata": {},
   "outputs": [],
   "source": [
    "\"\"\"\n",
    "This function initialises the h2O framework and fits the training data to it. The arguments are chosen so ask to return \n",
    "results dont take too long to train to make it coparable to other frameworks. \n",
    "The top 10 leaderboard models is displayed to the user with the leader model used as default dueing predictions.\n",
    "The predictions and prediction probabilities against the test data is then returned back.\n",
    "\"\"\"\n",
    "def h2o_classifications(X_train, y_train, X_test, target):\n",
    "    \n",
    "    h2o.init()\n",
    "    aml = H2OAutoML()\n",
    "    train_hf = pd.concat([X_train, y_train], axis=1)\n",
    "    train_hf = h2o.H2OFrame(train_hf)\n",
    "    train_hf[target] = train_hf[target].asfactor()\n",
    "    aml.train(y = target, training_frame = train_hf)\n",
    "    response = aml.predict(h2o.H2OFrame(X_test))\n",
    "    print(\"various models tested:\")\n",
    "    lb = h2o.automl.get_leaderboard(aml, extra_columns = 'ALL')\n",
    "    print(lb)\n",
    "    \n",
    "    return response"
   ]
  },
  {
   "cell_type": "code",
   "execution_count": 98,
   "metadata": {},
   "outputs": [],
   "source": [
    "\"\"\"\n",
    "Function to calculate log loss and accuracy. Also returns the classification report containing precision, recall, f1 score\n",
    "\"\"\"\n",
    "def metric_calculator(framework, dataset, y_test, predictions):\n",
    "    \n",
    "    if framework ==\"H2O\":   \n",
    "        print(\"Framework: \", framework)\n",
    "        ll = log_loss(y_test, predictions.as_data_frame().iloc[:,1:])\n",
    "        print(\"log loss: \",ll)\n",
    "        accuracy = sklearn.metrics.accuracy_score(predictions.as_data_frame().iloc[:,0], y_test.astype('int64'))\n",
    "        print(\"accuracy: \",accuracy)\n",
    "        print(\"Classification report\")\n",
    "        print(classification_report(y_test.astype('int64'), predictions.as_data_frame().iloc[:,0]))\n",
    "    else:\n",
    "        print(\"Framework: \", framework)\n",
    "        ll = log_loss(y_test, predictions[1])\n",
    "        print(\"log loss: \", ll)\n",
    "        accuracy = sklearn.metrics.accuracy_score(predictions[0], y_test)\n",
    "        print(\"accuracy: \",accuracy)\n",
    "        print(\"Classification report\")\n",
    "        print(classification_report(y_test, predictions[0]))\n",
    "            "
   ]
  },
  {
   "cell_type": "markdown",
   "metadata": {},
   "source": [
    "### Dataset 1 - Wine quality dataset"
   ]
  },
  {
   "cell_type": "code",
   "execution_count": 95,
   "metadata": {},
   "outputs": [],
   "source": [
    "ds1_df = pd.read_csv(\"http://archive.ics.uci.edu/ml/machine-learning-databases/wine-quality/winequality-white.csv\",sep=\";\")\n",
    "\n",
    "X, y = ds1_df.iloc[:,:-1], ds1_df.iloc[:,-1]\n",
    "X_train, X_test, y_train, y_test = train_test_split(X, y, random_state=1)"
   ]
  },
  {
   "cell_type": "markdown",
   "metadata": {},
   "source": [
    "<b> Model Auto-sklearn </b>"
   ]
  },
  {
   "cell_type": "code",
   "execution_count": 94,
   "metadata": {},
   "outputs": [
    {
     "name": "stdout",
     "output_type": "stream",
     "text": [
      "\n",
      "auto-sklearn results:\n",
      "  Dataset name: 85c68cd19b887b3aa699aa9c7b59a288\n",
      "  Metric: accuracy\n",
      "  Best validation score: 0.659522\n",
      "  Number of target algorithm runs: 242\n",
      "  Number of successful target algorithm runs: 237\n",
      "  Number of crashed target algorithm runs: 3\n",
      "  Number of target algorithms that exceeded the time limit: 2\n",
      "  Number of target algorithms that exceeded the memory limit: 0\n",
      "\n"
     ]
    }
   ],
   "source": [
    "start_time = time.time()\n",
    "ds1_autosklearn_predictions = autosklearn_classification(X_train, y_train, X_test)\n",
    "end_time = time.time()"
   ]
  },
  {
   "cell_type": "code",
   "execution_count": 16,
   "metadata": {},
   "outputs": [
    {
     "name": "stdout",
     "output_type": "stream",
     "text": [
      "Framework:  auto-sklearn\n",
      "log loss:  0.4268143501\n",
      "accuracy:  0.6522448979591837\n",
      "Classification report\n",
      "              precision    recall  f1-score   support\n",
      "\n",
      "           3       0.00      0.00      0.00         2\n",
      "           4       0.67      0.22      0.33        37\n",
      "           5       0.70      0.61      0.65       368\n",
      "           6       0.61      0.82      0.70       544\n",
      "           7       0.76      0.47      0.58       233\n",
      "           8       0.83      0.24      0.38        41\n",
      "\n",
      "    accuracy                           0.65      1225\n",
      "   macro avg       0.59      0.39      0.44      1225\n",
      "weighted avg       0.67      0.65      0.64      1225\n",
      "\n",
      "total time elapsed:  3602.586087703705\n"
     ]
    },
    {
     "name": "stderr",
     "output_type": "stream",
     "text": [
      "/usr/local/lib/python3.9/site-packages/sklearn/metrics/_classification.py:1221: UndefinedMetricWarning: Precision and F-score are ill-defined and being set to 0.0 in labels with no predicted samples. Use `zero_division` parameter to control this behavior.\n",
      "  _warn_prf(average, modifier, msg_start, len(result))\n"
     ]
    }
   ],
   "source": [
    "#calculating metrics\n",
    "metric_calculator(\"auto-sklearn\", \"wine quality\", y_test, ds1_autosklearn_predictions)\n",
    "print(\"total time elapsed: \",end_time - start_time)"
   ]
  },
  {
   "cell_type": "markdown",
   "metadata": {},
   "source": [
    "<b> Model TPOT </b>"
   ]
  },
  {
   "cell_type": "code",
   "execution_count": 96,
   "metadata": {},
   "outputs": [
    {
     "data": {
      "application/vnd.jupyter.widget-view+json": {
       "model_id": "",
       "version_major": 2,
       "version_minor": 0
      },
      "text/plain": [
       "HBox(children=(HTML(value='Optimization Progress'), FloatProgress(value=0.0, max=300.0), HTML(value='')))"
      ]
     },
     "metadata": {},
     "output_type": "display_data"
    },
    {
     "name": "stdout",
     "output_type": "stream",
     "text": [
      "\n",
      "Generation 1 - Current best internal CV score: 0.6553237316725056\n",
      "\n",
      "Generation 2 - Current best internal CV score: 0.6553237316725056\n",
      "\n",
      "Generation 3 - Current best internal CV score: 0.6555928747520807\n",
      "\n",
      "Generation 4 - Current best internal CV score: 0.6555928747520807\n",
      "\n",
      "Generation 5 - Current best internal CV score: 0.6555928747520807\n",
      "\n",
      "Best pipeline: KNeighborsClassifier(RobustScaler(input_matrix), n_neighbors=70, p=1, weights=distance)\n"
     ]
    }
   ],
   "source": [
    "start_time = time.time()\n",
    "ds1_tpot_predictions = tpot_classification(X_train, y_train, X_test)"
   ]
  },
  {
   "cell_type": "code",
   "execution_count": 97,
   "metadata": {},
   "outputs": [],
   "source": [
    "end_time = time.time()"
   ]
  },
  {
   "cell_type": "code",
   "execution_count": 99,
   "metadata": {},
   "outputs": [
    {
     "name": "stdout",
     "output_type": "stream",
     "text": [
      "Framework:  tpot\n",
      "log loss:  0.25763234\n",
      "accuracy:  0.6644897959183673\n",
      "Classification report\n"
     ]
    },
    {
     "name": "stderr",
     "output_type": "stream",
     "text": [
      "/opt/conda/lib/python3.7/site-packages/sklearn/metrics/_classification.py:1221: UndefinedMetricWarning: Precision and F-score are ill-defined and being set to 0.0 in labels with no predicted samples. Use `zero_division` parameter to control this behavior.\n",
      "  _warn_prf(average, modifier, msg_start, len(result))\n"
     ]
    },
    {
     "name": "stdout",
     "output_type": "stream",
     "text": [
      "              precision    recall  f1-score   support\n",
      "\n",
      "           3       0.00      0.00      0.00         2\n",
      "           4       1.00      0.03      0.05        37\n",
      "           5       0.73      0.60      0.66       368\n",
      "           6       0.61      0.85      0.71       544\n",
      "           7       0.76      0.50      0.60       233\n",
      "           8       1.00      0.32      0.48        41\n",
      "\n",
      "    accuracy                           0.66      1225\n",
      "   macro avg       0.68      0.38      0.42      1225\n",
      "weighted avg       0.70      0.66      0.65      1225\n",
      "\n",
      "total time elapsed:  1908.7302021980286\n"
     ]
    }
   ],
   "source": [
    "#calculating metrics\n",
    "metric_calculator(\"tpot\", \"wine quality\", y_test, ds1_tpot_predictions)\n",
    "print(\"total time elapsed: \",end_time - start_time)"
   ]
  },
  {
   "cell_type": "markdown",
   "metadata": {},
   "source": [
    "<b> Model H2O </b>"
   ]
  },
  {
   "cell_type": "code",
   "execution_count": 61,
   "metadata": {},
   "outputs": [
    {
     "name": "stdout",
     "output_type": "stream",
     "text": [
      "Checking whether there is an H2O instance running at http://localhost:54321 . connected.\n"
     ]
    },
    {
     "data": {
      "text/html": [
       "<div style=\"overflow:auto\"><table style=\"width:50%\"><tr><td>H2O_cluster_uptime:</td>\n",
       "<td>16 hours 20 mins</td></tr>\n",
       "<tr><td>H2O_cluster_timezone:</td>\n",
       "<td>Etc/UTC</td></tr>\n",
       "<tr><td>H2O_data_parsing_timezone:</td>\n",
       "<td>UTC</td></tr>\n",
       "<tr><td>H2O_cluster_version:</td>\n",
       "<td>3.32.0.2</td></tr>\n",
       "<tr><td>H2O_cluster_version_age:</td>\n",
       "<td>28 days, 10 hours and 30 minutes </td></tr>\n",
       "<tr><td>H2O_cluster_name:</td>\n",
       "<td>H2O_from_python_jupyter_htc3nt</td></tr>\n",
       "<tr><td>H2O_cluster_total_nodes:</td>\n",
       "<td>1</td></tr>\n",
       "<tr><td>H2O_cluster_free_memory:</td>\n",
       "<td>5.824 Gb</td></tr>\n",
       "<tr><td>H2O_cluster_total_cores:</td>\n",
       "<td>8</td></tr>\n",
       "<tr><td>H2O_cluster_allowed_cores:</td>\n",
       "<td>8</td></tr>\n",
       "<tr><td>H2O_cluster_status:</td>\n",
       "<td>locked, healthy</td></tr>\n",
       "<tr><td>H2O_connection_url:</td>\n",
       "<td>http://localhost:54321</td></tr>\n",
       "<tr><td>H2O_connection_proxy:</td>\n",
       "<td>{\"http\": null, \"https\": null}</td></tr>\n",
       "<tr><td>H2O_internal_security:</td>\n",
       "<td>False</td></tr>\n",
       "<tr><td>H2O_API_Extensions:</td>\n",
       "<td>Amazon S3, XGBoost, Algos, AutoML, Core V3, TargetEncoder, Core V4</td></tr>\n",
       "<tr><td>Python_version:</td>\n",
       "<td>3.7.8 final</td></tr></table></div>"
      ],
      "text/plain": [
       "--------------------------  ------------------------------------------------------------------\n",
       "H2O_cluster_uptime:         16 hours 20 mins\n",
       "H2O_cluster_timezone:       Etc/UTC\n",
       "H2O_data_parsing_timezone:  UTC\n",
       "H2O_cluster_version:        3.32.0.2\n",
       "H2O_cluster_version_age:    28 days, 10 hours and 30 minutes\n",
       "H2O_cluster_name:           H2O_from_python_jupyter_htc3nt\n",
       "H2O_cluster_total_nodes:    1\n",
       "H2O_cluster_free_memory:    5.824 Gb\n",
       "H2O_cluster_total_cores:    8\n",
       "H2O_cluster_allowed_cores:  8\n",
       "H2O_cluster_status:         locked, healthy\n",
       "H2O_connection_url:         http://localhost:54321\n",
       "H2O_connection_proxy:       {\"http\": null, \"https\": null}\n",
       "H2O_internal_security:      False\n",
       "H2O_API_Extensions:         Amazon S3, XGBoost, Algos, AutoML, Core V3, TargetEncoder, Core V4\n",
       "Python_version:             3.7.8 final\n",
       "--------------------------  ------------------------------------------------------------------"
      ]
     },
     "metadata": {},
     "output_type": "display_data"
    },
    {
     "name": "stdout",
     "output_type": "stream",
     "text": [
      "Parse progress: |█████████████████████████████████████████████████████████| 100%\n",
      "AutoML progress: |████████████████████████████████████████████████████████| 100%\n",
      "Parse progress: |█████████████████████████████████████████████████████████| 100%\n",
      "gbm prediction progress: |████████████████████████████████████████████████| 100%\n",
      "various models tested:\n"
     ]
    },
    {
     "data": {
      "text/html": [
       "<table>\n",
       "<thead>\n",
       "<tr><th>model_id                                           </th><th style=\"text-align: right;\">  mean_per_class_error</th><th style=\"text-align: right;\">  logloss</th><th style=\"text-align: right;\">    rmse</th><th style=\"text-align: right;\">     mse</th><th style=\"text-align: right;\">  training_time_ms</th><th style=\"text-align: right;\">  predict_time_per_row_ms</th></tr>\n",
       "</thead>\n",
       "<tbody>\n",
       "<tr><td>GBM_grid__1_AutoML_20201216_020906_model_15        </td><td style=\"text-align: right;\">              0.629892</td><td style=\"text-align: right;\"> 0.974609</td><td style=\"text-align: right;\">0.536878</td><td style=\"text-align: right;\">0.288238</td><td style=\"text-align: right;\">              1341</td><td style=\"text-align: right;\">                 0.145039</td></tr>\n",
       "<tr><td>XGBoost_grid__1_AutoML_20201216_020906_model_5     </td><td style=\"text-align: right;\">              0.630002</td><td style=\"text-align: right;\"> 1.02758 </td><td style=\"text-align: right;\">0.540866</td><td style=\"text-align: right;\">0.292536</td><td style=\"text-align: right;\">               927</td><td style=\"text-align: right;\">                 0.026143</td></tr>\n",
       "<tr><td>GBM_3_AutoML_20201216_020906                       </td><td style=\"text-align: right;\">              0.640258</td><td style=\"text-align: right;\"> 0.936908</td><td style=\"text-align: right;\">0.53719 </td><td style=\"text-align: right;\">0.288573</td><td style=\"text-align: right;\">               982</td><td style=\"text-align: right;\">                 0.130451</td></tr>\n",
       "<tr><td>GBM_grid__1_AutoML_20201216_020906_model_22        </td><td style=\"text-align: right;\">              0.640654</td><td style=\"text-align: right;\"> 0.966226</td><td style=\"text-align: right;\">0.52975 </td><td style=\"text-align: right;\">0.280635</td><td style=\"text-align: right;\">              1623</td><td style=\"text-align: right;\">                 0.221353</td></tr>\n",
       "<tr><td>StackedEnsemble_BestOfFamily_AutoML_20201216_020906</td><td style=\"text-align: right;\">              0.641232</td><td style=\"text-align: right;\"> 0.869254</td><td style=\"text-align: right;\">0.536349</td><td style=\"text-align: right;\">0.28767 </td><td style=\"text-align: right;\">             21755</td><td style=\"text-align: right;\">                 0.148778</td></tr>\n",
       "<tr><td>XRT_1_AutoML_20201216_020906                       </td><td style=\"text-align: right;\">              0.642959</td><td style=\"text-align: right;\"> 1.29546 </td><td style=\"text-align: right;\">0.544668</td><td style=\"text-align: right;\">0.296664</td><td style=\"text-align: right;\">              1193</td><td style=\"text-align: right;\">                 0.098868</td></tr>\n",
       "<tr><td>DRF_1_AutoML_20201216_020906                       </td><td style=\"text-align: right;\">              0.643066</td><td style=\"text-align: right;\"> 1.32428 </td><td style=\"text-align: right;\">0.544484</td><td style=\"text-align: right;\">0.296463</td><td style=\"text-align: right;\">               735</td><td style=\"text-align: right;\">                 0.086306</td></tr>\n",
       "<tr><td>GBM_4_AutoML_20201216_020906                       </td><td style=\"text-align: right;\">              0.649275</td><td style=\"text-align: right;\"> 0.934342</td><td style=\"text-align: right;\">0.533898</td><td style=\"text-align: right;\">0.285047</td><td style=\"text-align: right;\">              1887</td><td style=\"text-align: right;\">                 0.131289</td></tr>\n",
       "<tr><td>GBM_grid__1_AutoML_20201216_020906_model_17        </td><td style=\"text-align: right;\">              0.649514</td><td style=\"text-align: right;\"> 0.954645</td><td style=\"text-align: right;\">0.541141</td><td style=\"text-align: right;\">0.292834</td><td style=\"text-align: right;\">              1633</td><td style=\"text-align: right;\">                 0.189937</td></tr>\n",
       "<tr><td>GBM_grid__1_AutoML_20201216_020906_model_24        </td><td style=\"text-align: right;\">              0.650336</td><td style=\"text-align: right;\"> 0.956071</td><td style=\"text-align: right;\">0.536499</td><td style=\"text-align: right;\">0.287831</td><td style=\"text-align: right;\">              1413</td><td style=\"text-align: right;\">                 0.181271</td></tr>\n",
       "</tbody>\n",
       "</table>"
      ]
     },
     "metadata": {},
     "output_type": "display_data"
    },
    {
     "name": "stdout",
     "output_type": "stream",
     "text": [
      "\n"
     ]
    }
   ],
   "source": [
    "start_time = time.time()\n",
    "ds1_h2o_predictions = h2o_classifications(X_train, y_train, X_test, ds1_df.columns[-1])\n",
    "end_time = time.time()"
   ]
  },
  {
   "cell_type": "code",
   "execution_count": 73,
   "metadata": {},
   "outputs": [
    {
     "name": "stdout",
     "output_type": "stream",
     "text": [
      "Framework:  H2O\n",
      "log loss:  0.32154732\n",
      "accuracy:  0.6587755102040816\n",
      "Classification report\n",
      "              precision    recall  f1-score   support\n",
      "\n",
      "           3       0.00      0.00      0.00         2\n",
      "           4       0.53      0.22      0.31        37\n",
      "           5       0.70      0.65      0.67       368\n",
      "           6       0.64      0.78      0.70       544\n",
      "           7       0.68      0.51      0.58       233\n",
      "           8       0.64      0.34      0.44        41\n",
      "\n",
      "    accuracy                           0.66      1225\n",
      "   macro avg       0.53      0.42      0.45      1225\n",
      "weighted avg       0.66      0.66      0.65      1225\n",
      "\n",
      "total time elapsed:  2645.5268199443817\n"
     ]
    }
   ],
   "source": [
    "#calculating metrics\n",
    "metric_calculator(\"H2O\", \"wine quality\",y_test, ds1_h2o_predictions)\n",
    "print(\"total time elapsed: \",end_time - start_time)"
   ]
  },
  {
   "cell_type": "markdown",
   "metadata": {},
   "source": [
    "### Dataset 2 - Spambase\n"
   ]
  },
  {
   "cell_type": "code",
   "execution_count": 75,
   "metadata": {},
   "outputs": [],
   "source": [
    "X, y = fetch_openml('spambase', version=1, return_X_y=True, as_frame=True)\n",
    "X_train, X_test, y_train, y_test = train_test_split(X, y, random_state=1)"
   ]
  },
  {
   "cell_type": "markdown",
   "metadata": {},
   "source": [
    "<b> Model Auto-sklearn </b>"
   ]
  },
  {
   "cell_type": "code",
   "execution_count": 1,
   "metadata": {},
   "outputs": [
    {
     "name": "stdout",
     "output_type": "stream",
     "text": [
      "\n",
      "auto-sklearn results:\n",
      "  Dataset name: 2b36186d2a8d5021e8a046ef162a9f3e\n",
      "  Metric: accuracy\n",
      "  Best validation score: 0.955224\n",
      "  Number of target algorithm runs: 138\n",
      "  Number of successful target algorithm runs: 132\n",
      "  Number of crashed target algorithm runs: 1\n",
      "  Number of target algorithms that exceeded the time limit: 5\n",
      "  Number of target algorithms that exceeded the memory limit: 0\n",
      "\n"
     ]
    }
   ],
   "source": [
    "start_time = time.time()\n",
    "ds2_autosklearn_predictions = autosklearn_classification(X_train, y_train, X_test)\n",
    "end_time = time.time()"
   ]
  },
  {
   "cell_type": "code",
   "execution_count": 13,
   "metadata": {},
   "outputs": [
    {
     "name": "stdout",
     "output_type": "stream",
     "text": [
      "Framework:  auto-sklearn\n",
      "log loss:  0.18817840144885561\n",
      "accuracy:  0.9565595134665508\n",
      "Classification report\n",
      "              precision    recall  f1-score   support\n",
      "\n",
      "           0       0.95      0.98      0.96       701\n",
      "           1       0.97      0.92      0.94       450\n",
      "\n",
      "    accuracy                           0.96      1151\n",
      "   macro avg       0.96      0.95      0.95      1151\n",
      "weighted avg       0.96      0.96      0.96      1151\n",
      "\n",
      "total time elapsed:  3624.878770828247\n"
     ]
    }
   ],
   "source": [
    "#calculating metrics\n",
    "metric_calculator(\"auto-sklearn\", \"spambase\", y_test, ds2_autosklearn_predictions)\n",
    "print(\"total time elapsed: \",end_time - start_time)"
   ]
  },
  {
   "cell_type": "markdown",
   "metadata": {},
   "source": [
    "<b> Model TPOT </b>"
   ]
  },
  {
   "cell_type": "code",
   "execution_count": 76,
   "metadata": {},
   "outputs": [
    {
     "data": {
      "application/vnd.jupyter.widget-view+json": {
       "model_id": "",
       "version_major": 2,
       "version_minor": 0
      },
      "text/plain": [
       "HBox(children=(HTML(value='Optimization Progress'), FloatProgress(value=0.0, max=300.0), HTML(value='')))"
      ]
     },
     "metadata": {},
     "output_type": "display_data"
    },
    {
     "name": "stdout",
     "output_type": "stream",
     "text": [
      "\n",
      "Generation 1 - Current best internal CV score: 0.946376811594203\n",
      "\n",
      "Generation 2 - Current best internal CV score: 0.9489855072463769\n",
      "\n",
      "Generation 3 - Current best internal CV score: 0.9501449275362319\n",
      "\n",
      "Generation 4 - Current best internal CV score: 0.9515942028985507\n",
      "\n",
      "Generation 5 - Current best internal CV score: 0.952463768115942\n",
      "\n",
      "Best pipeline: GradientBoostingClassifier(BernoulliNB(input_matrix, alpha=0.01, fit_prior=True), learning_rate=0.1, max_depth=6, max_features=0.5, min_samples_leaf=15, min_samples_split=5, n_estimators=100, subsample=0.7500000000000001)\n"
     ]
    }
   ],
   "source": [
    "start_time = time.time()\n",
    "ds2_tpot_predictions = tpot_classification(X_train, y_train, X_test)\n",
    "end_time = time.time()"
   ]
  },
  {
   "cell_type": "code",
   "execution_count": 77,
   "metadata": {},
   "outputs": [
    {
     "name": "stdout",
     "output_type": "stream",
     "text": [
      "Framework:  tpot\n",
      "log loss:  0.12303342451402823\n",
      "accuracy:  0.9548218940052129\n",
      "Classification report\n",
      "              precision    recall  f1-score   support\n",
      "\n",
      "           0       0.96      0.97      0.96       701\n",
      "           1       0.95      0.94      0.94       450\n",
      "\n",
      "    accuracy                           0.95      1151\n",
      "   macro avg       0.95      0.95      0.95      1151\n",
      "weighted avg       0.95      0.95      0.95      1151\n",
      "\n",
      "total time elapsed:  1726.0997183322906\n"
     ]
    }
   ],
   "source": [
    "#calculating metrics\n",
    "metric_calculator(\"tpot\", \"spambase\", y_test,ds2_tpot_predictions)\n",
    "print(\"total time elapsed: \",end_time - start_time)"
   ]
  },
  {
   "cell_type": "markdown",
   "metadata": {},
   "source": [
    "<b> Model H2O </b>"
   ]
  },
  {
   "cell_type": "code",
   "execution_count": 78,
   "metadata": {},
   "outputs": [
    {
     "name": "stdout",
     "output_type": "stream",
     "text": [
      "Checking whether there is an H2O instance running at http://localhost:54321 . connected.\n"
     ]
    },
    {
     "data": {
      "text/html": [
       "<div style=\"overflow:auto\"><table style=\"width:50%\"><tr><td>H2O_cluster_uptime:</td>\n",
       "<td>17 hours 43 mins</td></tr>\n",
       "<tr><td>H2O_cluster_timezone:</td>\n",
       "<td>Etc/UTC</td></tr>\n",
       "<tr><td>H2O_data_parsing_timezone:</td>\n",
       "<td>UTC</td></tr>\n",
       "<tr><td>H2O_cluster_version:</td>\n",
       "<td>3.32.0.2</td></tr>\n",
       "<tr><td>H2O_cluster_version_age:</td>\n",
       "<td>28 days, 11 hours and 53 minutes </td></tr>\n",
       "<tr><td>H2O_cluster_name:</td>\n",
       "<td>H2O_from_python_jupyter_htc3nt</td></tr>\n",
       "<tr><td>H2O_cluster_total_nodes:</td>\n",
       "<td>1</td></tr>\n",
       "<tr><td>H2O_cluster_free_memory:</td>\n",
       "<td>5.581 Gb</td></tr>\n",
       "<tr><td>H2O_cluster_total_cores:</td>\n",
       "<td>8</td></tr>\n",
       "<tr><td>H2O_cluster_allowed_cores:</td>\n",
       "<td>8</td></tr>\n",
       "<tr><td>H2O_cluster_status:</td>\n",
       "<td>locked, healthy</td></tr>\n",
       "<tr><td>H2O_connection_url:</td>\n",
       "<td>http://localhost:54321</td></tr>\n",
       "<tr><td>H2O_connection_proxy:</td>\n",
       "<td>{\"http\": null, \"https\": null}</td></tr>\n",
       "<tr><td>H2O_internal_security:</td>\n",
       "<td>False</td></tr>\n",
       "<tr><td>H2O_API_Extensions:</td>\n",
       "<td>Amazon S3, XGBoost, Algos, AutoML, Core V3, TargetEncoder, Core V4</td></tr>\n",
       "<tr><td>Python_version:</td>\n",
       "<td>3.7.8 final</td></tr></table></div>"
      ],
      "text/plain": [
       "--------------------------  ------------------------------------------------------------------\n",
       "H2O_cluster_uptime:         17 hours 43 mins\n",
       "H2O_cluster_timezone:       Etc/UTC\n",
       "H2O_data_parsing_timezone:  UTC\n",
       "H2O_cluster_version:        3.32.0.2\n",
       "H2O_cluster_version_age:    28 days, 11 hours and 53 minutes\n",
       "H2O_cluster_name:           H2O_from_python_jupyter_htc3nt\n",
       "H2O_cluster_total_nodes:    1\n",
       "H2O_cluster_free_memory:    5.581 Gb\n",
       "H2O_cluster_total_cores:    8\n",
       "H2O_cluster_allowed_cores:  8\n",
       "H2O_cluster_status:         locked, healthy\n",
       "H2O_connection_url:         http://localhost:54321\n",
       "H2O_connection_proxy:       {\"http\": null, \"https\": null}\n",
       "H2O_internal_security:      False\n",
       "H2O_API_Extensions:         Amazon S3, XGBoost, Algos, AutoML, Core V3, TargetEncoder, Core V4\n",
       "Python_version:             3.7.8 final\n",
       "--------------------------  ------------------------------------------------------------------"
      ]
     },
     "metadata": {},
     "output_type": "display_data"
    },
    {
     "name": "stdout",
     "output_type": "stream",
     "text": [
      "Parse progress: |█████████████████████████████████████████████████████████| 100%\n",
      "AutoML progress: |████████████████████████████████████████████████████████| 100%\n",
      "Parse progress: |█████████████████████████████████████████████████████████| 100%\n",
      "gbm prediction progress: |████████████████████████████████████████████████| 100%\n",
      "various models tested:\n"
     ]
    },
    {
     "data": {
      "text/html": [
       "<table>\n",
       "<thead>\n",
       "<tr><th>model_id                                        </th><th style=\"text-align: right;\">     auc</th><th style=\"text-align: right;\">  logloss</th><th style=\"text-align: right;\">   aucpr</th><th style=\"text-align: right;\">  mean_per_class_error</th><th style=\"text-align: right;\">    rmse</th><th style=\"text-align: right;\">      mse</th><th style=\"text-align: right;\">  training_time_ms</th><th style=\"text-align: right;\">  predict_time_per_row_ms</th></tr>\n",
       "</thead>\n",
       "<tbody>\n",
       "<tr><td>GBM_grid__1_AutoML_20201216_033155_model_32     </td><td style=\"text-align: right;\">0.9883  </td><td style=\"text-align: right;\"> 0.130907</td><td style=\"text-align: right;\">0.981757</td><td style=\"text-align: right;\">             0.0502501</td><td style=\"text-align: right;\">0.190995</td><td style=\"text-align: right;\">0.0364791</td><td style=\"text-align: right;\">              1880</td><td style=\"text-align: right;\">                 0.04003 </td></tr>\n",
       "<tr><td>GBM_grid__1_AutoML_20201216_033155_model_7      </td><td style=\"text-align: right;\">0.988236</td><td style=\"text-align: right;\"> 0.131039</td><td style=\"text-align: right;\">0.982811</td><td style=\"text-align: right;\">             0.0500404</td><td style=\"text-align: right;\">0.190789</td><td style=\"text-align: right;\">0.0364005</td><td style=\"text-align: right;\">              1541</td><td style=\"text-align: right;\">                 0.041045</td></tr>\n",
       "<tr><td>GBM_grid__1_AutoML_20201216_033155_model_10     </td><td style=\"text-align: right;\">0.988045</td><td style=\"text-align: right;\"> 0.13043 </td><td style=\"text-align: right;\">0.981372</td><td style=\"text-align: right;\">             0.0529375</td><td style=\"text-align: right;\">0.19043 </td><td style=\"text-align: right;\">0.0362637</td><td style=\"text-align: right;\">              1434</td><td style=\"text-align: right;\">                 0.038728</td></tr>\n",
       "<tr><td>StackedEnsemble_AllModels_AutoML_20201216_033155</td><td style=\"text-align: right;\">0.987873</td><td style=\"text-align: right;\"> 0.172869</td><td style=\"text-align: right;\">0.981719</td><td style=\"text-align: right;\">             0.0479368</td><td style=\"text-align: right;\">0.199344</td><td style=\"text-align: right;\">0.0397381</td><td style=\"text-align: right;\">              6028</td><td style=\"text-align: right;\">                 1.18797 </td></tr>\n",
       "<tr><td>GBM_4_AutoML_20201216_033155                    </td><td style=\"text-align: right;\">0.987828</td><td style=\"text-align: right;\"> 0.133157</td><td style=\"text-align: right;\">0.982363</td><td style=\"text-align: right;\">             0.0490074</td><td style=\"text-align: right;\">0.192263</td><td style=\"text-align: right;\">0.0369649</td><td style=\"text-align: right;\">              1806</td><td style=\"text-align: right;\">                 0.03744 </td></tr>\n",
       "<tr><td>GBM_grid__1_AutoML_20201216_033155_model_5      </td><td style=\"text-align: right;\">0.987744</td><td style=\"text-align: right;\"> 0.137402</td><td style=\"text-align: right;\">0.982553</td><td style=\"text-align: right;\">             0.0544425</td><td style=\"text-align: right;\">0.196351</td><td style=\"text-align: right;\">0.0385538</td><td style=\"text-align: right;\">              2112</td><td style=\"text-align: right;\">                 0.04198 </td></tr>\n",
       "<tr><td>GBM_grid__1_AutoML_20201216_033155_model_51     </td><td style=\"text-align: right;\">0.98774 </td><td style=\"text-align: right;\"> 0.132355</td><td style=\"text-align: right;\">0.98164 </td><td style=\"text-align: right;\">             0.0491424</td><td style=\"text-align: right;\">0.192053</td><td style=\"text-align: right;\">0.0368845</td><td style=\"text-align: right;\">              1585</td><td style=\"text-align: right;\">                 0.045376</td></tr>\n",
       "<tr><td>GBM_3_AutoML_20201216_033155                    </td><td style=\"text-align: right;\">0.987647</td><td style=\"text-align: right;\"> 0.133459</td><td style=\"text-align: right;\">0.982328</td><td style=\"text-align: right;\">             0.0483562</td><td style=\"text-align: right;\">0.19247 </td><td style=\"text-align: right;\">0.0370446</td><td style=\"text-align: right;\">              1733</td><td style=\"text-align: right;\">                 0.038299</td></tr>\n",
       "<tr><td>GBM_grid__1_AutoML_20201216_033155_model_31     </td><td style=\"text-align: right;\">0.98764 </td><td style=\"text-align: right;\"> 0.141162</td><td style=\"text-align: right;\">0.98164 </td><td style=\"text-align: right;\">             0.0568604</td><td style=\"text-align: right;\">0.198781</td><td style=\"text-align: right;\">0.039514 </td><td style=\"text-align: right;\">              2404</td><td style=\"text-align: right;\">                 0.044602</td></tr>\n",
       "<tr><td>GBM_grid__1_AutoML_20201216_033155_model_44     </td><td style=\"text-align: right;\">0.987592</td><td style=\"text-align: right;\"> 0.133015</td><td style=\"text-align: right;\">0.982397</td><td style=\"text-align: right;\">             0.0496061</td><td style=\"text-align: right;\">0.190011</td><td style=\"text-align: right;\">0.0361041</td><td style=\"text-align: right;\">              1583</td><td style=\"text-align: right;\">                 0.042892</td></tr>\n",
       "</tbody>\n",
       "</table>"
      ]
     },
     "metadata": {},
     "output_type": "display_data"
    },
    {
     "name": "stdout",
     "output_type": "stream",
     "text": [
      "\n"
     ]
    }
   ],
   "source": [
    "start_time = time.time()\n",
    "ds2_h2o_predictions = h2o_classifications(X_train, y_train, X_test, y.name)\n",
    "end_time = time.time()"
   ]
  },
  {
   "cell_type": "code",
   "execution_count": 79,
   "metadata": {},
   "outputs": [
    {
     "name": "stdout",
     "output_type": "stream",
     "text": [
      "Framework:  H2O\n",
      "log loss:  0.10893043400624643\n",
      "accuracy:  0.9600347523892268\n",
      "Classification report\n",
      "              precision    recall  f1-score   support\n",
      "\n",
      "           0       0.98      0.96      0.97       701\n",
      "           1       0.94      0.96      0.95       450\n",
      "\n",
      "    accuracy                           0.96      1151\n",
      "   macro avg       0.96      0.96      0.96      1151\n",
      "weighted avg       0.96      0.96      0.96      1151\n",
      "\n",
      "total time elapsed:  3086.9009573459625\n"
     ]
    }
   ],
   "source": [
    "#calculating metrics\n",
    "metric_calculator(\"H2O\", \"spambase\",y_test,ds2_h2o_predictions )\n",
    "print(\"total time elapsed: \",end_time - start_time)"
   ]
  },
  {
   "cell_type": "markdown",
   "metadata": {},
   "source": [
    "### Dataset 3 - Bank Marketing"
   ]
  },
  {
   "cell_type": "code",
   "execution_count": 80,
   "metadata": {},
   "outputs": [],
   "source": [
    "Marketing = pd.read_csv(\"Data/bank-additional-full.csv\",sep=\",\")\n",
    "\n",
    "X, y = Marketing.iloc[:,:-1], Marketing.iloc[:,-1]\n",
    "X_train, X_test, y_train, y_test = train_test_split(X, y, random_state=1)"
   ]
  },
  {
   "cell_type": "markdown",
   "metadata": {},
   "source": [
    "<b> Model Auto-sklearn </b>"
   ]
  },
  {
   "cell_type": "code",
   "execution_count": 2,
   "metadata": {},
   "outputs": [
    {
     "name": "stdout",
     "output_type": "stream",
     "text": [
      "\n",
      "Dataset name: e8a345c8c7e197380470c38aa26d24c8\n",
      "  Metric: accuracy\n",
      "  Best validation score: 0.917214\n",
      "  Number of target algorithm runs: 48\n",
      "  Number of successful target algorithm runs: 42\n",
      "  Number of crashed target algorithm runs: 2\n",
      "  Number of target algorithms that exceeded the time limit: 4\n",
      "  Number of target algorithms that exceeded the memory limit: 0\n",
      "      \n"
     ]
    }
   ],
   "source": [
    "start_time = time.time()\n",
    "\n",
    "for column in Marketing.columns:\n",
    "    if str(Marketing[column].dtypes) ==\"object\":\n",
    "        Marketing[column] = Marketing[column].astype(\"category\")\n",
    "        \n",
    "X, y = Marketing.iloc[:,:-1], Marketing.iloc[:,-1]\n",
    "X_train, X_test, y_train, y_test = train_test_split(X, y, random_state=1)\n",
    "\n",
    "ds3_autosklearn_predictions = autosklearn_classification(X_train, y_train, X_test)\n",
    "end_time = time.time()"
   ]
  },
  {
   "cell_type": "code",
   "execution_count": 10,
   "metadata": {
    "scrolled": true
   },
   "outputs": [
    {
     "name": "stdout",
     "output_type": "stream",
     "text": [
      "Framework:  auto-sklearn\n",
      "log loss:  0.2102055772435655\n",
      "accuracy:  0.9181314946100806\n",
      "Classification report\n",
      "              precision    recall  f1-score   support\n",
      "\n",
      "          no       0.94      0.97      0.95      9132\n",
      "         yes       0.68      0.52      0.59      1165\n",
      "\n",
      "    accuracy                           0.92     10297\n",
      "   macro avg       0.81      0.75      0.77     10297\n",
      "weighted avg       0.91      0.92      0.91     10297\n",
      "\n",
      "total time elapsed:  3601.192629814148\n"
     ]
    }
   ],
   "source": [
    "#calculating metrics\n",
    "metric_calculator(\"auto-sklearn\", \"bank marketing\", y_test, ds3_autosklearn_predictions)\n",
    "print(\"total time elapsed: \",end_time - start_time)"
   ]
  },
  {
   "cell_type": "markdown",
   "metadata": {},
   "source": [
    "<b> Model TPOT </b>"
   ]
  },
  {
   "cell_type": "code",
   "execution_count": 82,
   "metadata": {},
   "outputs": [],
   "source": [
    "start_time = time.time()\n",
    "\n",
    "Marketing.rename(columns={'y': 'class'}, inplace=True)"
   ]
  },
  {
   "cell_type": "markdown",
   "metadata": {},
   "source": [
    "<b>Preprocessing since TPOT accepts only numeric data in its features.</b>"
   ]
  },
  {
   "cell_type": "code",
   "execution_count": 83,
   "metadata": {
    "colab": {
     "base_uri": "https://localhost:8080/"
    },
    "id": "Gh2IvdlYDU_R",
    "outputId": "2c63059d-54a5-454f-a079-c94bbb6820a0"
   },
   "outputs": [
    {
     "name": "stdout",
     "output_type": "stream",
     "text": [
      "Number of levels in category 'job': 12.00 \n",
      "Number of levels in category 'marital': 4.00 \n",
      "Number of levels in category 'education': 8.00 \n",
      "Number of levels in category 'default': 3.00 \n",
      "Number of levels in category 'housing': 3.00 \n",
      "Number of levels in category 'loan': 3.00 \n",
      "Number of levels in category 'contact': 2.00 \n",
      "Number of levels in category 'month': 10.00 \n",
      "Number of levels in category 'day_of_week': 5.00 \n",
      "Number of levels in category 'poutcome': 3.00 \n",
      "Number of levels in category 'class': 2.00 \n"
     ]
    }
   ],
   "source": [
    "# Lookign at number of categories in each feature\n",
    "for cat in ['job', 'marital', 'education', 'default', 'housing', 'loan', 'contact', 'month', 'day_of_week', 'poutcome' ,'class']:\n",
    "    print(\"Number of levels in category '{0}': \\b {1:2.2f} \".format(cat, Marketing[cat].unique().size))"
   ]
  },
  {
   "cell_type": "code",
   "execution_count": 84,
   "metadata": {
    "colab": {
     "base_uri": "https://localhost:8080/"
    },
    "id": "pWuuQf1_DVz0",
    "outputId": "83529349-7165-4776-e529-08c77b53012e"
   },
   "outputs": [
    {
     "name": "stdout",
     "output_type": "stream",
     "text": [
      "Levels for catgeory 'contact': ['telephone', 'cellular']\n",
      "Categories (2, object): ['telephone', 'cellular']\n",
      "Levels for catgeory 'poutcome': ['nonexistent', 'failure', 'success']\n",
      "Categories (3, object): ['nonexistent', 'failure', 'success']\n",
      "Levels for catgeory 'class': ['no', 'yes']\n",
      "Categories (2, object): ['no', 'yes']\n",
      "Levels for catgeory 'marital': ['married', 'single', 'divorced', 'unknown']\n",
      "Categories (4, object): ['married', 'single', 'divorced', 'unknown']\n",
      "Levels for catgeory 'default': ['no', 'unknown', 'yes']\n",
      "Categories (3, object): ['no', 'unknown', 'yes']\n",
      "Levels for catgeory 'housing': ['no', 'yes', 'unknown']\n",
      "Categories (3, object): ['no', 'yes', 'unknown']\n",
      "Levels for catgeory 'loan': ['no', 'yes', 'unknown']\n",
      "Categories (3, object): ['no', 'yes', 'unknown']\n"
     ]
    }
   ],
   "source": [
    "for cat in ['contact', 'poutcome','class', 'marital', 'default', 'housing', 'loan']:\n",
    "    print(\"Levels for catgeory '{0}': {1}\".format(cat, Marketing[cat].unique()))"
   ]
  },
  {
   "cell_type": "code",
   "execution_count": 85,
   "metadata": {
    "id": "JgtRLNNuDiKt"
   },
   "outputs": [],
   "source": [
    "Marketing['marital'] = Marketing['marital'].map({'married':0,'single':1,'divorced':2,'unknown':3})\n",
    "Marketing['default'] = Marketing['default'].map({'no':0,'yes':1,'unknown':2})\n",
    "Marketing['housing'] = Marketing['housing'].map({'no':0,'yes':1,'unknown':2})\n",
    "Marketing['loan'] = Marketing['loan'].map({'no':0,'yes':1,'unknown':2})\n",
    "Marketing['contact'] = Marketing['contact'].map({'telephone':0,'cellular':1})\n",
    "Marketing['poutcome'] = Marketing['poutcome'].map({'nonexistent':0,'failure':1,'success':2})\n",
    "Marketing['class'] = Marketing['class'].map({'no':0,'yes':1})"
   ]
  },
  {
   "cell_type": "code",
   "execution_count": 86,
   "metadata": {
    "id": "aNhoy7M9E0vA"
   },
   "outputs": [],
   "source": [
    "from sklearn.preprocessing import MultiLabelBinarizer\n",
    "mlb = MultiLabelBinarizer()\n",
    "\n",
    "job_Trans = mlb.fit_transform([{str(val)} for val in Marketing['job'].values])\n",
    "education_Trans = mlb.fit_transform([{str(val)} for val in Marketing['education'].values])\n",
    "month_Trans = mlb.fit_transform([{str(val)} for val in Marketing['month'].values])\n",
    "day_of_week_Trans = mlb.fit_transform([{str(val)} for val in Marketing['day_of_week'].values])"
   ]
  },
  {
   "cell_type": "code",
   "execution_count": 87,
   "metadata": {
    "id": "vmg1gMwvE7TM"
   },
   "outputs": [],
   "source": [
    "#Droping features with too many categories since this will reduce training accuracy\n",
    "\n",
    "marketing_new = Marketing.drop(['marital','default','housing','loan','contact','poutcome','class','job','education','month','day_of_week'], axis=1)\n",
    "marketing_new = np.hstack((marketing_new.values, job_Trans, education_Trans, month_Trans, day_of_week_Trans))"
   ]
  },
  {
   "cell_type": "code",
   "execution_count": 88,
   "metadata": {
    "id": "faIHJoAEGsXW"
   },
   "outputs": [],
   "source": [
    "X, y = marketing_new[:,:-1], marketing_new[:,-1]\n",
    "X_train, X_test, y_train, y_test = train_test_split(X, y, random_state=1)"
   ]
  },
  {
   "cell_type": "code",
   "execution_count": 89,
   "metadata": {
    "colab": {
     "base_uri": "https://localhost:8080/",
     "height": 241,
     "referenced_widgets": [
      "eca508e61e504c59a4f502035c92be09",
      "f490c57bce5045aa8c417b3b25912ede",
      "2f2ee090558a4c439faa47aef0122b3f",
      "5ab8407111d14e98b0ed47d0557f69d1",
      "5319c1b7430b4010aa92b9ae748c7edd",
      "1a06a2fa234b4a958d3aad57428b3087",
      "5ff4b156fd994f3f95e04a99ec12ec18",
      "106efd061e124ffbbffcdd2dad0f82f5"
     ]
    },
    "id": "3PSmAPPBMFuV",
    "outputId": "f0a0e81c-9ffb-4da9-d3a5-314f48af1628"
   },
   "outputs": [
    {
     "data": {
      "application/vnd.jupyter.widget-view+json": {
       "model_id": "",
       "version_major": 2,
       "version_minor": 0
      },
      "text/plain": [
       "HBox(children=(HTML(value='Optimization Progress'), FloatProgress(value=0.0, max=300.0), HTML(value='')))"
      ]
     },
     "metadata": {},
     "output_type": "display_data"
    },
    {
     "name": "stdout",
     "output_type": "stream",
     "text": [
      "\n",
      "Generation 1 - Current best internal CV score: 1.0\n",
      "\n",
      "Generation 2 - Current best internal CV score: 1.0\n",
      "\n",
      "Generation 3 - Current best internal CV score: 1.0\n",
      "\n",
      "Generation 4 - Current best internal CV score: 1.0\n",
      "\n",
      "Generation 5 - Current best internal CV score: 1.0\n",
      "\n",
      "Best pipeline: DecisionTreeClassifier(input_matrix, criterion=gini, max_depth=6, min_samples_leaf=20, min_samples_split=14)\n"
     ]
    }
   ],
   "source": [
    "ds3_tpot_predictions = tpot_classification(X_train, y_train, X_test)\n",
    "end_time = time.time()"
   ]
  },
  {
   "cell_type": "code",
   "execution_count": 90,
   "metadata": {
    "colab": {
     "base_uri": "https://localhost:8080/"
    },
    "id": "plal2SPYMFYv",
    "outputId": "ea331fdd-444b-4caf-bb0e-cc51534752fa"
   },
   "outputs": [
    {
     "name": "stdout",
     "output_type": "stream",
     "text": [
      "Framework:  auto-sklearn\n",
      "log loss:  9.992007221626413e-16\n",
      "accuracy:  1.0\n",
      "Classification report\n",
      "              precision    recall  f1-score   support\n",
      "\n",
      "         0.0       1.00      1.00      1.00      8233\n",
      "         1.0       1.00      1.00      1.00      2064\n",
      "\n",
      "    accuracy                           1.00     10297\n",
      "   macro avg       1.00      1.00      1.00     10297\n",
      "weighted avg       1.00      1.00      1.00     10297\n",
      "\n",
      "total time elapsed:  7903.794376850128\n"
     ]
    }
   ],
   "source": [
    "metric_calculator(\"auto-sklearn\", \"spambase\", y_test, ds3_tpot_predictions)\n",
    "print(\"total time elapsed: \",end_time - start_time)"
   ]
  },
  {
   "cell_type": "markdown",
   "metadata": {},
   "source": [
    "<b> Model H2O </b>"
   ]
  },
  {
   "cell_type": "code",
   "execution_count": 92,
   "metadata": {},
   "outputs": [
    {
     "name": "stdout",
     "output_type": "stream",
     "text": [
      "Checking whether there is an H2O instance running at http://localhost:54321 . connected.\n"
     ]
    },
    {
     "data": {
      "text/html": [
       "<div style=\"overflow:auto\"><table style=\"width:50%\"><tr><td>H2O_cluster_uptime:</td>\n",
       "<td>21 hours 18 mins</td></tr>\n",
       "<tr><td>H2O_cluster_timezone:</td>\n",
       "<td>Etc/UTC</td></tr>\n",
       "<tr><td>H2O_data_parsing_timezone:</td>\n",
       "<td>UTC</td></tr>\n",
       "<tr><td>H2O_cluster_version:</td>\n",
       "<td>3.32.0.2</td></tr>\n",
       "<tr><td>H2O_cluster_version_age:</td>\n",
       "<td>28 days, 15 hours and 28 minutes </td></tr>\n",
       "<tr><td>H2O_cluster_name:</td>\n",
       "<td>H2O_from_python_jupyter_htc3nt</td></tr>\n",
       "<tr><td>H2O_cluster_total_nodes:</td>\n",
       "<td>1</td></tr>\n",
       "<tr><td>H2O_cluster_free_memory:</td>\n",
       "<td>5.330 Gb</td></tr>\n",
       "<tr><td>H2O_cluster_total_cores:</td>\n",
       "<td>8</td></tr>\n",
       "<tr><td>H2O_cluster_allowed_cores:</td>\n",
       "<td>8</td></tr>\n",
       "<tr><td>H2O_cluster_status:</td>\n",
       "<td>locked, healthy</td></tr>\n",
       "<tr><td>H2O_connection_url:</td>\n",
       "<td>http://localhost:54321</td></tr>\n",
       "<tr><td>H2O_connection_proxy:</td>\n",
       "<td>{\"http\": null, \"https\": null}</td></tr>\n",
       "<tr><td>H2O_internal_security:</td>\n",
       "<td>False</td></tr>\n",
       "<tr><td>H2O_API_Extensions:</td>\n",
       "<td>Amazon S3, XGBoost, Algos, AutoML, Core V3, TargetEncoder, Core V4</td></tr>\n",
       "<tr><td>Python_version:</td>\n",
       "<td>3.7.8 final</td></tr></table></div>"
      ],
      "text/plain": [
       "--------------------------  ------------------------------------------------------------------\n",
       "H2O_cluster_uptime:         21 hours 18 mins\n",
       "H2O_cluster_timezone:       Etc/UTC\n",
       "H2O_data_parsing_timezone:  UTC\n",
       "H2O_cluster_version:        3.32.0.2\n",
       "H2O_cluster_version_age:    28 days, 15 hours and 28 minutes\n",
       "H2O_cluster_name:           H2O_from_python_jupyter_htc3nt\n",
       "H2O_cluster_total_nodes:    1\n",
       "H2O_cluster_free_memory:    5.330 Gb\n",
       "H2O_cluster_total_cores:    8\n",
       "H2O_cluster_allowed_cores:  8\n",
       "H2O_cluster_status:         locked, healthy\n",
       "H2O_connection_url:         http://localhost:54321\n",
       "H2O_connection_proxy:       {\"http\": null, \"https\": null}\n",
       "H2O_internal_security:      False\n",
       "H2O_API_Extensions:         Amazon S3, XGBoost, Algos, AutoML, Core V3, TargetEncoder, Core V4\n",
       "Python_version:             3.7.8 final\n",
       "--------------------------  ------------------------------------------------------------------"
      ]
     },
     "metadata": {},
     "output_type": "display_data"
    },
    {
     "name": "stdout",
     "output_type": "stream",
     "text": [
      "Parse progress: |█████████████████████████████████████████████████████████| 100%\n",
      "AutoML progress: |████████████████████████████████████████████████████████| 100%\n",
      "Parse progress: |█████████████████████████████████████████████████████████| 100%\n",
      "stackedensemble prediction progress: |████████████████████████████████████| 100%\n",
      "various models tested:\n"
     ]
    },
    {
     "data": {
      "text/html": [
       "<table>\n",
       "<thead>\n",
       "<tr><th>model_id                                           </th><th style=\"text-align: right;\">     auc</th><th style=\"text-align: right;\">  logloss</th><th style=\"text-align: right;\">   aucpr</th><th style=\"text-align: right;\">  mean_per_class_error</th><th style=\"text-align: right;\">    rmse</th><th style=\"text-align: right;\">      mse</th><th style=\"text-align: right;\">  training_time_ms</th><th style=\"text-align: right;\">  predict_time_per_row_ms</th></tr>\n",
       "</thead>\n",
       "<tbody>\n",
       "<tr><td>StackedEnsemble_BestOfFamily_AutoML_20201216_070656</td><td style=\"text-align: right;\">0.948524</td><td style=\"text-align: right;\"> 0.192412</td><td style=\"text-align: right;\">0.664305</td><td style=\"text-align: right;\">              0.141878</td><td style=\"text-align: right;\">0.241443</td><td style=\"text-align: right;\">0.0582947</td><td style=\"text-align: right;\">              1592</td><td style=\"text-align: right;\">                 0.065912</td></tr>\n",
       "<tr><td>XGBoost_grid__1_AutoML_20201216_070656_model_11    </td><td style=\"text-align: right;\">0.948425</td><td style=\"text-align: right;\"> 0.173877</td><td style=\"text-align: right;\">0.664004</td><td style=\"text-align: right;\">              0.138118</td><td style=\"text-align: right;\">0.23636 </td><td style=\"text-align: right;\">0.0558661</td><td style=\"text-align: right;\">              2425</td><td style=\"text-align: right;\">                 0.007776</td></tr>\n",
       "<tr><td>XGBoost_grid__1_AutoML_20201216_070656_model_2     </td><td style=\"text-align: right;\">0.948266</td><td style=\"text-align: right;\"> 0.174288</td><td style=\"text-align: right;\">0.661531</td><td style=\"text-align: right;\">              0.135707</td><td style=\"text-align: right;\">0.236591</td><td style=\"text-align: right;\">0.0559752</td><td style=\"text-align: right;\">              3073</td><td style=\"text-align: right;\">                 0.009556</td></tr>\n",
       "<tr><td>XGBoost_grid__1_AutoML_20201216_070656_model_21    </td><td style=\"text-align: right;\">0.948066</td><td style=\"text-align: right;\"> 0.174754</td><td style=\"text-align: right;\">0.661083</td><td style=\"text-align: right;\">              0.146589</td><td style=\"text-align: right;\">0.236684</td><td style=\"text-align: right;\">0.0560194</td><td style=\"text-align: right;\">              3363</td><td style=\"text-align: right;\">                 0.009566</td></tr>\n",
       "<tr><td>XGBoost_grid__1_AutoML_20201216_070656_model_63    </td><td style=\"text-align: right;\">0.948049</td><td style=\"text-align: right;\"> 0.174699</td><td style=\"text-align: right;\">0.657175</td><td style=\"text-align: right;\">              0.147311</td><td style=\"text-align: right;\">0.237278</td><td style=\"text-align: right;\">0.0563008</td><td style=\"text-align: right;\">              2407</td><td style=\"text-align: right;\">                 0.006565</td></tr>\n",
       "<tr><td>XGBoost_grid__1_AutoML_20201216_070656_model_16    </td><td style=\"text-align: right;\">0.948009</td><td style=\"text-align: right;\"> 0.175887</td><td style=\"text-align: right;\">0.650429</td><td style=\"text-align: right;\">              0.152539</td><td style=\"text-align: right;\">0.238355</td><td style=\"text-align: right;\">0.0568132</td><td style=\"text-align: right;\">              3064</td><td style=\"text-align: right;\">                 0.007677</td></tr>\n",
       "<tr><td>GBM_grid__1_AutoML_20201216_070656_model_18        </td><td style=\"text-align: right;\">0.94791 </td><td style=\"text-align: right;\"> 0.175662</td><td style=\"text-align: right;\">0.653219</td><td style=\"text-align: right;\">              0.149311</td><td style=\"text-align: right;\">0.237103</td><td style=\"text-align: right;\">0.056218 </td><td style=\"text-align: right;\">              1870</td><td style=\"text-align: right;\">                 0.022674</td></tr>\n",
       "<tr><td>XGBoost_grid__1_AutoML_20201216_070656_model_25    </td><td style=\"text-align: right;\">0.947756</td><td style=\"text-align: right;\"> 0.175882</td><td style=\"text-align: right;\">0.651054</td><td style=\"text-align: right;\">              0.147457</td><td style=\"text-align: right;\">0.237977</td><td style=\"text-align: right;\">0.0566329</td><td style=\"text-align: right;\">              1965</td><td style=\"text-align: right;\">                 0.005247</td></tr>\n",
       "<tr><td>XGBoost_grid__1_AutoML_20201216_070656_model_6     </td><td style=\"text-align: right;\">0.9477  </td><td style=\"text-align: right;\"> 0.176839</td><td style=\"text-align: right;\">0.647576</td><td style=\"text-align: right;\">              0.14819 </td><td style=\"text-align: right;\">0.239204</td><td style=\"text-align: right;\">0.0572185</td><td style=\"text-align: right;\">              2906</td><td style=\"text-align: right;\">                 0.006634</td></tr>\n",
       "<tr><td>XGBoost_grid__1_AutoML_20201216_070656_model_29    </td><td style=\"text-align: right;\">0.947623</td><td style=\"text-align: right;\"> 0.175347</td><td style=\"text-align: right;\">0.658542</td><td style=\"text-align: right;\">              0.14786 </td><td style=\"text-align: right;\">0.237398</td><td style=\"text-align: right;\">0.0563579</td><td style=\"text-align: right;\">              1948</td><td style=\"text-align: right;\">                 0.005819</td></tr>\n",
       "</tbody>\n",
       "</table>"
      ]
     },
     "metadata": {},
     "output_type": "display_data"
    },
    {
     "name": "stdout",
     "output_type": "stream",
     "text": [
      "\n"
     ]
    }
   ],
   "source": [
    "X, y = Marketing.iloc[:,:-1], Marketing.iloc[:,-1]\n",
    "X_train, X_test, y_train, y_test = train_test_split(X, y, random_state=1)\n",
    "\n",
    "start_time = time.time()\n",
    "ds3_h2o_predictions = h2o_classifications(X_train, y_train, X_test, y.name)\n",
    "end_time = time.time()"
   ]
  },
  {
   "cell_type": "code",
   "execution_count": 93,
   "metadata": {},
   "outputs": [
    {
     "name": "stdout",
     "output_type": "stream",
     "text": [
      "Framework:  H2O\n",
      "log loss:  0.1904871474818192\n",
      "accuracy:  0.9090026221229485\n",
      "Classification report\n",
      "              precision    recall  f1-score   support\n",
      "\n",
      "           0       0.97      0.92      0.95      9132\n",
      "           1       0.57      0.80      0.66      1165\n",
      "\n",
      "    accuracy                           0.91     10297\n",
      "   macro avg       0.77      0.86      0.81     10297\n",
      "weighted avg       0.93      0.91      0.92     10297\n",
      "\n",
      "total time elapsed:  3048.9236533641815\n"
     ]
    }
   ],
   "source": [
    "#Calulating metrics\n",
    "metric_calculator(\"H2O\", \"bank-marketing\",y_test,ds3_h2o_predictions )\n",
    "print(\"total time elapsed: \",end_time - start_time)"
   ]
  }
 ],
 "metadata": {
  "environment": {
   "name": "common-cpu.m59",
   "type": "gcloud",
   "uri": "gcr.io/deeplearning-platform-release/base-cpu:m59"
  },
  "kernelspec": {
   "display_name": "Python 3",
   "language": "python",
   "name": "python3"
  },
  "language_info": {
   "codemirror_mode": {
    "name": "ipython",
    "version": 3
   },
   "file_extension": ".py",
   "mimetype": "text/x-python",
   "name": "python",
   "nbconvert_exporter": "python",
   "pygments_lexer": "ipython3",
   "version": "3.9.0"
  }
 },
 "nbformat": 4,
 "nbformat_minor": 4
}
