{
  "nbformat": 4,
  "nbformat_minor": 0,
  "metadata": {
    "colab": {
      "name": "manual_spambase.ipynb",
      "provenance": []
    },
    "kernelspec": {
      "name": "python3",
      "display_name": "Python 3"
    }
  },
  "cells": [
    {
      "cell_type": "code",
      "metadata": {
        "id": "it6grvcx0D0o"
      },
      "source": [
        "\n",
        "import pandas as pd\n",
        "from sklearn import metrics\n",
        "from sklearn.naive_bayes import MultinomialNB\n",
        "import time\n",
        "from sklearn.datasets import fetch_openml\n",
        "from sklearn.model_selection import train_test_split"
      ],
      "execution_count": null,
      "outputs": []
    },
    {
      "cell_type": "code",
      "metadata": {
        "colab": {
          "base_uri": "https://localhost:8080/"
        },
        "id": "KYNHXq-Q3zL4",
        "outputId": "7e5b4147-ad52-45ac-b542-c5727cc48540"
      },
      "source": [
        "start_time = time.time()\n",
        "X, y = fetch_openml('spambase', version=1, return_X_y=True, as_frame=True)\n",
        "X_train, X_test, y_train, y_test = train_test_split(X, y, random_state=1)\n",
        "\n",
        "nb = MultinomialNB()\n",
        "nb.fit(X_train, y_train)\n",
        "y_pred = nb.predict(X_test)\n",
        "metrics.accuracy_score(y_test, y_pred)\n",
        "\n"
      ],
      "execution_count": null,
      "outputs": [
        {
          "output_type": "execute_result",
          "data": {
            "text/plain": [
              "0.787141615986099"
            ]
          },
          "metadata": {
            "tags": []
          },
          "execution_count": 9
        }
      ]
    },
    {
      "cell_type": "code",
      "metadata": {
        "colab": {
          "base_uri": "https://localhost:8080/"
        },
        "id": "Umo1a6VM35l-",
        "outputId": "377987e8-447e-4242-a837-c3f7b62c4c98"
      },
      "source": [
        "from sklearn.model_selection import cross_val_score\n",
        "\n",
        "scores = cross_val_score(nb, X_train, y_train, cv=10, scoring='accuracy')\n",
        "print(scores)\n",
        "\n",
        "scores.mean()\n",
        "end_time = time.time()"
      ],
      "execution_count": null,
      "outputs": [
        {
          "output_type": "stream",
          "text": [
            "[0.79130435 0.77971014 0.77101449 0.80289855 0.7826087  0.81449275\n",
            " 0.78550725 0.81449275 0.7826087  0.81449275]\n"
          ],
          "name": "stdout"
        }
      ]
    },
    {
      "cell_type": "code",
      "metadata": {
        "colab": {
          "base_uri": "https://localhost:8080/"
        },
        "id": "24B-vO4sDF_0",
        "outputId": "1f977b48-d280-4e33-b077-dcd2cd00ae93"
      },
      "source": [
        "print(\"time taken: \", end_time - start_time)"
      ],
      "execution_count": null,
      "outputs": [
        {
          "output_type": "stream",
          "text": [
            "time taken:  1.8332350254058838\n"
          ],
          "name": "stdout"
        }
      ]
    }
  ]
}